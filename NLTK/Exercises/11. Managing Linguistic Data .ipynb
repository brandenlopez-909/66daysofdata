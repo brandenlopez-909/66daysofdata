{
 "cells": [
  {
   "cell_type": "markdown",
   "metadata": {},
   "source": [
    "# 1. \n",
    "\n",
    "In 5.1 the new field appeared at the bottom of the entry. Modify this program so that it inserts the new subelement right after the lx field. (Hint: create the new cv field using Element('cv'), assign a text value to it, then use the insert() method of the parent element.)\n",
    "\n"
   ]
  },
  {
   "cell_type": "code",
   "execution_count": 1,
   "metadata": {},
   "outputs": [],
   "source": [
    "from xml.etree.ElementTree import SubElement\n",
    "from xml.etree.ElementTree import Element\n",
    "# function cv() which maps a string of consonants and vowels to the corresponding CV sequence\n",
    "def cv(s):\n",
    "    s = s.lower()\n",
    "    s = re.sub(r'[^a-z]',     r'_', s)\n",
    "    s = re.sub(r'[aeiou]',    r'V', s)\n",
    "    s = re.sub(r'[^V_]',      r'C', s)\n",
    "    return (s)\n",
    "\n",
    "def add_cv_field(entry):\n",
    "    for i, field in enumerate(entry):\n",
    "        if field.tag == 'lx':\n",
    "            cv_field = Element('cv')\n",
    "            #cv_field = SubElement(entry, 'cv')\n",
    "            cv_field.text = cv(field.text)\n",
    "            entry.insert(i+1, cv_field)\n",
    "            \n",
    "            "
   ]
  },
  {
   "cell_type": "code",
   "execution_count": 2,
   "metadata": {},
   "outputs": [
    {
     "name": "stdout",
     "output_type": "stream",
     "text": [
      "Help on built-in function SubElement in module _elementtree:\n",
      "\n",
      "SubElement(...)\n",
      "\n"
     ]
    }
   ],
   "source": [
    "help(SubElement)"
   ]
  },
  {
   "cell_type": "code",
   "execution_count": 3,
   "metadata": {
    "scrolled": true
   },
   "outputs": [
    {
     "name": "stdout",
     "output_type": "stream",
     "text": [
      "Help on class Element in module xml.etree.ElementTree:\n",
      "\n",
      "class Element(builtins.object)\n",
      " |  Methods defined here:\n",
      " |  \n",
      " |  __copy__(self, /)\n",
      " |  \n",
      " |  __deepcopy__(self, memo, /)\n",
      " |  \n",
      " |  __delitem__(self, key, /)\n",
      " |      Delete self[key].\n",
      " |  \n",
      " |  __getattribute__(self, name, /)\n",
      " |      Return getattr(self, name).\n",
      " |  \n",
      " |  __getitem__(self, key, /)\n",
      " |      Return self[key].\n",
      " |  \n",
      " |  __getstate__(self, /)\n",
      " |  \n",
      " |  __init__(self, /, *args, **kwargs)\n",
      " |      Initialize self.  See help(type(self)) for accurate signature.\n",
      " |  \n",
      " |  __len__(self, /)\n",
      " |      Return len(self).\n",
      " |  \n",
      " |  __repr__(self, /)\n",
      " |      Return repr(self).\n",
      " |  \n",
      " |  __setitem__(self, key, value, /)\n",
      " |      Set self[key] to value.\n",
      " |  \n",
      " |  __setstate__(self, state, /)\n",
      " |  \n",
      " |  __sizeof__(self, /)\n",
      " |      Size of object in memory, in bytes.\n",
      " |  \n",
      " |  append(self, subelement, /)\n",
      " |  \n",
      " |  clear(self, /)\n",
      " |  \n",
      " |  extend(self, elements, /)\n",
      " |  \n",
      " |  find(self, /, path, namespaces=None)\n",
      " |  \n",
      " |  findall(self, /, path, namespaces=None)\n",
      " |  \n",
      " |  findtext(self, /, path, default=None, namespaces=None)\n",
      " |  \n",
      " |  get(self, /, key, default=None)\n",
      " |  \n",
      " |  getchildren(self, /)\n",
      " |  \n",
      " |  getiterator(self, /, tag=None)\n",
      " |  \n",
      " |  insert(self, index, subelement, /)\n",
      " |  \n",
      " |  items(self, /)\n",
      " |  \n",
      " |  iter(self, /, tag=None)\n",
      " |  \n",
      " |  iterfind(self, /, path, namespaces=None)\n",
      " |  \n",
      " |  itertext(self, /)\n",
      " |  \n",
      " |  keys(self, /)\n",
      " |  \n",
      " |  makeelement(self, tag, attrib, /)\n",
      " |  \n",
      " |  remove(self, subelement, /)\n",
      " |  \n",
      " |  set(self, key, value, /)\n",
      " |  \n",
      " |  ----------------------------------------------------------------------\n",
      " |  Static methods defined here:\n",
      " |  \n",
      " |  __new__(*args, **kwargs) from builtins.type\n",
      " |      Create and return a new object.  See help(type) for accurate signature.\n",
      " |  \n",
      " |  ----------------------------------------------------------------------\n",
      " |  Data descriptors defined here:\n",
      " |  \n",
      " |  attrib\n",
      " |      A dictionary containing the element's attributes\n",
      " |  \n",
      " |  tag\n",
      " |      A string identifying what kind of data this element represents\n",
      " |  \n",
      " |  tail\n",
      " |      A string of text directly after the end tag, or None\n",
      " |  \n",
      " |  text\n",
      " |      A string of text directly after the start tag, or None\n",
      "\n"
     ]
    }
   ],
   "source": [
    "help(Element)"
   ]
  },
  {
   "cell_type": "code",
   "execution_count": 4,
   "metadata": {},
   "outputs": [],
   "source": [
    "from nltk.corpus import toolbox\n",
    "lexicon = toolbox.xml('rotokas.dic')"
   ]
  },
  {
   "cell_type": "code",
   "execution_count": 5,
   "metadata": {},
   "outputs": [
    {
     "name": "stdout",
     "output_type": "stream",
     "text": [
      "\\lx kaeviro\n",
      "\\cv CVVCVCV\n",
      "\\ps V\n",
      "\\pt A\n",
      "\\ge lift off\n",
      "\\ge take off\n",
      "\\tkp go antap\n",
      "\\sc MOTION\n",
      "\\vx 1\n",
      "\\nt used to describe action of plane\n",
      "\\dt 03/Jun/2005\n",
      "\\ex Pita kaeviroroe kepa kekesia oa vuripierevo kiuvu.\n",
      "\\xp Pita i go antap na lukim haus win i bagarapim.\n",
      "\\xe Peter went to look at the house that the wind destroyed.\n",
      "\n"
     ]
    }
   ],
   "source": [
    "import re \n",
    "import nltk \n",
    "lexicon = toolbox.xml('rotokas.dic')\n",
    "add_cv_field(lexicon[53])\n",
    "print(nltk.toolbox.to_sfm_string(lexicon[53]))"
   ]
  },
  {
   "cell_type": "markdown",
   "metadata": {},
   "source": [
    "# 2. \n",
    "Write a function that deletes a specified field from a lexical entry. (We could use this to sanitize our lexical data before giving it to others, e.g. by removing fields containing irrelevant or uncertain content.)"
   ]
  },
  {
   "cell_type": "code",
   "execution_count": 6,
   "metadata": {
    "scrolled": true
   },
   "outputs": [
    {
     "name": "stdout",
     "output_type": "stream",
     "text": [
      "Help on class Element in module xml.etree.ElementTree:\n",
      "\n",
      "class Element(builtins.object)\n",
      " |  Methods defined here:\n",
      " |  \n",
      " |  __copy__(self, /)\n",
      " |  \n",
      " |  __deepcopy__(self, memo, /)\n",
      " |  \n",
      " |  __delitem__(self, key, /)\n",
      " |      Delete self[key].\n",
      " |  \n",
      " |  __getattribute__(self, name, /)\n",
      " |      Return getattr(self, name).\n",
      " |  \n",
      " |  __getitem__(self, key, /)\n",
      " |      Return self[key].\n",
      " |  \n",
      " |  __getstate__(self, /)\n",
      " |  \n",
      " |  __init__(self, /, *args, **kwargs)\n",
      " |      Initialize self.  See help(type(self)) for accurate signature.\n",
      " |  \n",
      " |  __len__(self, /)\n",
      " |      Return len(self).\n",
      " |  \n",
      " |  __repr__(self, /)\n",
      " |      Return repr(self).\n",
      " |  \n",
      " |  __setitem__(self, key, value, /)\n",
      " |      Set self[key] to value.\n",
      " |  \n",
      " |  __setstate__(self, state, /)\n",
      " |  \n",
      " |  __sizeof__(self, /)\n",
      " |      Size of object in memory, in bytes.\n",
      " |  \n",
      " |  append(self, subelement, /)\n",
      " |  \n",
      " |  clear(self, /)\n",
      " |  \n",
      " |  extend(self, elements, /)\n",
      " |  \n",
      " |  find(self, /, path, namespaces=None)\n",
      " |  \n",
      " |  findall(self, /, path, namespaces=None)\n",
      " |  \n",
      " |  findtext(self, /, path, default=None, namespaces=None)\n",
      " |  \n",
      " |  get(self, /, key, default=None)\n",
      " |  \n",
      " |  getchildren(self, /)\n",
      " |  \n",
      " |  getiterator(self, /, tag=None)\n",
      " |  \n",
      " |  insert(self, index, subelement, /)\n",
      " |  \n",
      " |  items(self, /)\n",
      " |  \n",
      " |  iter(self, /, tag=None)\n",
      " |  \n",
      " |  iterfind(self, /, path, namespaces=None)\n",
      " |  \n",
      " |  itertext(self, /)\n",
      " |  \n",
      " |  keys(self, /)\n",
      " |  \n",
      " |  makeelement(self, tag, attrib, /)\n",
      " |  \n",
      " |  remove(self, subelement, /)\n",
      " |  \n",
      " |  set(self, key, value, /)\n",
      " |  \n",
      " |  ----------------------------------------------------------------------\n",
      " |  Static methods defined here:\n",
      " |  \n",
      " |  __new__(*args, **kwargs) from builtins.type\n",
      " |      Create and return a new object.  See help(type) for accurate signature.\n",
      " |  \n",
      " |  ----------------------------------------------------------------------\n",
      " |  Data descriptors defined here:\n",
      " |  \n",
      " |  attrib\n",
      " |      A dictionary containing the element's attributes\n",
      " |  \n",
      " |  tag\n",
      " |      A string identifying what kind of data this element represents\n",
      " |  \n",
      " |  tail\n",
      " |      A string of text directly after the end tag, or None\n",
      " |  \n",
      " |  text\n",
      " |      A string of text directly after the start tag, or None\n",
      "\n"
     ]
    }
   ],
   "source": [
    "help(Element)"
   ]
  },
  {
   "cell_type": "code",
   "execution_count": 7,
   "metadata": {},
   "outputs": [],
   "source": [
    "def remove_field(entry):\n",
    "    for i, field in enumerate(entry):\n",
    "        if field.tag == 'lx':\n",
    "            entry.remove(field)"
   ]
  },
  {
   "cell_type": "code",
   "execution_count": 8,
   "metadata": {},
   "outputs": [
    {
     "name": "stdout",
     "output_type": "stream",
     "text": [
      "\\lx kaetuvira\n",
      "\\ps ADV\n",
      "\\pt MANNER\n",
      "\\ge tight\n",
      "\\ge stiff\n",
      "\\ge taut\n",
      "\\tkp tait\n",
      "\\cmt Is it kaitu or kaetu?\n",
      "\\dt 03/Jun/2005\n",
      "\\ex Iroiro vao kaetuvira toupai.\n",
      "\\xp Dispela rop em tait tumas.\n",
      "\\xe This rope is too tight.\n",
      "\n"
     ]
    }
   ],
   "source": [
    "print(nltk.toolbox.to_sfm_string(lexicon[52]))"
   ]
  },
  {
   "cell_type": "code",
   "execution_count": 9,
   "metadata": {},
   "outputs": [
    {
     "name": "stdout",
     "output_type": "stream",
     "text": [
      "\\ps ADV\n",
      "\\pt MANNER\n",
      "\\ge tight\n",
      "\\ge stiff\n",
      "\\ge taut\n",
      "\\tkp tait\n",
      "\\cmt Is it kaitu or kaetu?\n",
      "\\dt 03/Jun/2005\n",
      "\\ex Iroiro vao kaetuvira toupai.\n",
      "\\xp Dispela rop em tait tumas.\n",
      "\\xe This rope is too tight.\n",
      "\n"
     ]
    }
   ],
   "source": [
    "remove_field(lexicon[52])\n",
    "print(nltk.toolbox.to_sfm_string(lexicon[52]))"
   ]
  },
  {
   "cell_type": "markdown",
   "metadata": {},
   "source": [
    "# 3.\n",
    "\n",
    "Write a program that scans an HTML dictionary file to find entries having an illegal part-of-speech field, and reports the headword for each entry."
   ]
  },
  {
   "cell_type": "code",
   "execution_count": 10,
   "metadata": {},
   "outputs": [],
   "source": [
    "html = \"\"\"\n",
    "<p class=MsoNormal>sleep\n",
    "  <span style='mso-spacerun:yes'> </span>\n",
    "  [<span class=SpellE>sli:p</span>]\n",
    "  <span style='mso-spacerun:yes'> </span>\n",
    "  <b><span style='font-size:11.0pt'>v.i.</span></b>\n",
    "  <span style='mso-spacerun:yes'> </span>\n",
    "  <i>a condition of body and mind ...<o:p></o:p></i>\n",
    "</p>\n",
    "\"\"\"\n",
    "\n",
    "Html_file= open(\"dict.htm\",\"w\")\n",
    "Html_file.write(html)\n",
    "Html_file.close()"
   ]
  },
  {
   "cell_type": "code",
   "execution_count": 11,
   "metadata": {},
   "outputs": [
    {
     "name": "stdout",
     "output_type": "stream",
     "text": [
      "[]\n"
     ]
    }
   ],
   "source": [
    "#From the book the we used \n",
    "legal_pos = set(['n', 'v.t.', 'v.i.', 'adj', 'det'])\n",
    "pattern = re.compile(r\"'font-size:11.0pt'>([a-z.]+)<\")\n",
    "document = open(\"dict.htm\", encoding=\"utf8\").read()\n",
    "used_pos = set(re.findall(pattern, document))\n",
    "illegal_pos = used_pos.difference(legal_pos)\n",
    "print(list(illegal_pos))"
   ]
  },
  {
   "cell_type": "code",
   "execution_count": 12,
   "metadata": {},
   "outputs": [
    {
     "data": {
      "text/plain": [
       "\"\\n<p class=MsoNormal>sleep\\n  <span style='mso-spacerun:yes'> </span>\\n  [<span class=SpellE>sli:p</span>]\\n  <span style='mso-spacerun:yes'> </span>\\n  <b><span style='font-size:11.0pt'>v.i.</span></b>\\n  <span style='mso-spacerun:yes'> </span>\\n  <i>a condition of body and mind ...<o:p></o:p></i>\\n</p>\\n\""
      ]
     },
     "execution_count": 12,
     "metadata": {},
     "output_type": "execute_result"
    }
   ],
   "source": [
    "document"
   ]
  },
  {
   "cell_type": "code",
   "execution_count": 13,
   "metadata": {},
   "outputs": [
    {
     "data": {
      "text/plain": [
       "set()"
      ]
     },
     "execution_count": 13,
     "metadata": {},
     "output_type": "execute_result"
    }
   ],
   "source": [
    "illegal_pos"
   ]
  },
  {
   "cell_type": "code",
   "execution_count": 14,
   "metadata": {},
   "outputs": [
    {
     "data": {
      "text/plain": [
       "{'v.i.'}"
      ]
     },
     "execution_count": 14,
     "metadata": {},
     "output_type": "execute_result"
    }
   ],
   "source": [
    "used_pos"
   ]
  },
  {
   "cell_type": "markdown",
   "metadata": {},
   "source": [
    "The off thing about this problem is that the example given in the book was clearly not what they wanted. I want a further guidance of this. To grab the head we would use a regex to grap the first text entru. That is right after <p class= MsoNormal \\> furthermore we would have to alter this depending on what was given to us. "
   ]
  },
  {
   "cell_type": "markdown",
   "metadata": {},
   "source": [
    "# 4. \n",
    "\n",
    "Write a program to find any parts of speech (ps field) that occurred less than ten times. Perhaps these are typing mistakes?"
   ]
  },
  {
   "cell_type": "code",
   "execution_count": 15,
   "metadata": {},
   "outputs": [
    {
     "data": {
      "text/plain": [
       "[('CLASS', 6), ('FFP', 1), ('NUM', 1), ('POST', 1), ('EXCL', 1)]"
      ]
     },
     "execution_count": 15,
     "metadata": {},
     "output_type": "execute_result"
    }
   ],
   "source": [
    "from collections import Counter\n",
    "\n",
    "POSs = [field.text for entry in lexicon for field in entry if field.tag == 'ps']\n",
    "POS_freq = Counter(POSs)\n",
    "\n",
    "[(k, v) for k, v in POS_freq.items() if v < 10]"
   ]
  },
  {
   "cell_type": "markdown",
   "metadata": {},
   "source": [
    "# 5. \n",
    "\n",
    "We saw a method for discovering cases of whole-word reduplication. Write a function to find words that may contain partial reduplication. Use the re.search() method, and the following regular expression: (..+)\\1\n",
    "\n"
   ]
  },
  {
   "cell_type": "code",
   "execution_count": 16,
   "metadata": {},
   "outputs": [],
   "source": [
    "def find_partial_redup(word):\n",
    "    \"\"\"\n",
    "    Finds partial reduplication in word\n",
    "    \"\"\"\n",
    "    return re.search(r'(..+)\\1', word)[0]"
   ]
  },
  {
   "cell_type": "code",
   "execution_count": 17,
   "metadata": {},
   "outputs": [
    {
     "data": {
      "text/plain": [
       "'redred'"
      ]
     },
     "execution_count": 17,
     "metadata": {},
     "output_type": "execute_result"
    }
   ],
   "source": [
    "\n",
    "find_partial_redup('redredwine')"
   ]
  },
  {
   "cell_type": "markdown",
   "metadata": {},
   "source": [
    "# 6 \n",
    "\n",
    "We saw a method for adding a cv field. There is an interesting issue with keeping this up-to-date when someone modifies the content of the lx field on which it is based. Write a version of this program to add a cv field, replacing any existing cv field.\n",
    "\n"
   ]
  },
  {
   "cell_type": "code",
   "execution_count": 18,
   "metadata": {},
   "outputs": [
    {
     "name": "stdout",
     "output_type": "stream",
     "text": [
      "\\lx karepie\n",
      "\\cv CVCVCVV\n",
      "\\rt kare\n",
      "\\ps V\n",
      "\\pt B\n",
      "\\ge return\n",
      "\\tkp bekim\n",
      "\\eng return\n",
      "\\eng pay back\n",
      "\\eng send back\n",
      "\\arg O\n",
      "\\vx 2\n",
      "\\dt 08/Jun/2005\n",
      "\\ex Vii vaaro vukua oa vii iare karepieavere.\n",
      "\\xp ???\n",
      "\\xe I will return your book to you.\n",
      "\\ex Oire vii varo vukua karepieavere.\n",
      "\\xp Em i orait, bai mi bekim buk bilong yu.\n",
      "\\xe Okay, I'll give you your book back.\n",
      "\n"
     ]
    }
   ],
   "source": [
    "#Examine an entry lexicon\n",
    "add_cv_field(lexicon[203])\n",
    "print(nltk.toolbox.to_sfm_string(lexicon[203]))"
   ]
  },
  {
   "cell_type": "code",
   "execution_count": 19,
   "metadata": {},
   "outputs": [],
   "source": [
    "#change lexicon\n",
    "lexicon[203].findall('lx')[0].text = 'karepieavere'"
   ]
  },
  {
   "cell_type": "code",
   "execution_count": 20,
   "metadata": {},
   "outputs": [],
   "source": [
    "def cv(s):\n",
    "    s = s.lower()\n",
    "    s = re.sub(r'[^a-z]',  r'_', s)\n",
    "    s = re.sub(r'[aeiou]', r'V', s)\n",
    "    s = re.sub(r'[^V_]',   r'C', s)\n",
    "    return s\n",
    "\n",
    "def update_cv_field(entry):\n",
    "    for field in entry:\n",
    "        if field.tag == 'lx':\n",
    "            #Simple run the original algorithm again\n",
    "            new_cv_field = cv(field.text)\n",
    "            #Save the new cv to the entry\n",
    "            entry.findall('cv')[0].text = new_cv_field"
   ]
  },
  {
   "cell_type": "code",
   "execution_count": 21,
   "metadata": {},
   "outputs": [],
   "source": [
    "update_cv_field(lexicon[203])"
   ]
  },
  {
   "cell_type": "code",
   "execution_count": 22,
   "metadata": {},
   "outputs": [
    {
     "name": "stdout",
     "output_type": "stream",
     "text": [
      "\\lx karepieavere\n",
      "\\cv CVCVCVVVCVCV\n",
      "\\rt kare\n",
      "\\ps V\n",
      "\\pt B\n",
      "\\ge return\n",
      "\\tkp bekim\n",
      "\\eng return\n",
      "\\eng pay back\n",
      "\\eng send back\n",
      "\\arg O\n",
      "\\vx 2\n",
      "\\dt 08/Jun/2005\n",
      "\\ex Vii vaaro vukua oa vii iare karepieavere.\n",
      "\\xp ???\n",
      "\\xe I will return your book to you.\n",
      "\\ex Oire vii varo vukua karepieavere.\n",
      "\\xp Em i orait, bai mi bekim buk bilong yu.\n",
      "\\xe Okay, I'll give you your book back.\n",
      "\n"
     ]
    }
   ],
   "source": [
    "print(nltk.toolbox.to_sfm_string(lexicon[203]))"
   ]
  },
  {
   "cell_type": "markdown",
   "metadata": {},
   "source": [
    "Tah-dah! The consonent, vowel entry has been updated! "
   ]
  },
  {
   "cell_type": "markdown",
   "metadata": {},
   "source": [
    "# 7. \n",
    "\n",
    "Write a function to add a new field syl which gives a count of the number of syllables in the word."
   ]
  },
  {
   "cell_type": "markdown",
   "metadata": {},
   "source": [
    "In this we must, make a funciton that gets the numebr of syyllables for the word. Use the Element method above to add it the given lexicon \n",
    "\n",
    "This would require use to look up the word from a wordnet.\n",
    "\n",
    "Rather than deep dive into Rotokas(wordnet) I would rather skip this one. \n",
    "\n",
    "Solutions verified there is not an easy way to do it and most reliable ways of doing this use a lookup table. "
   ]
  },
  {
   "cell_type": "markdown",
   "metadata": {},
   "source": [
    "# 8.\n",
    "\n",
    "Write a function which displays the complete entry for a lexeme. When the lexeme is incorrectly spelled it should display the entry for the most similarly spelled lexeme."
   ]
  },
  {
   "cell_type": "code",
   "execution_count": 23,
   "metadata": {},
   "outputs": [],
   "source": [
    "#I was not feeling this, so this is the solution from the book. \n",
    "from xml.etree.ElementTree import Element\n",
    " \n",
    "def display_complete_entry(lexicon, lexeme, tag = 'lx'):\n",
    "    \"\"\"\n",
    "    Displays complete entry for a lexeme.  If lexeme is \n",
    "    incorrectly spelled, the entry for the most similary \n",
    "    spelled is displayed.\n",
    "    \n",
    "    Arguments:\n",
    "    \n",
    "    lexicon: Must be an xml Element. Lexem\n",
    "    lexeme:  String.  If not found, most similarly \n",
    "             spelled lexeme is used.\n",
    "    tag:     Lexeme tag in the lexicon.  Default is 'lx'.\n",
    "    \"\"\"\n",
    "    \n",
    "    assert isinstance(lexicon, Element), 'Entry must be an xml Element'\n",
    "    \n",
    "    for entry in lexicon:\n",
    "        for field in entry:\n",
    "            if field.tag == tag:\n",
    "                if field.text == lexeme:\n",
    "                    print(nltk.toolbox.to_sfm_string(entry))\n",
    "                    return\n",
    "                \n",
    "    \n",
    "    lexs = [field.text for entry in lexicon for field in entry \n",
    "               if field.tag == tag]\n",
    "    \n",
    "    new_lex = rank(lexeme, lexs)[0]\n",
    "    eight_trial(lexicon, new_lex)"
   ]
  },
  {
   "cell_type": "code",
   "execution_count": 24,
   "metadata": {
    "scrolled": true
   },
   "outputs": [
    {
     "name": "stdout",
     "output_type": "stream",
     "text": [
      "\\lx kaeviro\n",
      "\\cv CVVCVCV\n",
      "\\ps V\n",
      "\\pt A\n",
      "\\ge lift off\n",
      "\\ge take off\n",
      "\\tkp go antap\n",
      "\\sc MOTION\n",
      "\\vx 1\n",
      "\\nt used to describe action of plane\n",
      "\\dt 03/Jun/2005\n",
      "\\ex Pita kaeviroroe kepa kekesia oa vuripierevo kiuvu.\n",
      "\\xp Pita i go antap na lukim haus win i bagarapim.\n",
      "\\xe Peter went to look at the house that the wind destroyed.\n",
      "\n"
     ]
    }
   ],
   "source": [
    "display_complete_entry(lexicon, 'kaeviro')"
   ]
  },
  {
   "cell_type": "markdown",
   "metadata": {},
   "source": [
    "# 9 \n",
    "\n",
    "Write a function that takes a lexicon and finds which pairs of consecutive fields are most frequent (e.g. ps is often followed by pt). (This might help us to discover some of the structure of a lexical entry.)"
   ]
  },
  {
   "cell_type": "code",
   "execution_count": 81,
   "metadata": {},
   "outputs": [
    {
     "name": "stdout",
     "output_type": "stream",
     "text": [
      "Help on class Counter in module collections:\n",
      "\n",
      "class Counter(builtins.dict)\n",
      " |  Counter(*args, **kwds)\n",
      " |  \n",
      " |  Dict subclass for counting hashable items.  Sometimes called a bag\n",
      " |  or multiset.  Elements are stored as dictionary keys and their counts\n",
      " |  are stored as dictionary values.\n",
      " |  \n",
      " |  >>> c = Counter('abcdeabcdabcaba')  # count elements from a string\n",
      " |  \n",
      " |  >>> c.most_common(3)                # three most common elements\n",
      " |  [('a', 5), ('b', 4), ('c', 3)]\n",
      " |  >>> sorted(c)                       # list all unique elements\n",
      " |  ['a', 'b', 'c', 'd', 'e']\n",
      " |  >>> ''.join(sorted(c.elements()))   # list elements with repetitions\n",
      " |  'aaaaabbbbcccdde'\n",
      " |  >>> sum(c.values())                 # total of all counts\n",
      " |  15\n",
      " |  \n",
      " |  >>> c['a']                          # count of letter 'a'\n",
      " |  5\n",
      " |  >>> for elem in 'shazam':           # update counts from an iterable\n",
      " |  ...     c[elem] += 1                # by adding 1 to each element's count\n",
      " |  >>> c['a']                          # now there are seven 'a'\n",
      " |  7\n",
      " |  >>> del c['b']                      # remove all 'b'\n",
      " |  >>> c['b']                          # now there are zero 'b'\n",
      " |  0\n",
      " |  \n",
      " |  >>> d = Counter('simsalabim')       # make another counter\n",
      " |  >>> c.update(d)                     # add in the second counter\n",
      " |  >>> c['a']                          # now there are nine 'a'\n",
      " |  9\n",
      " |  \n",
      " |  >>> c.clear()                       # empty the counter\n",
      " |  >>> c\n",
      " |  Counter()\n",
      " |  \n",
      " |  Note:  If a count is set to zero or reduced to zero, it will remain\n",
      " |  in the counter until the entry is deleted or the counter is cleared:\n",
      " |  \n",
      " |  >>> c = Counter('aaabbc')\n",
      " |  >>> c['b'] -= 2                     # reduce the count of 'b' by two\n",
      " |  >>> c.most_common()                 # 'b' is still in, but its count is zero\n",
      " |  [('a', 3), ('c', 1), ('b', 0)]\n",
      " |  \n",
      " |  Method resolution order:\n",
      " |      Counter\n",
      " |      builtins.dict\n",
      " |      builtins.object\n",
      " |  \n",
      " |  Methods defined here:\n",
      " |  \n",
      " |  __add__(self, other)\n",
      " |      Add counts from two counters.\n",
      " |      \n",
      " |      >>> Counter('abbb') + Counter('bcc')\n",
      " |      Counter({'b': 4, 'c': 2, 'a': 1})\n",
      " |  \n",
      " |  __and__(self, other)\n",
      " |      Intersection is the minimum of corresponding counts.\n",
      " |      \n",
      " |      >>> Counter('abbb') & Counter('bcc')\n",
      " |      Counter({'b': 1})\n",
      " |  \n",
      " |  __delitem__(self, elem)\n",
      " |      Like dict.__delitem__() but does not raise KeyError for missing values.\n",
      " |  \n",
      " |  __iadd__(self, other)\n",
      " |      Inplace add from another counter, keeping only positive counts.\n",
      " |      \n",
      " |      >>> c = Counter('abbb')\n",
      " |      >>> c += Counter('bcc')\n",
      " |      >>> c\n",
      " |      Counter({'b': 4, 'c': 2, 'a': 1})\n",
      " |  \n",
      " |  __iand__(self, other)\n",
      " |      Inplace intersection is the minimum of corresponding counts.\n",
      " |      \n",
      " |      >>> c = Counter('abbb')\n",
      " |      >>> c &= Counter('bcc')\n",
      " |      >>> c\n",
      " |      Counter({'b': 1})\n",
      " |  \n",
      " |  __init__(*args, **kwds)\n",
      " |      Create a new, empty Counter object.  And if given, count elements\n",
      " |      from an input iterable.  Or, initialize the count from another mapping\n",
      " |      of elements to their counts.\n",
      " |      \n",
      " |      >>> c = Counter()                           # a new, empty counter\n",
      " |      >>> c = Counter('gallahad')                 # a new counter from an iterable\n",
      " |      >>> c = Counter({'a': 4, 'b': 2})           # a new counter from a mapping\n",
      " |      >>> c = Counter(a=4, b=2)                   # a new counter from keyword args\n",
      " |  \n",
      " |  __ior__(self, other)\n",
      " |      Inplace union is the maximum of value from either counter.\n",
      " |      \n",
      " |      >>> c = Counter('abbb')\n",
      " |      >>> c |= Counter('bcc')\n",
      " |      >>> c\n",
      " |      Counter({'b': 3, 'c': 2, 'a': 1})\n",
      " |  \n",
      " |  __isub__(self, other)\n",
      " |      Inplace subtract counter, but keep only results with positive counts.\n",
      " |      \n",
      " |      >>> c = Counter('abbbc')\n",
      " |      >>> c -= Counter('bccd')\n",
      " |      >>> c\n",
      " |      Counter({'b': 2, 'a': 1})\n",
      " |  \n",
      " |  __missing__(self, key)\n",
      " |      The count of elements not in the Counter is zero.\n",
      " |  \n",
      " |  __neg__(self)\n",
      " |      Subtracts from an empty counter.  Strips positive and zero counts,\n",
      " |      and flips the sign on negative counts.\n",
      " |  \n",
      " |  __or__(self, other)\n",
      " |      Union is the maximum of value in either of the input counters.\n",
      " |      \n",
      " |      >>> Counter('abbb') | Counter('bcc')\n",
      " |      Counter({'b': 3, 'c': 2, 'a': 1})\n",
      " |  \n",
      " |  __pos__(self)\n",
      " |      Adds an empty counter, effectively stripping negative and zero counts\n",
      " |  \n",
      " |  __reduce__(self)\n",
      " |      Helper for pickle.\n",
      " |  \n",
      " |  __repr__(self)\n",
      " |      Return repr(self).\n",
      " |  \n",
      " |  __sub__(self, other)\n",
      " |      Subtract count, but keep only results with positive counts.\n",
      " |      \n",
      " |      >>> Counter('abbbc') - Counter('bccd')\n",
      " |      Counter({'b': 2, 'a': 1})\n",
      " |  \n",
      " |  copy(self)\n",
      " |      Return a shallow copy.\n",
      " |  \n",
      " |  elements(self)\n",
      " |      Iterator over elements repeating each as many times as its count.\n",
      " |      \n",
      " |      >>> c = Counter('ABCABC')\n",
      " |      >>> sorted(c.elements())\n",
      " |      ['A', 'A', 'B', 'B', 'C', 'C']\n",
      " |      \n",
      " |      # Knuth's example for prime factors of 1836:  2**2 * 3**3 * 17**1\n",
      " |      >>> prime_factors = Counter({2: 2, 3: 3, 17: 1})\n",
      " |      >>> product = 1\n",
      " |      >>> for factor in prime_factors.elements():     # loop over factors\n",
      " |      ...     product *= factor                       # and multiply them\n",
      " |      >>> product\n",
      " |      1836\n",
      " |      \n",
      " |      Note, if an element's count has been set to zero or is a negative\n",
      " |      number, elements() will ignore it.\n",
      " |  \n",
      " |  most_common(self, n=None)\n",
      " |      List the n most common elements and their counts from the most\n",
      " |      common to the least.  If n is None, then list all element counts.\n",
      " |      \n",
      " |      >>> Counter('abcdeabcdabcaba').most_common(3)\n",
      " |      [('a', 5), ('b', 4), ('c', 3)]\n",
      " |  \n",
      " |  subtract(*args, **kwds)\n",
      " |      Like dict.update() but subtracts counts instead of replacing them.\n",
      " |      Counts can be reduced below zero.  Both the inputs and outputs are\n",
      " |      allowed to contain zero and negative counts.\n",
      " |      \n",
      " |      Source can be an iterable, a dictionary, or another Counter instance.\n",
      " |      \n",
      " |      >>> c = Counter('which')\n",
      " |      >>> c.subtract('witch')             # subtract elements from another iterable\n",
      " |      >>> c.subtract(Counter('watch'))    # subtract elements from another counter\n",
      " |      >>> c['h']                          # 2 in which, minus 1 in witch, minus 1 in watch\n",
      " |      0\n",
      " |      >>> c['w']                          # 1 in which, minus 1 in witch, minus 1 in watch\n",
      " |      -1\n",
      " |  \n",
      " |  update(*args, **kwds)\n",
      " |      Like dict.update() but add counts instead of replacing them.\n",
      " |      \n",
      " |      Source can be an iterable, a dictionary, or another Counter instance.\n",
      " |      \n",
      " |      >>> c = Counter('which')\n",
      " |      >>> c.update('witch')           # add elements from another iterable\n",
      " |      >>> d = Counter('watch')\n",
      " |      >>> c.update(d)                 # add elements from another counter\n",
      " |      >>> c['h']                      # four 'h' in which, witch, and watch\n",
      " |      4\n",
      " |  \n",
      " |  ----------------------------------------------------------------------\n",
      " |  Class methods defined here:\n",
      " |  \n",
      " |  fromkeys(iterable, v=None) from builtins.type\n",
      " |      Create a new dictionary with keys from iterable and values set to value.\n",
      " |  \n",
      " |  ----------------------------------------------------------------------\n",
      " |  Data descriptors defined here:\n",
      " |  \n",
      " |  __dict__\n",
      " |      dictionary for instance variables (if defined)\n",
      " |  \n",
      " |  __weakref__\n",
      " |      list of weak references to the object (if defined)\n",
      " |  \n",
      " |  ----------------------------------------------------------------------\n",
      " |  Methods inherited from builtins.dict:\n",
      " |  \n",
      " |  __contains__(self, key, /)\n",
      " |      True if the dictionary has the specified key, else False.\n",
      " |  \n",
      " |  __eq__(self, value, /)\n",
      " |      Return self==value.\n",
      " |  \n",
      " |  __ge__(self, value, /)\n",
      " |      Return self>=value.\n",
      " |  \n",
      " |  __getattribute__(self, name, /)\n",
      " |      Return getattr(self, name).\n",
      " |  \n",
      " |  __getitem__(...)\n",
      " |      x.__getitem__(y) <==> x[y]\n",
      " |  \n",
      " |  __gt__(self, value, /)\n",
      " |      Return self>value.\n",
      " |  \n",
      " |  __iter__(self, /)\n",
      " |      Implement iter(self).\n",
      " |  \n",
      " |  __le__(self, value, /)\n",
      " |      Return self<=value.\n",
      " |  \n",
      " |  __len__(self, /)\n",
      " |      Return len(self).\n",
      " |  \n",
      " |  __lt__(self, value, /)\n",
      " |      Return self<value.\n",
      " |  \n",
      " |  __ne__(self, value, /)\n",
      " |      Return self!=value.\n",
      " |  \n",
      " |  __setitem__(self, key, value, /)\n",
      " |      Set self[key] to value.\n",
      " |  \n",
      " |  __sizeof__(...)\n",
      " |      D.__sizeof__() -> size of D in memory, in bytes\n",
      " |  \n",
      " |  clear(...)\n",
      " |      D.clear() -> None.  Remove all items from D.\n",
      " |  \n",
      " |  get(self, key, default=None, /)\n",
      " |      Return the value for key if key is in the dictionary, else default.\n",
      " |  \n",
      " |  items(...)\n",
      " |      D.items() -> a set-like object providing a view on D's items\n",
      " |  \n",
      " |  keys(...)\n",
      " |      D.keys() -> a set-like object providing a view on D's keys\n",
      " |  \n",
      " |  pop(...)\n",
      " |      D.pop(k[,d]) -> v, remove specified key and return the corresponding value.\n",
      " |      If key is not found, d is returned if given, otherwise KeyError is raised\n",
      " |  \n",
      " |  popitem(...)\n",
      " |      D.popitem() -> (k, v), remove and return some (key, value) pair as a\n",
      " |      2-tuple; but raise KeyError if D is empty.\n",
      " |  \n",
      " |  setdefault(self, key, default=None, /)\n",
      " |      Insert key with a value of default if key is not in the dictionary.\n",
      " |      \n",
      " |      Return the value for key if key is in the dictionary, else default.\n",
      " |  \n",
      " |  values(...)\n",
      " |      D.values() -> an object providing a view on D's values\n",
      " |  \n",
      " |  ----------------------------------------------------------------------\n",
      " |  Static methods inherited from builtins.dict:\n",
      " |  \n",
      " |  __new__(*args, **kwargs) from builtins.type\n",
      " |      Create and return a new object.  See help(type) for accurate signature.\n",
      " |  \n",
      " |  ----------------------------------------------------------------------\n",
      " |  Data and other attributes inherited from builtins.dict:\n",
      " |  \n",
      " |  __hash__ = None\n",
      "\n"
     ]
    }
   ],
   "source": [
    "help(Counter)"
   ]
  },
  {
   "cell_type": "code",
   "execution_count": 91,
   "metadata": {},
   "outputs": [],
   "source": [
    "def consecutive_field(entry):\n",
    "    pairs = [] #(ps, pt)\n",
    "    ps= str();\n",
    "    pt= str();\n",
    "    for i, field in enumerate(entry):\n",
    "        if field.tag == 'ps':\n",
    "            ps = field.text\n",
    "        elif field.tag == 'pt':\n",
    "            pt = field.text\n",
    "    pairs.append((ps,pt))        \n",
    "    return pairs\n",
    "\n",
    "def iterate(lexicons):\n",
    "    counts = Counter() \n",
    "    for i in lexicons:\n",
    "        result = consecutive_field(i)\n",
    "        counts.update(result)\n",
    "    return counts"
   ]
  },
  {
   "cell_type": "code",
   "execution_count": 92,
   "metadata": {},
   "outputs": [
    {
     "name": "stdout",
     "output_type": "stream",
     "text": [
      "[('V', 'B')]\n"
     ]
    }
   ],
   "source": [
    "print(consecutive_field(lexicon[203]) )"
   ]
  },
  {
   "cell_type": "code",
   "execution_count": 93,
   "metadata": {},
   "outputs": [
    {
     "name": "stdout",
     "output_type": "stream",
     "text": [
      "Counter({('V', 'B'): 176, ('N', 'NT'): 146, ('V', 'A'): 110, ('N', 'FEM'): 91, ('N', 'MASC'): 79, ('ADV', 'MANNER'): 73, ('N', '???'): 64, ('N', 'HUM'): 52, ('???', ''): 43, ('N', 'PN'): 27, ('N', 'itoo'): 6, ('CLASS', ''): 6, ('N', 'ANIM'): 4, ('', ''): 2, ('V', '???'): 2, ('N', 'opo'): 2, ('FFP', ''): 1, ('NUM', ''): 1, ('POST', ''): 1, ('EXCL', ''): 1, ('N', 'CL'): 1, ('N', 'NT???'): 1, ('N', 'LOC'): 1})\n"
     ]
    }
   ],
   "source": [
    "print(iterate(lexicon))"
   ]
  },
  {
   "cell_type": "markdown",
   "metadata": {},
   "source": [
    "The most consecutive field is V,B. With N, NT in second. "
   ]
  },
  {
   "cell_type": "markdown",
   "metadata": {},
   "source": [
    "# 10. \n",
    "Create a spreadsheet using office software, containing one lexical entry per row, consisting of a headword, a part of speech, and a gloss. Save the spreadsheet in CSV format. Write Python code to read the CSV file and print it in Toolbox format, using lx for the headword, ps for the part of speech, and gl for the gloss."
   ]
  },
  {
   "cell_type": "markdown",
   "metadata": {},
   "source": [
    "For this example, we are using the csv they created in the solutions.\n",
    "\n",
    "This problem sucks."
   ]
  },
  {
   "cell_type": "markdown",
   "metadata": {},
   "source": [
    "# 11.\n",
    "\n",
    "Index the words of Shakespeare's plays, with the help of nltk.Index. The resulting data structure should permit lookup on individual words such as music, returning a list of references to acts, scenes and speeches, of the form [(3, 2, 9), (5, 1, 23), ...], where (3, 2, 9) indicates Act 3 Scene 2 Speech 9."
   ]
  },
  {
   "cell_type": "code",
   "execution_count": 134,
   "metadata": {},
   "outputs": [],
   "source": [
    "from xml.etree.ElementTree import ElementTree\n",
    "\n",
    "plays = [\"Anthony and Cleopatra\",\n",
    "         \"A Midsummer Night's Dream\",\n",
    "         \"Hamlet\",\n",
    "         \"Julius Caesar\",\n",
    "         \"MacBeth\",\n",
    "         \"The Merchant of Venice\",\n",
    "         \"Othello\",\n",
    "         \"Romeo and Juliet\"]\n",
    "\n",
    "\n",
    "def find_in_shakespeare(word):\n",
    "    print(\"The format for the references is [(A, S, P)], with A, S, P being respectively the Act, Scene, and Speech of the play.\\n\")\n",
    "    for pf, piece in zip(nltk.corpus.shakespeare.fileids(), plays):\n",
    "        play_file = nltk.data.find('corpora/shakespeare/{}'.format(pf))\n",
    "        play = ElementTree().parse(play_file)\n",
    "\n",
    "        refs = []\n",
    "\n",
    "        for i, act in enumerate(play.findall('ACT')):\n",
    "            for j, scene in enumerate(act.findall('SCENE')):\n",
    "                for k, speech in enumerate(scene.findall('SPEECH')):\n",
    "                    for line in speech.findall('LINE'):\n",
    "                        if word in str(line.text):\n",
    "                            refs.append((\"({}, {}, {})\".format(i + 1, j + 1, k + 1)))\n",
    "\n",
    "        print(\"References to '{}' in \\\"{}\\\":\".format(word, piece))\n",
    "        print(\"\\t\", refs, end = \" \")\n",
    "        print(\"\\n\")"
   ]
  },
  {
   "cell_type": "code",
   "execution_count": 135,
   "metadata": {},
   "outputs": [
    {
     "name": "stdout",
     "output_type": "stream",
     "text": [
      "The format for the references is [(A, S, P)], with A, S, P being respectively the Act, Scene, and Speech of the play.\n",
      "\n",
      "References to 'music' in \"Anthony and Cleopatra\":\n",
      "\t ['(2, 5, 1)', '(2, 5, 2)', '(2, 5, 7)', '(2, 7, 65)'] \n",
      "\n",
      "References to 'music' in \"A Midsummer Night's Dream\":\n",
      "\t ['(2, 1, 19)', '(4, 1, 11)', '(4, 1, 12)', '(4, 1, 22)', '(4, 1, 23)', '(4, 1, 25)', '(4, 1, 29)', '(4, 1, 29)', '(4, 1, 30)', '(5, 1, 8)'] \n",
      "\n",
      "References to 'music' in \"Hamlet\":\n",
      "\t ['(2, 1, 25)', '(3, 1, 42)', '(3, 2, 94)', '(3, 2, 94)', '(3, 2, 128)', '(3, 2, 130)', '(3, 4, 48)', '(5, 2, 147)'] \n",
      "\n",
      "References to 'music' in \"Julius Caesar\":\n",
      "\t ['(1, 2, 13)', '(1, 2, 49)', '(4, 3, 126)'] \n",
      "\n",
      "References to 'music' in \"MacBeth\":\n",
      "\t [] \n",
      "\n",
      "References to 'music' in \"The Merchant of Venice\":\n",
      "\t ['(3, 2, 9)', '(3, 2, 9)', '(3, 2, 9)', '(5, 1, 23)', '(5, 1, 23)', '(5, 1, 23)', '(5, 1, 24)', '(5, 1, 25)', '(5, 1, 25)', '(5, 1, 25)', '(5, 1, 25)', '(5, 1, 25)', '(5, 1, 29)', '(5, 1, 32)'] \n",
      "\n",
      "References to 'music' in \"Othello\":\n",
      "\t ['(2, 1, 71)', '(3, 1, 8)', '(3, 1, 10)', '(3, 1, 10)', '(4, 1, 88)', '(5, 2, 141)'] \n",
      "\n",
      "References to 'music' in \"Romeo and Juliet\":\n",
      "\t ['(1, 5, 7)', '(2, 2, 43)', '(2, 5, 3)', '(2, 6, 7)', '(4, 4, 11)', '(4, 5, 27)', '(4, 5, 29)', '(4, 5, 40)', '(4, 5, 40)', '(4, 5, 43)', '(4, 5, 46)', '(4, 5, 46)', '(4, 5, 46)'] \n",
      "\n"
     ]
    }
   ],
   "source": [
    "find_in_shakespeare('music')"
   ]
  }
 ],
 "metadata": {
  "kernelspec": {
   "display_name": "Python 3",
   "language": "python",
   "name": "python3"
  },
  "language_info": {
   "codemirror_mode": {
    "name": "ipython",
    "version": 3
   },
   "file_extension": ".py",
   "mimetype": "text/x-python",
   "name": "python",
   "nbconvert_exporter": "python",
   "pygments_lexer": "ipython3",
   "version": "3.7.3"
  }
 },
 "nbformat": 4,
 "nbformat_minor": 4
}
