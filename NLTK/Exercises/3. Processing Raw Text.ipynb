{
 "cells": [
  {
   "cell_type": "markdown",
   "metadata": {},
   "source": [
    "# 1.\n",
    "Define a string s = 'colorless'. Write a Python statement that changes this to \"colourless\" using only the slice and concatenation operations."
   ]
  },
  {
   "cell_type": "code",
   "execution_count": 1,
   "metadata": {},
   "outputs": [
    {
     "data": {
      "text/plain": [
       "'colourless'"
      ]
     },
     "execution_count": 1,
     "metadata": {},
     "output_type": "execute_result"
    }
   ],
   "source": [
    "s = 'colorless'\n",
    "s = s[:4]  + \"u\" + s[4:]\n",
    "s"
   ]
  },
  {
   "cell_type": "markdown",
   "metadata": {},
   "source": [
    "# 2.\n",
    "We can use the slice notation to remove morphological endings on words. For example, 'dogs'[:-1] removes the last character of dogs, leaving dog. Use slice notation to remove the affixes from these words (we've inserted a hyphen to indicate the affix boundary, but omit this from your strings): dish-es, run-ning, nation-ality, un-do, pre-heat."
   ]
  },
  {
   "cell_type": "code",
   "execution_count": 2,
   "metadata": {},
   "outputs": [
    {
     "ename": "SyntaxError",
     "evalue": "unexpected EOF while parsing (<ipython-input-2-b1ee1341a0e4>, line 6)",
     "output_type": "error",
     "traceback": [
      "\u001b[1;36m  File \u001b[1;32m\"<ipython-input-2-b1ee1341a0e4>\"\u001b[1;36m, line \u001b[1;32m6\u001b[0m\n\u001b[1;33m    \u001b[0m\n\u001b[1;37m    ^\u001b[0m\n\u001b[1;31mSyntaxError\u001b[0m\u001b[1;31m:\u001b[0m unexpected EOF while parsing\n"
     ]
    }
   ],
   "source": [
    "s = ['dishes', 'running', 'nationality', 'undo', 'preheat']\n",
    "affixes = ['es', 'ning', 'ality', \"un\", 'pre']\n",
    "for word in s:\n",
    "    for affix in affixes:\n",
    "        if affix in word:\n",
    "            "
   ]
  },
  {
   "cell_type": "code",
   "execution_count": null,
   "metadata": {},
   "outputs": [],
   "source": []
  },
  {
   "cell_type": "code",
   "execution_count": null,
   "metadata": {},
   "outputs": [],
   "source": [
    "test = 'dishes'\n",
    "test.find('es')"
   ]
  },
  {
   "cell_type": "markdown",
   "metadata": {},
   "source": [
    "# 3. \n",
    "\n",
    " We saw how we can generate an IndexError by indexing beyond the end of a string. Is it possible to construct an index that goes too far to the left, before the start of the string?"
   ]
  },
  {
   "cell_type": "markdown",
   "metadata": {},
   "source": [
    "Yes "
   ]
  },
  {
   "cell_type": "code",
   "execution_count": 3,
   "metadata": {},
   "outputs": [
    {
     "ename": "IndexError",
     "evalue": "string index out of range",
     "output_type": "error",
     "traceback": [
      "\u001b[1;31m---------------------------------------------------------------------------\u001b[0m",
      "\u001b[1;31mIndexError\u001b[0m                                Traceback (most recent call last)",
      "\u001b[1;32m<ipython-input-3-930960e60e60>\u001b[0m in \u001b[0;36m<module>\u001b[1;34m\u001b[0m\n\u001b[0;32m      1\u001b[0m \u001b[0mstring\u001b[0m \u001b[1;33m=\u001b[0m \u001b[1;34m\"four\"\u001b[0m\u001b[1;33m\u001b[0m\u001b[1;33m\u001b[0m\u001b[0m\n\u001b[1;32m----> 2\u001b[1;33m \u001b[0mstring\u001b[0m\u001b[1;33m[\u001b[0m\u001b[1;33m-\u001b[0m\u001b[1;36m5\u001b[0m\u001b[1;33m]\u001b[0m\u001b[1;33m\u001b[0m\u001b[1;33m\u001b[0m\u001b[0m\n\u001b[0m",
      "\u001b[1;31mIndexError\u001b[0m: string index out of range"
     ]
    }
   ],
   "source": [
    "string = \"four\"\n",
    "string[-5]"
   ]
  },
  {
   "cell_type": "markdown",
   "metadata": {},
   "source": [
    "# 4. \n",
    "\n",
    "We can specify a \"step\" size for the slice. The following returns every second character within the slice: monty[6:11:2]. It also works in the reverse direction: monty[10:5:-2] Try these for yourself, then experiment with different step values."
   ]
  },
  {
   "cell_type": "code",
   "execution_count": 4,
   "metadata": {},
   "outputs": [
    {
     "data": {
      "text/plain": [
       "'saco eo'"
      ]
     },
     "execution_count": 4,
     "metadata": {},
     "output_type": "execute_result"
    }
   ],
   "source": [
    "s = \"This is a cool demo\"\n",
    "\n",
    "s[6::2]"
   ]
  },
  {
   "cell_type": "markdown",
   "metadata": {},
   "source": [
    "# 5\n",
    "\n",
    "What happens if you ask the interpreter to evaluate monty[::-1]? Explain why this is a reasonable result.\n",
    "\n",
    "This returns the string in revesre"
   ]
  },
  {
   "cell_type": "markdown",
   "metadata": {},
   "source": [
    "# 6 \n",
    "\n",
    "Describe the class of strings matched by the following regular expressions.\n",
    "\n",
    "- [a-zA-Z]+ : This matches any lowercase/uppercase charter, one or more.\n",
    "- [A-Z][a-z]*: This matches an uppercase letter then a lowercase letter\n",
    "- p[aeiou]{,2}t : This matches a p, then any vowel in groups of 1 thru 2. Lastly it ends in a t.  \n",
    "- \\d+(\\.\\d+)?: \\d+ matches any digit(0-9) one or more times. the () looks for groups. The \\. is a period. The \\d+ is one or more digits. The ? means once or none of the previous item. \n",
    "- ([^aeiou][aeiou][^aeiou])*: [^aeiou] looks for one of the vowels at the beginning of the string. [aeiou] looks for a single vowel after it finds one at the beginning of the string. Then we look for a vowel at the begging of a string? \n",
    "- \\w+|[^\\w\\s]+ \\w+ (word character) matches any single letter, number or underscore, once or more. | \"or\". [^\\w\\s]Looks for the \\w or \\s(whitspace) at the beginning of a string. \n",
    "\n",
    "Test your answers using nltk.re_show()."
   ]
  },
  {
   "cell_type": "code",
   "execution_count": 5,
   "metadata": {},
   "outputs": [],
   "source": [
    "import nltk"
   ]
  },
  {
   "cell_type": "code",
   "execution_count": 6,
   "metadata": {},
   "outputs": [
    {
     "name": "stdout",
     "output_type": "stream",
     "text": [
      "{This} {is} {a} {testing} {string}.\n"
     ]
    }
   ],
   "source": [
    "s = \"This is a testing string.\"\n",
    "nltk.re_show('[a-zA-Z]+', s)\n",
    "#Does the opperation for every sequence of characters"
   ]
  },
  {
   "cell_type": "code",
   "execution_count": 7,
   "metadata": {},
   "outputs": [
    {
     "name": "stdout",
     "output_type": "stream",
     "text": [
      "{This} is a testing string.\n"
     ]
    }
   ],
   "source": [
    "nltk.re_show('[A-Z][a-z]*', s)\n",
    "#Looks for a word that starts with a capital, the rest of the sequence can be lowercase 0 or more times"
   ]
  },
  {
   "cell_type": "code",
   "execution_count": 8,
   "metadata": {},
   "outputs": [
    {
     "name": "stdout",
     "output_type": "stream",
     "text": [
      "This is a testing string with the word {pet} so it works.\n"
     ]
    }
   ],
   "source": [
    "s = \"This is a testing string with the word pet so it works.\"\n",
    "nltk.re_show('p[aeiou]{,2}t*', s)"
   ]
  },
  {
   "cell_type": "code",
   "execution_count": 9,
   "metadata": {},
   "outputs": [
    {
     "name": "stdout",
     "output_type": "stream",
     "text": [
      "Testing {98.87:123}\n"
     ]
    }
   ],
   "source": [
    "money= \"Testing 98.87:123 \"\n",
    "nltk.re_show('\\d+(.\\d+)?:\\d+', money)"
   ]
  },
  {
   "cell_type": "code",
   "execution_count": 10,
   "metadata": {},
   "outputs": [
    {
     "name": "stdout",
     "output_type": "stream",
     "text": [
      "{}e{}i{}u{}\n"
     ]
    }
   ],
   "source": [
    "vowels = 'eiu'\n",
    "nltk.re_show('([^aeiou][aeiou][^aeiou])*', vowels)\n",
    "#idk"
   ]
  },
  {
   "cell_type": "code",
   "execution_count": 11,
   "metadata": {},
   "outputs": [
    {
     "name": "stdout",
     "output_type": "stream",
     "text": [
      "{This} {is} {a} {testing} {string} {with} {the} {word} {pet} {so} {it} {works}.\n"
     ]
    }
   ],
   "source": [
    "nltk.re_show('\\w+|[^\\w\\s]+ \\w+', s)"
   ]
  },
  {
   "cell_type": "markdown",
   "metadata": {},
   "source": [
    "# 7. Write regular expressions to match the following classes of strings:\n",
    "\n",
    "- A single determiner (assume that a, an, and the are the only determiners).\n",
    "\n",
    "- An arithmetic expression using integers, addition, and multiplication, such as 2*3+8."
   ]
  },
  {
   "cell_type": "code",
   "execution_count": 12,
   "metadata": {},
   "outputs": [
    {
     "name": "stdout",
     "output_type": "stream",
     "text": [
      "This is {a} testing string with the word pet so it works. is {an}\n"
     ]
    }
   ],
   "source": [
    "#I have to declare the longer one first for some reason.\n",
    "nltk.re_show('(an|a)', s+\" is an\")"
   ]
  },
  {
   "cell_type": "code",
   "execution_count": 13,
   "metadata": {},
   "outputs": [
    {
     "name": "stdout",
     "output_type": "stream",
     "text": [
      "2x{+}8{*}5\n"
     ]
    }
   ],
   "source": [
    "y = \"2x+8*5\"\n",
    "nltk.re_show('(\\+|\\*|-|\\/)', y)\n",
    "#wooo"
   ]
  },
  {
   "cell_type": "markdown",
   "metadata": {},
   "source": [
    "# 8. \n",
    "\n",
    "Write a utility function that takes a URL as its argument, and returns the contents of the URL, with all HTML markup removed. Use from urllib import request and then request.urlopen('http://nltk.org/').read().decode('utf8') to access the contents of the URL."
   ]
  },
  {
   "cell_type": "code",
   "execution_count": 14,
   "metadata": {},
   "outputs": [
    {
     "data": {
      "text/plain": [
       "'\\n\\n\\n\\nNatural Language Toolkit — NLTK 3.6.2 documentation\\n\\n\\n\\n\\n\\n\\n\\n\\n\\n\\n\\n\\nNLTK 3.6.2 documentation\\n\\nnext |\\n          modules |\\n          index\\n\\n\\n\\n\\n\\n\\n\\n\\n\\n\\nNatural Language Toolkit¶\\nNLTK is a leading platform for building Python programs to work with human language data.\\nIt provides easy-to-use interfaces to over 50 corpora and lexical\\nresources such as WordNet,\\nalong with a suite of text processing libraries for classification, tokenization, stemming, tagging, parsing, and semantic reasoning,\\nwrappers for industrial-strength NLP libraries,\\nand an active discussion forum.\\nThanks to a hands-on guide introducing programming fundamentals alongside topics in computational linguistics, plus comprehensive API documentation,\\nNLTK is suitable for linguists, engineers, students, educators, researchers, and industry users alike.\\nNLTK is available for Windows, Mac OS X, and Linux. Best of all, NLTK is a free, open source, community-driven project.\\nNLTK has been called “a wonderful tool for teaching, and working in, computational linguistics using Python,”\\nand “an amazing library to play with natural language.”\\nNatural Language Processing with Python provides a practical\\nintroduction to programming for language processing.\\nWritten by the creators of NLTK, it guides the reader through the fundamentals\\nof writing Python programs, working with corpora, categorizing text, analyzing linguistic structure,\\nand more.\\nThe online version of the book has been been updated for Python 3 and NLTK 3.\\n(The original Python 2 version is still available at http://nltk.org/book_1ed.)\\n\\nSome simple things you can do with NLTK¶\\nTokenize and tag some text:\\n>>> import nltk\\n>>> sentence = \"\"\"At eight o\\'clock on Thursday morning\\n... Arthur didn\\'t feel very good.\"\"\"\\n>>> tokens = nltk.word_tokenize(sentence)\\n>>> tokens\\n[\\'At\\', \\'eight\\', \"o\\'clock\", \\'on\\', \\'Thursday\\', \\'morning\\',\\n\\'Arthur\\', \\'did\\', \"n\\'t\", \\'feel\\', \\'very\\', \\'good\\', \\'.\\']\\n>>> tagged = nltk.pos_tag(tokens)\\n>>> tagged[0:6]\\n[(\\'At\\', \\'IN\\'), (\\'eight\\', \\'CD\\'), (\"o\\'clock\", \\'JJ\\'), (\\'on\\', \\'IN\\'),\\n(\\'Thursday\\', \\'NNP\\'), (\\'morning\\', \\'NN\\')]\\n\\n\\nIdentify named entities:\\n>>> entities = nltk.chunk.ne_chunk(tagged)\\n>>> entities\\nTree(\\'S\\', [(\\'At\\', \\'IN\\'), (\\'eight\\', \\'CD\\'), (\"o\\'clock\", \\'JJ\\'),\\n           (\\'on\\', \\'IN\\'), (\\'Thursday\\', \\'NNP\\'), (\\'morning\\', \\'NN\\'),\\n       Tree(\\'PERSON\\', [(\\'Arthur\\', \\'NNP\\')]),\\n           (\\'did\\', \\'VBD\\'), (\"n\\'t\", \\'RB\\'), (\\'feel\\', \\'VB\\'),\\n           (\\'very\\', \\'RB\\'), (\\'good\\', \\'JJ\\'), (\\'.\\', \\'.\\')])\\n\\n\\nDisplay a parse tree:\\n>>> from nltk.corpus import treebank\\n>>> t = treebank.parsed_sents(\\'wsj_0001.mrg\\')[0]\\n>>> t.draw()\\n\\n\\n\\nNB. If you publish work that uses NLTK, please cite the NLTK book as\\nfollows:\\n\\nBird, Steven, Edward Loper and Ewan Klein (2009), Natural Language Processing with Python.  O’Reilly Media Inc.\\n\\n\\n\\nNext Steps¶\\n\\nsign up for release announcements\\njoin in the discussion\\n\\n\\n\\n\\nContents¶\\n\\n\\nNLTK News\\nInstalling NLTK\\nInstalling NLTK Data\\nContribute to NLTK\\nFAQ\\nWiki\\nAPI\\nHOWTO\\n\\n\\n\\nIndex\\nModule Index\\nSearch Page\\n\\n\\n\\n\\n\\n\\n\\n\\nTable of Contents\\n\\nNLTK News\\nInstalling NLTK\\nInstalling NLTK Data\\nContribute to NLTK\\nFAQ\\nWiki\\nAPI\\nHOWTO\\n\\n\\nSearch\\n\\n\\n\\n\\n\\n\\n\\n\\n\\n\\n\\n\\n\\nnext |\\n            modules |\\n            index\\n\\n\\n\\nShow Source\\n\\n\\n\\n\\n        © Copyright 2021, NLTK Project.\\n      Last updated on Apr 20, 2021.\\n      Created using Sphinx 3.5.2.\\n    \\n\\n\\n\\n\\n\\n'"
      ]
     },
     "execution_count": 14,
     "metadata": {},
     "output_type": "execute_result"
    }
   ],
   "source": [
    "def urldecoder(url):\n",
    "    from urllib import request\n",
    "    from bs4 import BeautifulSoup\n",
    "    html = request.urlopen(url).read().decode('utf8')\n",
    "    soup= BeautifulSoup(html)\n",
    "    return soup.getText()\n",
    "url = 'http://nltk.org/'\n",
    "urldecoder(url)\n",
    "#wooo "
   ]
  },
  {
   "cell_type": "markdown",
   "metadata": {},
   "source": [
    "# 9 \n",
    "\n",
    "Save some text into a file corpus.txt. Define a function load(f) that reads from the file named in its sole argument, and returns a string containing the text of the file.\n",
    "\n",
    "- Use nltk.regexp_tokenize() to create a tokenizer that tokenizes the various kinds of punctuation in this text. Use one multi-line regular expression, with inline comments, using the verbose flag (?x).\n",
    "\n",
    "- Use nltk.regexp_tokenize() to create a tokenizer that tokenizes the following kinds of expression: monetary amounts; dates; names of people and organizations."
   ]
  },
  {
   "cell_type": "code",
   "execution_count": 78,
   "metadata": {},
   "outputs": [],
   "source": [
    "output_file =open('output.txt', 'w')\n",
    "words = 'This is a demo, that I added puncuation to.'\n",
    "print(words, file=output_file)"
   ]
  },
  {
   "cell_type": "code",
   "execution_count": 79,
   "metadata": {},
   "outputs": [],
   "source": [
    "f = open('output.txt', 'r')\n",
    "text = f.read()"
   ]
  },
  {
   "cell_type": "code",
   "execution_count": 123,
   "metadata": {},
   "outputs": [
    {
     "data": {
      "text/plain": [
       "[', ', '.\\n']"
      ]
     },
     "execution_count": 123,
     "metadata": {},
     "output_type": "execute_result"
    }
   ],
   "source": [
    "pattern = r'''(?x)   # set flag to allow verbose regexps. Must be declared to only be punct\n",
    "\\W\\s #Any non-character followed\n",
    "'''\n",
    "nltk.regexp_tokenize(text, pattern)"
   ]
  },
  {
   "cell_type": "code",
   "execution_count": 135,
   "metadata": {},
   "outputs": [
    {
     "data": {
      "text/plain": [
       "['$5.99', ', ', '12/17/1996', ', ', 'Brandon', 'Lopez']"
      ]
     },
     "execution_count": 135,
     "metadata": {},
     "output_type": "execute_result"
    }
   ],
   "source": [
    "#There is a names corpus\n",
    "text= \"$5.99, 12/17/1996, Brandon Lopez \"\n",
    "\n",
    "pattern = r'''(?x) (  # set flag to allow verbose regexps. Must be declared for this\n",
    "\\$+\\d+\\.\\d+ #Any non-character followed\n",
    "|\\d+\\/\\d+\\/\\d+ #Gets dates in the forward slash format\n",
    "|[A-z][a-z]+\\S{2,} #Gets first and Last name at the same time. Also works for organizations. \n",
    "|\\W\\s #Why not get punctuation too? \n",
    ")\n",
    "'''\n",
    "\n",
    "nltk.regexp_tokenize(text, pattern)"
   ]
  },
  {
   "cell_type": "markdown",
   "metadata": {},
   "source": [
    "# 10. Rewrite the following loop as a list comprehension:"
   ]
  },
  {
   "cell_type": "code",
   "execution_count": 136,
   "metadata": {},
   "outputs": [
    {
     "data": {
      "text/plain": [
       "[('The', 3),\n",
       " ('dog', 3),\n",
       " ('gave', 4),\n",
       " ('John', 4),\n",
       " ('the', 3),\n",
       " ('newspaper', 9)]"
      ]
     },
     "execution_count": 136,
     "metadata": {},
     "output_type": "execute_result"
    }
   ],
   "source": [
    "sent = ['The', 'dog', 'gave', 'John', 'the', 'newspaper']\n",
    "result = []\n",
    "for word in sent:\n",
    "    word_len = (word, len(word))\n",
    "    result.append(word_len)\n",
    "result"
   ]
  },
  {
   "cell_type": "code",
   "execution_count": 137,
   "metadata": {
    "scrolled": true
   },
   "outputs": [
    {
     "data": {
      "text/plain": [
       "[('The', 3),\n",
       " ('dog', 3),\n",
       " ('gave', 4),\n",
       " ('John', 4),\n",
       " ('the', 3),\n",
       " ('newspaper', 9)]"
      ]
     },
     "execution_count": 137,
     "metadata": {},
     "output_type": "execute_result"
    }
   ],
   "source": [
    "#List comprehension is a one liner \n",
    "[(word,len(word)) for word in sent]"
   ]
  },
  {
   "cell_type": "code",
   "execution_count": 144,
   "metadata": {},
   "outputs": [],
   "source": [
    "jesusIsTheOne = '''\n",
    "I'ma avoid my taxes, then I'ma get arrested\n",
    "'Cause I got depression\n",
    "I'ma rob my mama and I'ma spend the money on a old Chevy\n",
    "'Cause I got depression\n",
    "Everybody know, nigga, you need to learn your fuckin' lesson\n",
    "Nigga, I got depression'''"
   ]
  },
  {
   "cell_type": "code",
   "execution_count": 145,
   "metadata": {},
   "outputs": [
    {
     "data": {
      "text/plain": [
       "[\"\\nI'ma avoid my taxes, then I'ma get arrested\\n'Cause I got \",\n",
       " \"\\nI'ma rob my mama and I'ma spend the money on a old Chevy\\n'Cause I got \",\n",
       " \"\\nEverybody know, nigga, you need to learn your fuckin' lesson\\nNigga, I got \",\n",
       " '']"
      ]
     },
     "execution_count": 145,
     "metadata": {},
     "output_type": "execute_result"
    }
   ],
   "source": [
    "jesusIsTheOne.split(\"depression\")"
   ]
  },
  {
   "cell_type": "markdown",
   "metadata": {},
   "source": [
    "# 12. \n",
    "\n",
    "Write a for loop to print out the characters of a string, one per line."
   ]
  },
  {
   "cell_type": "code",
   "execution_count": 146,
   "metadata": {
    "collapsed": true
   },
   "outputs": [
    {
     "name": "stdout",
     "output_type": "stream",
     "text": [
      "\n",
      "\n",
      "I\n",
      "'\n",
      "m\n",
      "a\n",
      " \n",
      "a\n",
      "v\n",
      "o\n",
      "i\n",
      "d\n",
      " \n",
      "m\n",
      "y\n",
      " \n",
      "t\n",
      "a\n",
      "x\n",
      "e\n",
      "s\n",
      ",\n",
      " \n",
      "t\n",
      "h\n",
      "e\n",
      "n\n",
      " \n",
      "I\n",
      "'\n",
      "m\n",
      "a\n",
      " \n",
      "g\n",
      "e\n",
      "t\n",
      " \n",
      "a\n",
      "r\n",
      "r\n",
      "e\n",
      "s\n",
      "t\n",
      "e\n",
      "d\n",
      "\n",
      "\n",
      "'\n",
      "C\n",
      "a\n",
      "u\n",
      "s\n",
      "e\n",
      " \n",
      "I\n",
      " \n",
      "g\n",
      "o\n",
      "t\n",
      " \n",
      "d\n",
      "e\n",
      "p\n",
      "r\n",
      "e\n",
      "s\n",
      "s\n",
      "i\n",
      "o\n",
      "n\n",
      "\n",
      "\n",
      "I\n",
      "'\n",
      "m\n",
      "a\n",
      " \n",
      "r\n",
      "o\n",
      "b\n",
      " \n",
      "m\n",
      "y\n",
      " \n",
      "m\n",
      "a\n",
      "m\n",
      "a\n",
      " \n",
      "a\n",
      "n\n",
      "d\n",
      " \n",
      "I\n",
      "'\n",
      "m\n",
      "a\n",
      " \n",
      "s\n",
      "p\n",
      "e\n",
      "n\n",
      "d\n",
      " \n",
      "t\n",
      "h\n",
      "e\n",
      " \n",
      "m\n",
      "o\n",
      "n\n",
      "e\n",
      "y\n",
      " \n",
      "o\n",
      "n\n",
      " \n",
      "a\n",
      " \n",
      "o\n",
      "l\n",
      "d\n",
      " \n",
      "C\n",
      "h\n",
      "e\n",
      "v\n",
      "y\n",
      "\n",
      "\n",
      "'\n",
      "C\n",
      "a\n",
      "u\n",
      "s\n",
      "e\n",
      " \n",
      "I\n",
      " \n",
      "g\n",
      "o\n",
      "t\n",
      " \n",
      "d\n",
      "e\n",
      "p\n",
      "r\n",
      "e\n",
      "s\n",
      "s\n",
      "i\n",
      "o\n",
      "n\n",
      "\n",
      "\n",
      "E\n",
      "v\n",
      "e\n",
      "r\n",
      "y\n",
      "b\n",
      "o\n",
      "d\n",
      "y\n",
      " \n",
      "k\n",
      "n\n",
      "o\n",
      "w\n",
      ",\n",
      " \n",
      "n\n",
      "i\n",
      "g\n",
      "g\n",
      "a\n",
      ",\n",
      " \n",
      "y\n",
      "o\n",
      "u\n",
      " \n",
      "n\n",
      "e\n",
      "e\n",
      "d\n",
      " \n",
      "t\n",
      "o\n",
      " \n",
      "l\n",
      "e\n",
      "a\n",
      "r\n",
      "n\n",
      " \n",
      "y\n",
      "o\n",
      "u\n",
      "r\n",
      " \n",
      "f\n",
      "u\n",
      "c\n",
      "k\n",
      "i\n",
      "n\n",
      "'\n",
      " \n",
      "l\n",
      "e\n",
      "s\n",
      "s\n",
      "o\n",
      "n\n",
      "\n",
      "\n",
      "N\n",
      "i\n",
      "g\n",
      "g\n",
      "a\n",
      ",\n",
      " \n",
      "I\n",
      " \n",
      "g\n",
      "o\n",
      "t\n",
      " \n",
      "d\n",
      "e\n",
      "p\n",
      "r\n",
      "e\n",
      "s\n",
      "s\n",
      "i\n",
      "o\n",
      "n\n"
     ]
    }
   ],
   "source": [
    "#I'm not going to run this\n",
    "for c in jesusIsTheOne:\n",
    "    print(c)"
   ]
  },
  {
   "cell_type": "markdown",
   "metadata": {},
   "source": [
    "# 13.\n",
    "\n",
    "What is the difference between calling split on a string with no argument or with ' ' as the argument, e.g. sent.split() versus sent.split(' ')? What happens when the string being split contains tab characters, consecutive space characters, or a sequence of tabs and spaces? (In IDLE you will need to use '\\t' to enter a tab character.)"
   ]
  },
  {
   "cell_type": "code",
   "execution_count": 147,
   "metadata": {},
   "outputs": [
    {
     "ename": "ValueError",
     "evalue": "empty separator",
     "output_type": "error",
     "traceback": [
      "\u001b[1;31m---------------------------------------------------------------------------\u001b[0m",
      "\u001b[1;31mValueError\u001b[0m                                Traceback (most recent call last)",
      "\u001b[1;32m<ipython-input-147-b8e3dc8b0710>\u001b[0m in \u001b[0;36m<module>\u001b[1;34m\u001b[0m\n\u001b[1;32m----> 1\u001b[1;33m \u001b[0mjesusIsTheOne\u001b[0m\u001b[1;33m.\u001b[0m\u001b[0msplit\u001b[0m\u001b[1;33m(\u001b[0m\u001b[1;34m''\u001b[0m\u001b[1;33m)\u001b[0m\u001b[1;33m\u001b[0m\u001b[1;33m\u001b[0m\u001b[0m\n\u001b[0m",
      "\u001b[1;31mValueError\u001b[0m: empty separator"
     ]
    }
   ],
   "source": [
    "#Does nothing.\n",
    "jesusIsTheOne.split('')"
   ]
  },
  {
   "cell_type": "code",
   "execution_count": 149,
   "metadata": {},
   "outputs": [
    {
     "data": {
      "text/plain": [
       "['',\n",
       " \"I'ma avoid my taxes, then I'ma get arrested\",\n",
       " \"'Cause I got depression\",\n",
       " \"I'ma rob my mama and I'ma spend the money on a old Chevy\",\n",
       " \"'Cause I got depression\",\n",
       " \"Everybody know, nigga, you need to learn your fuckin' lesson\",\n",
       " 'Nigga, I got depression']"
      ]
     },
     "execution_count": 149,
     "metadata": {},
     "output_type": "execute_result"
    }
   ],
   "source": [
    "#Splits on the endline\n",
    "jesusIsTheOne.split('\\n')"
   ]
  },
  {
   "cell_type": "code",
   "execution_count": 150,
   "metadata": {
    "collapsed": true
   },
   "outputs": [
    {
     "data": {
      "text/plain": [
       "[\"I'ma\",\n",
       " 'avoid',\n",
       " 'my',\n",
       " 'taxes,',\n",
       " 'then',\n",
       " \"I'ma\",\n",
       " 'get',\n",
       " 'arrested',\n",
       " \"'Cause\",\n",
       " 'I',\n",
       " 'got',\n",
       " 'depression',\n",
       " \"I'ma\",\n",
       " 'rob',\n",
       " 'my',\n",
       " 'mama',\n",
       " 'and',\n",
       " \"I'ma\",\n",
       " 'spend',\n",
       " 'the',\n",
       " 'money',\n",
       " 'on',\n",
       " 'a',\n",
       " 'old',\n",
       " 'Chevy',\n",
       " \"'Cause\",\n",
       " 'I',\n",
       " 'got',\n",
       " 'depression',\n",
       " 'Everybody',\n",
       " 'know,',\n",
       " 'nigga,',\n",
       " 'you',\n",
       " 'need',\n",
       " 'to',\n",
       " 'learn',\n",
       " 'your',\n",
       " \"fuckin'\",\n",
       " 'lesson',\n",
       " 'Nigga,',\n",
       " 'I',\n",
       " 'got',\n",
       " 'depression']"
      ]
     },
     "execution_count": 150,
     "metadata": {},
     "output_type": "execute_result"
    }
   ],
   "source": [
    "#Splits on the white space\n",
    "jesusIsTheOne.split()"
   ]
  },
  {
   "cell_type": "markdown",
   "metadata": {},
   "source": [
    "# 14.\n",
    "Create a variable words containing a list of words. Experiment with words.sort() and sorted(words). What is the difference?"
   ]
  },
  {
   "cell_type": "code",
   "execution_count": 151,
   "metadata": {},
   "outputs": [],
   "source": [
    "words = jesusIsTheOne.split()\n",
    "words.sort()\n",
    "#Sort sorts but does not return the object"
   ]
  },
  {
   "cell_type": "code",
   "execution_count": 152,
   "metadata": {},
   "outputs": [
    {
     "data": {
      "text/plain": [
       "[\"'Cause\",\n",
       " \"'Cause\",\n",
       " 'Chevy',\n",
       " 'Everybody',\n",
       " 'I',\n",
       " 'I',\n",
       " 'I',\n",
       " \"I'ma\",\n",
       " \"I'ma\",\n",
       " \"I'ma\",\n",
       " \"I'ma\",\n",
       " 'Nigga,',\n",
       " 'a',\n",
       " 'and',\n",
       " 'arrested',\n",
       " 'avoid',\n",
       " 'depression',\n",
       " 'depression',\n",
       " 'depression',\n",
       " \"fuckin'\",\n",
       " 'get',\n",
       " 'got',\n",
       " 'got',\n",
       " 'got',\n",
       " 'know,',\n",
       " 'learn',\n",
       " 'lesson',\n",
       " 'mama',\n",
       " 'money',\n",
       " 'my',\n",
       " 'my',\n",
       " 'need',\n",
       " 'nigga,',\n",
       " 'old',\n",
       " 'on',\n",
       " 'rob',\n",
       " 'spend',\n",
       " 'taxes,',\n",
       " 'the',\n",
       " 'then',\n",
       " 'to',\n",
       " 'you',\n",
       " 'your']"
      ]
     },
     "execution_count": 152,
     "metadata": {},
     "output_type": "execute_result"
    }
   ],
   "source": [
    "#This returns the object. \n",
    "sorted(words)"
   ]
  },
  {
   "cell_type": "markdown",
   "metadata": {},
   "source": [
    "# 15.\n",
    "\n",
    "Explore the difference between strings and integers by typing the following at a Python prompt: \"3\" * 7 and 3 * 7. Try converting between strings and integers using int(\"3\") and str(3)."
   ]
  },
  {
   "cell_type": "code",
   "execution_count": 155,
   "metadata": {},
   "outputs": [
    {
     "data": {
      "text/plain": [
       "21"
      ]
     },
     "execution_count": 155,
     "metadata": {},
     "output_type": "execute_result"
    }
   ],
   "source": [
    "int(\"3\")*7"
   ]
  },
  {
   "cell_type": "code",
   "execution_count": 156,
   "metadata": {},
   "outputs": [
    {
     "data": {
      "text/plain": [
       "'3333333'"
      ]
     },
     "execution_count": 156,
     "metadata": {},
     "output_type": "execute_result"
    }
   ],
   "source": [
    "str(3)*7"
   ]
  },
  {
   "cell_type": "markdown",
   "metadata": {},
   "source": [
    "# 17.\n",
    "\n",
    "What happens when the formatting strings %6s and %-6s are used to display strings that are longer than six characters?"
   ]
  },
  {
   "cell_type": "code",
   "execution_count": 180,
   "metadata": {},
   "outputs": [
    {
     "name": "stdout",
     "output_type": "stream",
     "text": [
      "  some\n",
      "superexcitingly\n",
      "  long\n",
      "example\n",
      " words\n"
     ]
    }
   ],
   "source": [
    "words = ['some', 'superexcitingly', 'long', 'example', 'words']\n",
    "for w in words:\n",
    "    print('%6s' % w,)"
   ]
  },
  {
   "cell_type": "markdown",
   "metadata": {},
   "source": [
    "# 18.\n",
    "\n",
    "Read in some text from a corpus, tokenize it, and print the list of all wh-word types that occur. (wh-words in English are used in questions, relative clauses and exclamations: who, which, what, and so on.) Print them in order. Are any words duplicated in this list, because of the presence of case distinctions or punctuation?"
   ]
  },
  {
   "cell_type": "code",
   "execution_count": 195,
   "metadata": {},
   "outputs": [],
   "source": [
    "from nltk.corpus import brown"
   ]
  },
  {
   "cell_type": "code",
   "execution_count": 191,
   "metadata": {},
   "outputs": [
    {
     "data": {
      "text/plain": [
       "['adventure',\n",
       " 'belles_lettres',\n",
       " 'editorial',\n",
       " 'fiction',\n",
       " 'government',\n",
       " 'hobbies',\n",
       " 'humor',\n",
       " 'learned',\n",
       " 'lore',\n",
       " 'mystery',\n",
       " 'news',\n",
       " 'religion',\n",
       " 'reviews',\n",
       " 'romance',\n",
       " 'science_fiction']"
      ]
     },
     "execution_count": 191,
     "metadata": {},
     "output_type": "execute_result"
    }
   ],
   "source": [
    "brown.categories()"
   ]
  },
  {
   "cell_type": "code",
   "execution_count": 193,
   "metadata": {},
   "outputs": [],
   "source": [
    "text = brown.raw(categories ='adventure')"
   ]
  },
  {
   "cell_type": "code",
   "execution_count": 199,
   "metadata": {},
   "outputs": [
    {
     "data": {
      "text/plain": [
       "['Whaddya',\n",
       " 'Whah',\n",
       " 'What',\n",
       " 'Whatever',\n",
       " 'Wheeler',\n",
       " 'When',\n",
       " 'Whenever',\n",
       " 'Where',\n",
       " 'Which',\n",
       " 'Whichever',\n",
       " 'While',\n",
       " 'White',\n",
       " 'Who',\n",
       " 'Whoever',\n",
       " 'Why',\n",
       " 'Whyn',\n",
       " 'whack',\n",
       " 'whacked',\n",
       " 'whackin',\n",
       " 'whand',\n",
       " 'what',\n",
       " 'whatever',\n",
       " 'whatsoever',\n",
       " 'wheel',\n",
       " 'wheeled',\n",
       " 'wheeling',\n",
       " 'wheels',\n",
       " 'whelming',\n",
       " 'when',\n",
       " 'where',\n",
       " 'whereabouts',\n",
       " 'wherever',\n",
       " 'whether',\n",
       " 'which',\n",
       " 'whichever',\n",
       " 'while',\n",
       " 'whining',\n",
       " 'whinny',\n",
       " 'whip',\n",
       " 'whiplashes',\n",
       " 'whipped',\n",
       " 'whipping',\n",
       " 'whipsawed',\n",
       " 'whir',\n",
       " 'whirled',\n",
       " 'whirling',\n",
       " 'whirring',\n",
       " 'whisper',\n",
       " 'whispered',\n",
       " 'whispers',\n",
       " 'whistle',\n",
       " 'whistled',\n",
       " 'whistling',\n",
       " 'white',\n",
       " 'whiteface',\n",
       " 'whitened',\n",
       " 'whitening',\n",
       " 'whites',\n",
       " 'whizzed',\n",
       " 'who',\n",
       " 'whole',\n",
       " 'wholesome',\n",
       " 'wholly',\n",
       " 'whom',\n",
       " 'whoop',\n",
       " 'whose',\n",
       " 'whs',\n",
       " 'whup',\n",
       " 'why']"
      ]
     },
     "execution_count": 199,
     "metadata": {},
     "output_type": "execute_result"
    }
   ],
   "source": [
    "import re \n",
    "pattern = r'''(?x)\n",
    "[W|w][h][a-z]+\n",
    "\n",
    "'''\n",
    "sorted(set(nltk.regexp_tokenize(text,pattern )))"
   ]
  },
  {
   "cell_type": "markdown",
   "metadata": {},
   "source": [
    "# 19\n",
    "\n",
    "Create a file consisting of words and (made up) frequencies, where each line consists of a word, the space character, and a positive integer, e.g. fuzzy 53. Read the file into a Python list using open(filename).readlines(). Next, break each line into its two fields using split(), and convert the number into an integer using int(). The result should be a list of the form: [['fuzzy', 53], ...]."
   ]
  },
  {
   "cell_type": "code",
   "execution_count": 205,
   "metadata": {},
   "outputs": [],
   "source": [
    "#cdf = nltk.FreqDist(text) this gets the freq of the characters \n",
    "cdf = nltk.FreqDist(brown.words(categories ='adventure'))"
   ]
  },
  {
   "cell_type": "code",
   "execution_count": 208,
   "metadata": {},
   "outputs": [
    {
     "data": {
      "text/plain": [
       "13"
      ]
     },
     "execution_count": 208,
     "metadata": {},
     "output_type": "execute_result"
    }
   ],
   "source": [
    "cdf['why']"
   ]
  },
  {
   "cell_type": "code",
   "execution_count": 213,
   "metadata": {},
   "outputs": [],
   "source": [
    "word_types = set([ sample for sample in cdf])\n",
    "freq= [( word, cdf[word]) for word in word_types]"
   ]
  },
  {
   "cell_type": "code",
   "execution_count": 214,
   "metadata": {},
   "outputs": [],
   "source": [
    "output_file = open(\"wordfreq.txt\", 'w')\n",
    "for item in freq:\n",
    "    print(item, file = output_file)"
   ]
  },
  {
   "cell_type": "markdown",
   "metadata": {},
   "source": [
    "# 20.  \n",
    "Write code to access a favorite webpage and extract some text from it. For example, access a weather site and extract the forecast top temperature for your town or city today."
   ]
  },
  {
   "cell_type": "code",
   "execution_count": 221,
   "metadata": {},
   "outputs": [],
   "source": [
    "from bs4 import BeautifulSoup as bs\n",
    "from urllib import request\n",
    "url = 'https://automatetheboringstuff.com/chapter18/'\n",
    "html = request.urlopen(url)\n",
    "soup = bs(html)\n"
   ]
  },
  {
   "cell_type": "code",
   "execution_count": 222,
   "metadata": {},
   "outputs": [
    {
     "data": {
      "text/plain": [
       "'\\n\\n\\n\\nAutomate the Boring Stuff with Python\\n\\n\\n\\nHome | Buy on No Starch Press | Buy on Amazon | @AlSweigart | \\n   \\n\\n\\n\\n\\nChapter 18 – Controlling the Keyboard and Mouse with GUI Automation \\n\\nSupport the Author: Buy the book on Amazon orthe book/ebook bundle directly from No Starch Press.Read the author\\'s other free Python books:  \\n\\n\\n\\n\\n\\nControlling the Keyboard and Mouse with GUI Automation\\n\\n\\n\\nKnowing various Python modules for editing spreadsheets, downloading files, and launching programs is useful, but sometimes there just aren’t any modules for the applications you need to work with. The ultimate tools for automating tasks on your computer are programs you write that directly control the keyboard and mouse. These programs can control other applications by sending them virtual keystrokes and mouse clicks, justpython3- as if you were sitting at your computer and interacting with the applications yourself. This technique is known as graphical user interface automation, or GUI automation for short. With GUI automation, your programs can do anything that a human user sitting at the computer can do, except spill coffee on the keyboard.\\nThink of GUI automation as programming a robotic arm. You can program the robotic arm to type at your keyboard and move your mouse for you. This technique is particularly useful for tasks that involve a lot of mindless clicking or filling out of forms.\\nThe pyautogui module has functions for simulating mouse movements, button clicks, and scrolling the mouse wheel. This chapter covers only a subset of PyAutoGUI’s features; you can find the full documentation at http://pyautogui.readthedocs.org/.\\n\\n\\n\\n\\nInstalling the pyautogui Module\\n\\n\\n\\nThe pyautogui module can send virtual keypresses and mouse clicks to Windows, OS X, and Linux. Depending on which operating system you’re using, you may have to install some other modules (called dependencies) before you can install PyAutoGUI.\\n\\n\\n\\nOn Windows, there are no other modules to install.\\n\\n\\nOn OS X, run sudo pip3 install pyobjc-framework-Quartz, sudo pip3 install pyobjc-core, and then sudo pip3 install pyobjc.\\n\\n\\nOn Linux, run sudo pip3 install python3-xlib, sudo apt-get install scrot, sudo apt-get install python3-tk, and sudo apt-get install python3-dev. (Scrot is a screenshot program that PyAutoGUI uses.)\\n\\n\\n\\nAfter these dependencies are installed, run pip install pyautogui (or pip3 on OS X and Linux) to install PyAutoGUI.\\nAppendix A has complete information on installing third-party modules. To test whether PyAutoGUI has been installed correctly, run import pyautogui from the interactive shell and check for any error messages.\\n\\n\\n\\n\\n\\nStaying on Track\\n\\n\\n\\nBefore you jump in to a GUI automation, you should know how to escape problems that may arise. Python can move your mouse and type keystrokes at an incredible speed. In fact, it might be too fast for other programs to keep up with. Also, if something goes wrong but your program keeps moving the mouse around, it will be hard to tell what exactly the program is doing or how to recover from the problem. Like the enchanted brooms from Disney’s The Sorcerer’s Apprentice, which kept filling—and then overfilling—Mickey’s tub with water, your program could get out of control even though it’s following your instructions perfectly. Stopping the program can be difficult if the mouse is moving around on its own, preventing you from clicking the IDLE window to close it. Fortunately, there are several ways to prevent or recover from GUI automation problems.\\n\\n\\n\\n\\nShutting Down Everything by Logging Out\\n\\n\\n\\nPerhaps the simplest way to stop an out-of-control GUI automation program is to log out, which will shut down all running programs. On Windows and Linux, the logout hotkey is CTRL-ALT-DEL. On OS X, it is -SHIFT-OPTION-Q. By logging out, you’ll lose any unsaved work, but at least you won’t have to wait for a full reboot of the computer.\\n\\n\\n\\n\\n\\nPauses and Fail-Safes\\n\\n\\n\\nYou can tell your script to wait after every function call, giving you a short window to take control of the mouse and keyboard if something goes wrong. To do this, set the pyautogui.PAUSE variable to the number of seconds you want it to pause. For example, after setting pyautogui.PAUSE = 1.5, every PyAutoGUI function call will wait one and a half seconds after performing its action. Non-PyAutoGUI instructions will not have this pause.\\nPyAutoGUI also has a fail-safe feature. Moving the mouse cursor to the upper-left corner of the screen will cause PyAutoGUI to raise the pyautogui.FailSafeException exception. Your program can either handle this exception with try and except statements or let the exception crash your program. Either way, the fail-safe feature will stop the program if you quickly move the mouse as far up and left as you can. You can disable this feature by setting pyautogui.FAILSAFE = False. Enter the following into the interactive shell:\\n\\n>>> import pyautogui\\r\\n>>> pyautogui.PAUSE = 1\\r\\n>>> pyautogui.FAILSAFE = True\\nHere we import pyautogui and set pyautogui.PAUSE to 1 for a one-second pause after each function call. We set pyautogui.FAILSAFE to True to enable the fail-safe feature.\\n\\n\\n\\n\\n\\n\\nControlling Mouse Movement\\n\\n\\n\\nIn this section, you’ll learn how to move the mouse and track its position on the screen using PyAutoGUI, but first you need to understand how PyAutoGUI works with coordinates.\\nThe mouse functions of PyAutoGUI use x- and y-coordinates. Figure\\xa018-1 shows the coordinate system for the computer screen; it’s similar to the coordinate system used for images, discussed in Chapter\\xa017. The origin, where x and y are both zero, is at the upper-left corner of the screen. The x-coordinates increase going to the right, and the y-coordinates increase going down. All coordinates are positive integers; there are no negative coordinates.\\n\\n\\n\\n\\nFigure\\xa018-1.\\xa0The coordinates of a computer screen with 1920×1080 resolution\\n\\nYour resolution is how many pixels wide and tall your screen is. If your screen’s resolution is set to 1920×1080, then the coordinate for the upper-left corner will be (0, 0), and the coordinate for the bottom-right corner will be (1919, 1079).\\nThe pyautogui.size() function returns a two-integer tuple of the screen’s width and height in pixels. Enter the following into the interactive shell:\\n\\n>>> import pyautogui\\r\\n>>> pyautogui.size()\\r\\n(1920, 1080)\\r\\n>>> width, height = pyautogui.size()\\npyautogui.size() returns (1920, 1080) on a computer with a 1920×1080 resolution; depending on your screen’s resolution, your return value may be different. You can store the width and height from pyautogui.size() in variables like width and height for better readability in your programs.\\n\\n\\n\\n\\nMoving the Mouse\\n\\n\\n\\nNow that you understand screen coordinates, let’s move the mouse. The pyautogui.moveTo() function will instantly move the mouse cursor to a specified position on the screen. Integer values for the x- and y-coordinates make up the function’s first and second arguments, respectively. An optional duration integer or float keyword argument specifies the number of seconds it should take to move the mouse to the destination. If you leave it out, the default is 0 for instantaneous movement. (All of the duration keyword arguments in PyAutoGUI functions are optional.) Enter the following into the interactive shell:\\n\\n>>> import pyautogui\\r\\n>>> for i in range(10):\\r\\n      pyautogui.moveTo(100, 100, duration=0.25)\\r\\n      pyautogui.moveTo(200, 100, duration=0.25)\\r\\n      pyautogui.moveTo(200, 200, duration=0.25)\\r\\n      pyautogui.moveTo(100, 200, duration=0.25)\\nThis example moves the mouse cursor clockwise in a square pattern among the four coordinates provided a total of ten times. Each movement takes a quarter of a second, as specified by the duration=0.25 keyword argument. If you hadn’t passed a third argument to any of the pyautogui.moveTo() calls, the mouse cursor would have instantly teleported from point to point.\\nThe pyautogui.moveRel() function moves the mouse cursor relative to its current position. The following example moves the mouse in the same square pattern, except it begins the square from wherever the mouse happens to be on the screen when the code starts running:\\n\\n>>> import pyautogui\\r\\n>>> for i in range(10):\\r\\n      pyautogui.moveRel(100, 0, duration=0.25)\\r\\n      pyautogui.moveRel(0, 100, duration=0.25)\\r\\n      pyautogui.moveRel(-100, 0, duration=0.25)\\r\\n      pyautogui.moveRel(0, -100, duration=0.25)\\npyautogui.moveRel() also takes three arguments: how many pixels to move horizontally to the right, how many pixels to move vertically downward, and (optionally) how long it should take to complete the movement. A negative integer for the first or second argument will cause the mouse to move left or upward, respectively.\\n\\n\\n\\n\\n\\nGetting the Mouse Position\\n\\n\\n\\nYou can determine the mouse’s current position by calling the pyautogui.position() function, which will return a tuple of the mouse cursor’s x and y positions at the time of the function call. Enter the following into the interactive shell, moving the mouse around after each call:\\n\\n>>> pyautogui.position()\\r\\n(311, 622)\\r\\n>>> pyautogui.position()\\r\\n(377, 481)\\r\\n>>> pyautogui.position()\\r\\n(1536, 637)\\nOf course, your return values will vary depending on where your mouse cursor is.\\n\\n\\n\\n\\n\\n\\nProject: “Where Is the Mouse Right Now?”\\n\\n\\n\\nBeing able to determine the mouse position is an important part of setting up your GUI automation scripts. But it’s almost impossible to figure out the exact coordinates of a pixel just by looking at the screen. It would be handy to have a program that constantly displays the x- and y-coordinates of the mouse cursor as you move it around.\\nAt a high level, here’s what your program should do:\\n\\n\\n\\nDisplay the current x- and y-coordinates of the mouse cursor.\\n\\n\\nUpdate these coordinates as the mouse moves around the screen.\\n\\n\\n\\nThis means your code will need to do the following:\\n\\n\\n\\nCall the position() function to fetch the current coordinates.\\n\\n\\nErase the previously printed coordinates by printing \\\\b backspace characters to the screen.\\n\\n\\nHandle the KeyboardInterrupt exception so the user can press CTRL-C to quit.\\n\\n\\n\\nOpen a new file editor window and save it as mouseNow.py.\\n\\n\\n\\n\\nStep 1: Import the Module\\n\\n\\n\\nStart your program with the following:\\n\\n#! python3\\r\\n# mouseNow.py - Displays the mouse cursor\\'s current position.\\r\\nimport pyautogui\\r\\nprint(\\'Press Ctrl-C to quit.\\')\\r\\n#TODO: Get and print the mouse coordinates.\\nThe beginning of the program imports the pyautogui module and prints a reminder to the user that they have to press CTRL-C to quit.\\n\\n\\n\\n\\n\\nStep 2: Set Up the Quit Code and Infinite Loop\\n\\n\\n\\nYou can use an infinite while loop to constantly print the current mouse coordinates from mouse.position(). As for the code that quits the program, you’ll need to catch the KeyboardInterrupt exception, which is raised whenever the user presses CTRL-C. If you don’t handle this exception, it will display an ugly traceback and error message to the user. Add the following to your program:\\n\\n   #! python3\\r\\n   # mouseNow.py - Displays the mouse cursor\\'s current position.\\r\\n   import pyautogui\\r\\n   print(\\'Press Ctrl-C to quit.\\')\\r\\n   try:\\r\\n       while True:\\r\\n           # TODO: Get and print the mouse coordinates.\\r\\n❶ except KeyboardInterrupt:\\r\\n❷     print(\\'\\\\nDone.\\')\\nTo handle the exception, enclose the infinite while loop in a try statement. When the user presses CTRL-C, the program execution will move to the except clause ❶ and Done. will be printed in a new line ❷.\\n\\n\\n\\n\\n\\nStep 3: Get and Print the Mouse Coordinates\\n\\n\\n\\nThe code inside the while loop should get the current mouse coordinates, format them to look nice, and print them. Add the following code to the inside of the while loop:\\n\\n#! python3\\r\\n# mouseNow.py - Displays the mouse cursor\\'s current position.\\r\\nimport pyautogui\\r\\nprint(\\'Press Ctrl-C to quit.\\')\\r\\n--snip--\\r\\n        # Get and print the mouse coordinates.\\r\\n        x, y = pyautogui.position()\\r\\n        positionStr = \\'X: \\' + str(x).rjust(4) + \\' Y: \\' + str(y).rjust(4)\\r\\n--snip--\\nUsing the multiple assignment trick, the x and y variables are given the values of the two integers returned in the tuple from pyautogui.position(). By passing x and y to the str() function, you can get string forms of the integer coordinates. The rjust() string method will right-justify them so that they take up the same amount of space, whether the coordinate has one, two, three, or four digits. Concatenating the right-justified string coordinates with \\'X: \\' and \\' Y: \\' labels gives us a neatly formatted string, which will be stored in positionStr.\\nAt the end of your program, add the following code:\\n\\n   #! python3\\r\\n   # mouseNow.py - Displays the mouse cursor\\'s current position.\\r\\n   --snip--\\r\\n           print(positionStr, end=\\'\\')\\r\\n❶         print(\\'\\\\b\\' * len(positionStr), end=\\'\\', flush=True)\\nThis actually prints positionStr to the screen. The end=\\'\\' keyword argument to print() prevents the default newline character from being added to the end of the printed line. It’s possible to erase text you’ve already printed to the screen—but only for the most recent line of text. Once you print a newline character, you can’t erase anything printed before it.\\nTo erase text, print the \\\\b backspace escape character. This special character erases a character at the end of the current line on the screen. The line at ❶ uses string replication to produce a string with as many \\\\b characters as the length of the string stored in positionStr, which has the effect of erasing the positionStr string that was last printed.\\nFor a technical reason beyond the scope of this book, always pass flush=True to print() calls that print \\\\b backspace characters. Otherwise, the screen might not update the text as desired.\\nSince the while loop repeats so quickly, the user won’t actually notice that you’re deleting and reprinting the whole number on the screen. For example, if the x-coordinate is 563 and the mouse moves one pixel to the right, it will look like only the 3 in 563 is changed to a 4.\\nWhen you run the program, there will be only two lines printed. They should look like something like this:\\n\\nPress Ctrl-C to quit.\\r\\nX: 290 Y: 424\\nThe first line displays the instruction to press CTRL-C to quit. The second line with the mouse coordinates will change as you move the mouse around the screen. Using this program, you’ll be able to figure out the mouse coordinates for your GUI automation scripts.\\n\\n\\n\\n\\n\\n\\nControlling Mouse Interaction\\n\\n\\n\\nNow that you know how to move the mouse and figure out where it is on the screen, you’re ready to start clicking, dragging, and scrolling.\\n\\n\\n\\n\\nClicking the Mouse\\n\\n\\n\\nTo send a virtual mouse click to your computer, call the pyautogui.click() method. By default, this click uses the left mouse button and takes place wherever the mouse cursor is currently located. You can pass x- and y-coordinates of the click as optional first and second arguments if you want it to take place somewhere other than the mouse’s current position.\\nIf you want to specify which mouse button to use, include the button keyword argument, with a value of \\'left\\', \\'middle\\', or \\'right\\'. For example, pyautogui.click(100, 150, button=\\'left\\') will click the left mouse button at the coordinates (100, 150), while pyautogui.click(200, 250, button=\\'right\\') will perform a right-click at (200, 250).\\nEnter the following into the interactive shell:\\n\\n>>> import pyautogui\\r\\n>>> pyautogui.click(10, 5)\\nYou should see the mouse pointer move to near the top-left corner of your screen and click once. A full “click” is defined as pushing a mouse button down and then releasing it back up without moving the cursor. You can also perform a click by calling pyautogui.mouseDown(), which only pushes the mouse button down, and pyautogui.mouseUp(), which only releases the button. These functions have the same arguments as click(), and in fact, the click() function is just a convenient wrapper around these two function calls.\\nAs a further convenience, the pyautogui.doubleClick() function will perform two clicks with the left mouse button, while the pyautogui.rightClick() and pyautogui.middleClick() functions will perform a click with the right and middle mouse buttons, respectively.\\n\\n\\n\\n\\n\\nDragging the Mouse\\n\\n\\n\\nDragging means moving the mouse while holding down one of the mouse buttons. For example, you can move files between folders by dragging the folder icons, or you can move appointments around in a calendar app.\\nPyAutoGUI provides the pyautogui.dragTo() and pyautogui.dragRel() functions to drag the mouse cursor to a new location or a location relative to its current one. The arguments for dragTo() and dragRel() are the same as moveTo() and moveRel(): the x-coordinate/horizontal movement, the y-coordinate/vertical movement, and an optional duration of time. (OS X does not drag correctly when the mouse moves too quickly, so passing a duration keyword argument is recommended.)\\nTo try these functions, open a graphics-drawing application such as Paint on Windows, Paintbrush on OS X, or GNU Paint on Linux. (If you don’t have a drawing application, you can use the online one at http://sumopaint.com/.) I will use PyAutoGUI to draw in these applications.\\nWith the mouse cursor over the drawing application’s canvas and the Pencil or Brush tool selected, enter the following into a new file editor window and save it as spiralDraw.py:\\n\\n   import pyautogui, time\\r\\n❶ time.sleep(5)\\r\\n❷ pyautogui.click()    # click to put drawing program in focus\\r\\n   distance = 200\\r\\n   while distance > 0:\\r\\n❸     pyautogui.dragRel(distance, 0, duration=0.2)   # move right\\r\\n❹     distance = distance - 5\\r\\n❺     pyautogui.dragRel(0, distance, duration=0.2)   # move down\\r\\n❻     pyautogui.dragRel(-distance, 0, duration=0.2)  # move left\\r\\n       distance = distance - 5\\r\\n       pyautogui.dragRel(0, -distance, duration=0.2)  # move up\\nWhen you run this program, there will be a five-second delay ❶ for you to move the mouse cursor over the drawing program’s window with the Pencil or Brush tool selected. Then spiralDraw.py will take control of the mouse and click to put the drawing program in focus ❷. A window is in focus when it has an active blinking cursor, and the actions you take—like typing or, in this case, dragging the mouse—will affect that window. Once the drawing program is in focus, spiralDraw.py draws a square spiral pattern like the one in Figure\\xa018-2.\\n\\n\\n\\n\\nFigure\\xa018-2.\\xa0The results from the pyautogui.dragRel() example\\n\\nThe distance variable starts at 200, so on the first iteration of the while loop, the first dragRel() call drags the cursor 200 pixels to the right, taking 0.2 seconds ❸. distance is then decreased to 195 ❹, and the second dragRel() call drags the cursor 195 pixels down ❺. The third dragRel() call drags the cursor –195 horizontally (195 to the left) ❻, distance is decreased to 190, and the last dragRel() call drags the cursor 190 pixels up. On each iteration, the mouse is dragged right, down, left, and up, and distance is slightly smaller than it was in the previous iteration. By looping over this code, you can move the mouse cursor to draw a square spiral.\\nYou could draw this spiral by hand (or rather, by mouse), but you’d have to work slowly to be so precise. PyAutoGUI can do it in a few seconds!\\n\\nNote\\nYou could have your code draw the image using the pillow module’s drawing functions—see Chapter\\xa017 for more information. But using GUI automation allows you to make use of the advanced drawing tools that graphics programs can provide, such as gradients, different brushes, or the fill bucket.\\n\\n\\n\\n\\n\\n\\nScrolling the Mouse\\n\\n\\n\\nThe final PyAutoGUI mouse function is scroll(), which you pass an integer argument for how many units you want to scroll the mouse up or down. The size of a unit varies for each operating system and application, so you’ll have to experiment to see exactly how far it scrolls in your particular situation. The scrolling takes place at the mouse cursor’s current position. Passing a positive integer scrolls up, and passing a negative integer scrolls down. Run the following in IDLE’s interactive shell while the mouse cursor is over the IDLE window:\\n\\n>>> pyautogui.scroll(200)\\nYou’ll see IDLE briefly scroll upward—and then go back down. The downward scrolling happens because IDLE automatically scrolls down to the bottom after executing an instruction. Enter this code instead:\\n\\n>>> import pyperclip\\r\\n>>> numbers = \\'\\'\\r\\n>>> for i in range(200):\\r\\n      numbers = numbers + str(i) + \\'\\\\n\\'\\r\\n\\r\\n>>> pyperclip.copy(numbers)\\nThis imports pyperclip and sets up an empty string, numbers. The code then loops through 200 numbers and adds each number to numbers, along with a newline. After pyperclip.copy(numbers), the clipboard will be loaded with 200 lines of numbers. Open a new file editor window and paste the text into it. This will give you a large text window to try scrolling in. Enter the following code into the interactive shell:\\n\\n>>> import time, pyautogui\\r\\n>>> time.sleep(5); pyautogui.scroll(100)\\nOn the second line, you enter two commands separated by a semicolon, which tells Python to run the commands as if they were on separate lines. The only difference is that the interactive shell won’t prompt you for input between the two instructions. This is important for this example because we want to the call to pyautogui.scroll() to happen automatically after the wait. (Note that while putting two commands on one line can be useful in the interactive shell, you should still have each instruction on a separate line in your programs.)\\nAfter pressing ENTER to run the code, you will have five seconds to click the file editor window to put it in focus. Once the pause is over, the pyautogui.scroll() call will cause the file editor window to scroll up after the five-second delay.\\n\\n\\n\\n\\n\\n\\nWorking with the Screen\\n\\n\\n\\nYour GUI automation programs don’t have to click and type blindly. PyAutoGUI has screenshot features that can create an image file based on the current contents of the screen. These functions can also return a Pillow Image object of the current screen’s appearance. If you’ve been skipping around in this book, you’ll want to read Chapter\\xa017 and install the pillow module before continuing with this section.\\nOn Linux computers, the scrot program needs to be installed to use the screenshot functions in PyAutoGUI. In a Terminal window, run sudo apt-get install scrot to install this program. If you’re on Windows or OS X, skip this step and continue with the section.\\n\\n\\n\\n\\nGetting a Screenshot\\n\\n\\n\\nTo take screenshots in Python, call the pyautogui.screenshot() function. Enter the following into the interactive shell:\\n\\n>>> import pyautogui\\r\\n>>> im = pyautogui.screenshot()\\nThe im variable will contain the Image object of the screenshot. You can now call methods on the Image object in the im variable, just like any other Image object. Enter the following into the interactive shell:\\n\\n>>> im.getpixel((0, 0))\\r\\n(176, 176, 175)\\r\\n>>> im.getpixel((50, 200))\\r\\n(130, 135, 144)\\nPass getpixel() a tuple of coordinates, like (0, 0) or (50, 200), and it’ll tell you the color of the pixel at those coordinates in your image. The return value from getpixel() is an RGB tuple of three integers for the amount of red, green, and blue in the pixel. (There is no fourth value for alpha, because screenshot images are fully opaque.) This is how your programs can “see” what is currently on the screen.\\n\\n\\n\\n\\n\\nAnalyzing the Screenshot\\n\\n\\n\\nSay that one of the steps in your GUI automation program is to click a gray button. Before calling the click() method, you could take a screenshot and look at the pixel where the script is about to click. If it’s not the same gray as the gray button, then your program knows something is wrong. Maybe the window moved unexpectedly, or maybe a pop-up dialog has blocked the button. At this point, instead of continuing—and possibly wreaking havoc by clicking the wrong thing—your program can “see” that it isn’t clicking on the right thing and stop itself.\\nPyAutoGUI’s pixelMatchesColor() function will return True if the pixel at the given x- and y-coordinates on the screen matches the given color. The first and second arguments are integers for the x- and y-coordinates, and the third argument is a tuple of three integers for the RGB color the screen pixel must match. Enter the following into the interactive shell:\\n\\n   >>> import pyautogui\\r\\n   >>> im = pyautogui.screenshot()\\r\\n❶ >>> im.getpixel((50, 200))\\r\\n   (130, 135, 144)\\r\\n❷ >>> pyautogui.pixelMatchesColor(50, 200, (130, 135, 144))\\r\\n   True\\r\\n❸ >>> pyautogui.pixelMatchesColor(50, 200, (255, 135, 144))\\r\\n   False\\nAfter taking a screenshot and using getpixel() to get an RGB tuple for the color of a pixel at specific coordinates ❶, pass the same coordinates and RGB tuple to pixelMatchesColor() ❷, which should return True. Then change a value in the RGB tuple and call pixelMatchesColor() again for the same coordinates ❸. This should return false. This method can be useful to call whenever your GUI automation programs are about to call click(). Note that the color at the given coordinates must exactly match. If it is even slightly different—for example, (255, 255, 254) instead of (255, 255, 255)—then pixelMatchesColor() will return False.\\n\\n\\n\\n\\n\\n\\nProject: Extending the mouseNow Program\\n\\n\\n\\nYou could extend the mouseNow.py project from earlier in this chapter so that it not only gives the x- and y-coordinates of the mouse cursor’s current position but also gives the RGB color of the pixel under the cursor. Modify the code inside the while loop of mouseNow.py to look like this:\\n\\n#! python3\\r\\n# mouseNow.py - Displays the mouse cursor\\'s current position.\\r\\n--snip--\\r\\n        positionStr = \\'X: \\' + str(x).rjust(4) + \\' Y: \\' + str(y).rjust(4)\\r\\n        pixelColor = pyautogui.screenshot().getpixel((x, y))\\r\\n        positionStr += \\' RGB: (\\' + str(pixelColor[0]).rjust(3)\\r\\n        positionStr += \\', \\' + str(pixelColor[1]).rjust(3)\\r\\n        positionStr += \\', \\' + str(pixelColor[2]).rjust(3) + \\')\\'\\r\\n        print(positionStr, end=\\'\\')\\r\\n--snip--\\nNow, when you run mouseNow.py, the output will include the RGB color value of the pixel under the mouse cursor.\\n\\nPress Ctrl-C to quit.\\r\\nX:  406 Y:   17 RGB: (161, 50, 50)\\nThis information, along with the pixelMatchesColor() function, should make it easy to add pixel color checks to your GUI automation scripts.\\n\\n\\n\\n\\n\\nImage Recognition\\n\\n\\n\\nBut what if you do not know beforehand where PyAutoGUI should click? You can use image recognition instead. Give PyAutoGUI an image of what you want to click and let it figure out the coordinates.\\nFor example, if you have previously taken a screenshot to capture the image of a Submit button in submit.png, the locateOnScreen() function will return the coordinates where that image is found. To see how locateOnScreen() works, try taking a screenshot of a small area on your screen; then save the image and enter the following into the interactive shell, replacing \\'submit. png\\' with the filename of your screenshot:\\n\\n>>> import pyautogui\\r\\n>>> pyautogui.locateOnScreen(\\'submit.png\\')\\r\\n(643, 745, 70, 29)\\nThe four-integer tuple that locateOnScreen() returns has the x-coordinate of the left edge, the y-coordinate of the top edge, the width, and the height for the first place on the screen the image was found. If you’re trying this on your computer with your own screenshot, your return value will be different from the one shown here.\\nIf the image cannot be found on the screen, locateOnScreen() will return None. Note that the image on the screen must match the provided image perfectly in order to be recognized. If the image is even a pixel off, locateOnScreen() will return None.\\nIf the image can be found in several places on the screen, locateAllOnScreen() will return a Generator object, which can be passed to list() to return a list of four-integer tuples. There will be one four-integer tuple for each location where the image is found on the screen. Continue the interactive shell example by entering the following (and replacing \\'submit.png\\' with your own image filename):\\n\\n>>> list(pyautogui.locateAllOnScreen(\\'submit.png\\'))\\r\\n[(643, 745, 70, 29), (1007, 801, 70, 29)]\\nEach of the four-integer tuples represents an area on the screen. If your image is only found in one area, then using list() and locateAllOnScreen() just returns a list containing one tuple.\\nOnce you have the four-integer tuple for the area on the screen where your image was found, you can click the center of this area by passing the tuple to the center() function to return x- and y-coordinates of the area’s center. Enter the following into the interactive shell, replacing the arguments with your own filename, four-integer tuple, and coordinate pair:\\n\\n>>> pyautogui.locateOnScreen(\\'submit.png\\')\\r\\n(643, 745, 70, 29)\\r\\n>>> pyautogui.center((643, 745, 70, 29))\\r\\n(678, 759)\\r\\n>>> pyautogui.click((678, 759))\\nOnce you have center coordinates from center(), passing the coordinates to click() should click the center of the area on the screen that matches the image you passed to locateOnScreen().\\n\\n\\n\\n\\n\\nControlling the Keyboard\\n\\n\\n\\nPyAutoGUI also has functions for sending virtual keypresses to your computer, which enables you to fill out forms or enter text into applications.\\n\\n\\n\\n\\nSending a String from the Keyboard\\n\\n\\n\\nThe pyautogui.typewrite() function sends virtual keypresses to the computer. What these keypresses do depends on what window and text field have focus. You may want to first send a mouse click to the text field you want in order to ensure that it has focus.\\nAs a simple example, let’s use Python to automatically type the words Hello world! into a file editor window. First, open a new file editor window and position it in the upper-left corner of your screen so that PyAutoGUI will click in the right place to bring it into focus. Next, enter the following into the interactive shell:\\n\\n>>> pyautogui.click(100, 100); pyautogui.typewrite(\\'Hello world!\\')\\nNotice how placing two commands on the same line, separated by a semicolon, keeps the interactive shell from prompting you for input between running the two instructions. This prevents you from accidentally bringing a new window into focus between the click() and typewrite() calls, which would mess up the example.\\nPython will first send a virtual mouse click to the coordinates (100, 100), which should click the file editor window and put it in focus. The typewrite() call will send the text Hello world! to the window, making it look like Figure\\xa018-3. You now have code that can type for you!\\n\\n\\n\\n\\nFigure\\xa018-3.\\xa0Using PyAutogGUI to click the file editor window and type Hello world! into it\\n\\nBy default, the typewrite() function will type the full string instantly. However, you can pass an optional second argument to add a short pause between each character. This second argument is an integer or float value of the number of seconds to pause. For example, pyautogui.typewrite(\\'Hello world!\\', 0.25) will wait a quarter-second after typing H, another quarter-second after e, and so on. This gradual typewriter effect may be useful for slower applications that can’t process keystrokes fast enough to keep up with PyAutoGUI.\\nFor characters such as A or !, PyAutoGUI will automatically simulate holding down the SHIFT key as well.\\n\\n\\n\\n\\n\\nKey Names\\n\\n\\n\\nNot all keys are easy to represent with single text characters. For example, how do you represent SHIFT or the left arrow key as a single character? In PyAutoGUI, these keyboard keys are represented by short string values instead: \\'esc\\' for the ESC key or \\'enter\\' for the ENTER key.\\nInstead of a single string argument, a list of these keyboard key strings can be passed to typewrite(). For example, the following call presses the A key, then the B key, then the left arrow key twice, and finally the X and Y keys:\\n\\n>>> pyautogui.typewrite([\\'a\\', \\'b\\', \\'left\\', \\'left\\', \\'X\\', \\'Y\\'])\\nBecause pressing the left arrow key moves the keyboard cursor, this will output XYab. Table\\xa018-1 lists the PyAutoGUI keyboard key strings that you can pass to typewrite() to simulate pressing any combination of keys.\\nYou can also examine the pyautogui.KEYBOARD_KEYS list to see all possible keyboard key strings that PyAutoGUI will accept. The \\'shift\\' string refers to the left SHIFT key and is equivalent to \\'shiftleft\\'. The same applies for \\'ctrl\\', \\'alt\\', and \\'win\\' strings; they all refer to the left-side key.\\n\\nTable\\xa018-1.\\xa0PyKeyboard Attributes\\n\\n\\n\\n\\n\\n\\n\\n\\n\\nKeyboard key string\\n\\n\\nMeaning\\n\\n\\n\\n\\n\\n\\n\\'a\\', \\'b\\', \\'c\\', \\'A\\', \\'B\\', \\'C\\', \\'1\\', \\'2\\', \\'3\\', \\'!\\', \\'@\\', \\'#\\', and so on\\n\\n\\nThe keys for single characters\\n\\n\\n\\n\\n\\'enter\\' (or \\'return\\' or \\'\\\\n\\')\\n\\n\\nThe ENTER key\\n\\n\\n\\n\\n\\'esc\\'\\n\\n\\nThe ESC key\\n\\n\\n\\n\\n\\'shiftleft\\', \\'shiftright\\'\\n\\n\\nThe left and right SHIFT keys\\n\\n\\n\\n\\n\\'altleft\\', \\'altright\\'\\n\\n\\nThe left and right ALT keys\\n\\n\\n\\n\\n\\'ctrlleft\\', \\'ctrlright\\'\\n\\n\\nThe left and right CTRL keys\\n\\n\\n\\n\\n\\'tab\\' (or \\'\\\\t\\')\\n\\n\\nThe TAB key\\n\\n\\n\\n\\n\\'backspace\\', \\'delete\\'\\n\\n\\nThe BACKSPACE and DELETE keys\\n\\n\\n\\n\\n\\'pageup\\', \\'pagedown\\'\\n\\n\\nThe PAGE UP and PAGE DOWN keys\\n\\n\\n\\n\\n\\'home\\', \\'end\\'\\n\\n\\nThe HOME and END keys\\n\\n\\n\\n\\n\\'up\\', \\'down\\', \\'left\\', \\'right\\'\\n\\n\\nThe up, down, left, and right arrow keys\\n\\n\\n\\n\\n\\'f1\\', \\'f2\\', \\'f3\\', and so on\\n\\n\\nThe F1 to F12 keys\\n\\n\\n\\n\\n\\'volumemute\\', \\'volumedown\\', \\'volumeup\\'\\n\\n\\nThe mute, volume down, and volume up keys (some keyboards do not have these keys, but your operating system will still be able to understand these simulated keypresses)\\n\\n\\n\\n\\n\\'pause\\'\\n\\n\\nThe PAUSE key\\n\\n\\n\\n\\n\\'capslock\\', \\'numlock\\', \\'scrolllock\\'\\n\\n\\nThe CAPS LOCK, NUM LOCK, and SCROLL LOCK keys\\n\\n\\n\\n\\n\\'insert\\'\\n\\n\\nThe INS or INSERT key\\n\\n\\n\\n\\n\\'printscreen\\'\\n\\n\\nThe PRTSC or PRINT SCREEN key\\n\\n\\n\\n\\n\\'winleft\\', \\'winright\\'\\n\\n\\nThe left and right WIN keys (on Windows)\\n\\n\\n\\n\\n\\'command\\'\\n\\n\\nThe Command () key (on OS X) \\'option\\' The OPTION key (on OS X)\\n\\n\\n\\n\\n\\n\\n\\n\\n\\n\\n\\nPressing and Releasing the Keyboard\\n\\n\\n\\nMuch like the mouseDown() and mouseUp() functions, pyautogui.keyDown() and pyautogui.keyUp() will send virtual keypresses and releases to the computer. They are passed a keyboard key string (see Table\\xa018-1) for their argument. For convenience, PyAutoGUI provides the pyautogui.press() function, which calls both of these functions to simulate a complete keypress.\\nRun the following code, which will type a dollar sign character (obtained by holding the SHIFT key and pressing 4):\\n\\n>>> pyautogui.keyDown(\\'shift\\'); pyautogui.press(\\'4\\'); pyautogui.keyUp(\\'shift\\')\\nThis line presses down SHIFT, presses (and releases) 4, and then releases SHIFT. If you need to type a string into a text field, the typewrite() function is more suitable. But for applications that take single-key commands, the press() function is the simpler approach.\\n\\n\\n\\n\\n\\nHotkey Combinations\\n\\n\\n\\nA hotkey or shortcut is a combination of keypresses to invoke some application function. The common hotkey for copying a selection is CTRL-C (on Windows and Linux) or ⌘-C (on OS X). The user presses and holds the CTRL key, then presses the C key, and then releases the C and CTRL keys. To do this with PyAutoGUI’s keyDown() and keyUp() functions, you would have to enter the following:\\n\\npyautogui.keyDown(\\'ctrl\\')\\r\\npyautogui.keyDown(\\'c\\')\\r\\npyautogui.keyUp(\\'c\\')\\r\\npyautogui.keyUp(\\'ctrl\\')\\nThis is rather complicated. Instead, use the pyautogui.hotkey() function, which takes multiple keyboard key string arguments, presses them in order, and releases them in the reverse order. For the CTRL-C example, the code would simply be as follows:\\n\\npyautogui.hotkey(\\'ctrl\\', \\'c\\')\\nThis function is especially useful for larger hotkey combinations. In Word, the CTRL-ALT-SHIFT-S hotkey combination displays the Style pane. Instead of making eight different function calls (four keyDown() calls and four keyUp() calls), you can just call hotkey(\\'ctrl\\', \\'alt\\', \\'shift\\', \\'s\\').\\nWith a new IDLE file editor window in the upper-left corner of your screen, enter the following into the interactive shell (in OS X, replace \\'alt\\' with \\'ctrl\\'):\\n\\n   >>> import pyautogui, time\\r\\n   >>> def commentAfterDelay():\\r\\n❶       pyautogui.click(100, 100)\\r\\n❷       pyautogui.typewrite(\\'In IDLE, Alt-3 comments out a line.\\')\\r\\n         time.sleep(2)\\r\\n❸       pyautogui.hotkey(\\'alt\\', \\'3\\')\\r\\n\\r\\n   >>> commentAfterDelay()\\nThis defines a function commentAfterDelay() that, when called, will click the file editor window to bring it into focus ❶, type In IDLE, Atl-3 comments out a line ❷, pause for 2 seconds, and then simulate pressing the ALT-3 hotkey (or CTRL-3 on OS X) ❸. This keyboard shortcut adds two # characters to the current line, commenting it out. (This is a useful trick to know when writing your own code in IDLE.)\\n\\n\\n\\n\\n\\n\\nReview of the PyAutoGUI Functions\\n\\n\\n\\nSince this chapter covered many different functions, here is a quick summary reference:\\n\\n\\n\\nmoveTo(x, y).\\xa0Moves the mouse cursor to the given x and y coordinates.\\n\\n\\nmoveRel(xOffset, yOffset).\\xa0Moves the mouse cursor relative to its current position.\\n\\n\\ndragTo(x, y).\\xa0Moves the mouse cursor while the left button is held down.\\n\\n\\ndragRel(xOffset, yOffset).\\xa0Moves the mouse cursor relative to its current position while the left button is held down.\\n\\n\\nclick(x, y, button).\\xa0Simulates a click (left button by default).\\n\\n\\nrightClick().\\xa0Simulates a right-button click.\\n\\n\\nmiddleClick().\\xa0Simulates a middle-button click.\\n\\n\\ndoubleClick().\\xa0Simulates a double left-button click.\\n\\n\\nmouseDown(x, y, button).\\xa0Simulates pressing down the given button at the position x, y.\\n\\n\\nmouseUp(x, y, button).\\xa0Simulates releasing the given button at the position x, y.\\n\\n\\nscroll(units).\\xa0Simulates the scroll wheel. A positive argument scrolls up; a negative argument scrolls down.\\n\\n\\ntypewrite(message).\\xa0Types the characters in the given message string.\\n\\n\\ntypewrite([key1, key2, key3]).\\xa0Types the given keyboard key strings.\\n\\n\\npress(key).\\xa0Presses the given keyboard key string.\\n\\n\\nkeyDown(key).\\xa0Simulates pressing down the given keyboard key.\\n\\n\\nkeyUp(key).\\xa0Simulates releasing the given keyboard key.\\n\\n\\nhotkey([key1, key2, key3]).\\xa0Simulates pressing the given keyboard key strings down in order and then releasing them in reverse order.\\n\\n\\nscreenshot().\\xa0Returns a screenshot as an Image object. (See Chapter\\xa017 for information on Image objects.)\\n\\n\\n\\n\\n\\n\\n\\n\\nProject: Automatic Form Filler\\n\\n\\n\\nOf all the boring tasks, filling out forms is the most dreaded of chores. It’s only fitting that now, in the final chapter project, you will slay it. Say you have a huge amount of data in a spreadsheet, and you have to tediously retype it into some other application’s form interface—with no intern to do it for you. Although some applications will have an Import feature that will allow you to upload a spreadsheet with the information, sometimes it seems that there is no other way than mindlessly clicking and typing for hours on end. You’ve come this far in this book; you know that of course there’s another way.\\nThe form for this project is a Google Docs form that you can find at http://autbor.com/form. It looks like Figure\\xa018-4.\\n\\n\\n\\n\\nFigure\\xa018-4.\\xa0The form used for this project\\n\\nAt a high level, here’s what your program should do:\\n\\n\\n\\nClick the first text field of the form.\\n\\n\\nMove through the form, typing information into each field.\\n\\n\\nClick the Submit button.\\n\\n\\nRepeat the process with the next set of data.\\n\\n\\n\\nThis means your code will need to do the following:\\n\\n\\n\\nCall pyautogui.click() to click the form and Submit button.\\n\\n\\nCall pyautogui.typewrite() to enter text into the fields.\\n\\n\\nHandle the KeyboardInterrupt exception so the user can press CTRL-C to quit.\\n\\n\\n\\nOpen a new file editor window and save it as formFiller.py.\\n\\n\\n\\n\\nStep 1: Figure Out the Steps\\n\\n\\n\\nBefore writing code, you need to figure out the exact keystrokes and mouse clicks that will fill out the form once. The mouseNow.py script in Project: “Where Is the Mouse Right Now?” can help you figure out specific mouse coordinates. You need to know only the coordinates of the first text field. After clicking the first field, you can just press TAB to move focus to the next field. This will save you from having to figure out the x- and y-coordinates to click for every field.\\nHere are the steps for entering data into the form:\\n\\n\\n\\nClick the Name field. (Use mouseNow.py to determine the coordinates after maximizing the browser window. On OS X, you may need to click twice: once to put the browser in focus and again to click the Name field.)\\n\\n\\nType a name and then press TAB.\\n\\n\\nType a greatest fear and then press TAB.\\n\\n\\nPress the down arrow key the correct number of times to select the wizard power source: once for wand, twice for amulet, three times for crystal ball, and four times for money. Then press TAB. (Note that on OS X, you will have to press the down arrow key one more time for each option. For some browsers, you may need to press the ENTER key as well.)\\n\\n\\nPress the right arrow key to select the answer to the Robocop question. Press it once for 2, twice for 3, three times for 4, or four times for 5; or just press the spacebar to select 1 (which is highlighted by default). Then press TAB.\\n\\n\\nType an additional comment and then press TAB.\\n\\n\\nPress the ENTER key to “click” the Submit button.\\n\\n\\nAfter submitting the form, the browser will take you to a page where you will need to click a link to return to the form page.\\n\\n\\n\\nNote that if you run this program again later, you may have to update the mouse click coordinates, since the browser window might have changed position. To work around this, always make sure the browser window is maximized before finding the coordinates of the first form field. Also, different browsers on different operating systems might work slightly differently from the steps given here, so check that these keystroke combinations work for your computer before running your program.\\n\\n\\n\\n\\n\\nStep 2: Set Up Coordinates\\n\\n\\n\\nLoad the example form you downloaded (Figure\\xa018-4) in a browser and maximize your browser window. Open a new Terminal or command line window to run the mouseNow.py script, and then mouse over the Name field to figure out its the x- and y-coordinates. These numbers will be assigned to the nameField variable in your program. Also, find out the x- and y-coordinates and RGB tuple value of the blue Submit button. These values will be assigned to the submitButton and submitButtonColor variables, respectively.\\nNext, fill in some dummy data for the form and click Submit. You need to see what the next page looks like so that you can use mouseNow.py to find the coordinates of the Submit another response link on this new page.\\nMake your source code look like the following, being sure to replace all the values in italics with the coordinates you determined from your own tests:\\n\\n#! python3\\r\\n# formFiller.py - Automatically fills in the form.\\r\\n\\r\\nimport pyautogui, time\\r\\n\\r\\n# Set these to the correct coordinates for your computer.\\r\\nnameField = (648, 319)\\r\\nsubmitButton = (651, 817)\\r\\nsubmitButtonColor = (75, 141, 249)\\r\\nsubmitAnotherLink = (760, 224)\\r\\n\\r\\n# TODO: Give the user a chance to kill the script.\\r\\n\\r\\n# TODO: Wait until the form page has loaded.\\r\\n\\r\\n# TODO: Fill out the Name Field.\\r\\n\\r\\n# TODO: Fill out the Greatest Fear(s) field.\\r\\n\\r\\n# TODO: Fill out the Source of Wizard Powers field.\\r\\n\\r\\n# TODO: Fill out the Robocop field.\\r\\n\\r\\n# TODO: Fill out the Additional Comments field.\\r\\n\\r\\n# TODO: Click Submit.\\r\\n\\r\\n# TODO: Wait until form page has loaded.\\r\\n\\r\\n# TODO: Click the Submit another response link.\\nNow you need the data you actually want to enter into this form. In the real world, this data might come from a spreadsheet, a plaintext file, or a website, and it would require additional code to load into the program. But for this project, you’ll just hardcode all this data in a variable. Add the following to your program:\\n\\n#! python3\\r\\n# formFiller.py - Automatically fills in the form.\\r\\n\\r\\n--snip--\\r\\n\\r\\nformData = [{\\'name\\': \\'Alice\\', \\'fear\\': \\'eavesdroppers\\', \\'source\\': \\'wand\\',\\r\\n            \\'robocop\\': 4, \\'comments\\': \\'Tell Bob I said hi.\\'},\\r\\n            {\\'name\\': \\'Bob\\', \\'fear\\': \\'bees\\', \\'source\\': \\'amulet\\', \\'robocop\\': 4,\\r\\n            \\'comments\\': \\'n/a\\'},\\r\\n            {\\'name\\': \\'Carol\\', \\'fear\\': \\'puppets\\', \\'source\\': \\'crystal ball\\',\\r\\n            \\'robocop\\': 1, \\'comments\\': \\'Please take the puppets out of the\\r\\n            break room.\\'},\\r\\n            {\\'name\\': \\'Alex Murphy\\', \\'fear\\': \\'ED-209\\', \\'source\\': \\'money\\',\\r\\n            \\'robocop\\': 5, \\'comments\\': \\'Protect the innocent. Serve the public\\r\\n            trust. Uphold the law.\\'},\\r\\n           ]\\r\\n\\r\\n--snip--\\nThe formData list contains four dictionaries for four different names. Each dictionary has names of text fields as keys and responses as values. The last bit of setup is to set PyAutoGUI’s PAUSE variable to wait half a second after each function call. Add the following to your program after the formData assignment statement:\\n\\npyautogui.PAUSE = 0.5\\n\\n\\n\\n\\n\\nStep 3: Start Typing Data\\n\\n\\n\\nA for loop will iterate over each of the dictionaries in the formData list, passing the values in the dictionary to the PyAutoGUI functions that will virtually type in the text fields.\\nAdd the following code to your program:\\n\\n   #! python3\\r\\n   # formFiller.py - Automatically fills in the form.\\r\\n\\r\\n   --snip--\\r\\n\\r\\n   for person in formData:\\r\\n       # Give the user a chance to kill the script.\\r\\n       print(\\'>>> 5 SECOND PAUSE TO LET USER PRESS CTRL-C <<<\\')\\r\\n❶     time.sleep(5)\\r\\n\\r\\n       # Wait until the form page has loaded.\\r\\n❷     while not pyautogui.pixelMatchesColor(submitButton[0], submitButton[1],\\r\\n       submitButtonColor):\\r\\n           time.sleep(0.5)\\r\\n\\r\\n   --snip--\\nAs a small safety feature, the script has a five-second pause ❶ that gives the user a chance to hit CTRL-C (or move the mouse cursor to the upper-left corner of the screen to raise the FailSafeException exception) to shut the program down in case it’s doing something unexpected. Then the program waits until the Submit button’s color is visible ❷, letting the program know that the form page has loaded. Remember that you figured out the coordinate and color information in step 2 and stored it in the submitButton and submitButtonColor variables. To use pixelMatchesColor(), you pass the coordinates submitButton[0] and submitButton[1], and the color submitButtonColor.\\nAfter the code that waits until the Submit button’s color is visible, add the following:\\n\\n   #! python3\\r\\n   # formFiller.py - Automatically fills in the form.\\r\\n\\r\\n   --snip--\\r\\n\\r\\n❶     print(\\'Entering %s info...\\' % (person[\\'name\\']))\\r\\n❷     pyautogui.click(nameField[0], nameField[1])\\r\\n\\r\\n       # Fill out the Name field.\\r\\n❸     pyautogui.typewrite(person[\\'name\\'] + \\'\\\\t\\')\\r\\n\\r\\n       # Fill out the Greatest Fear(s) field.\\r\\n❹     pyautogui.typewrite(person[\\'fear\\'] + \\'\\\\t\\')\\r\\n\\r\\n   --snip--\\nWe add an occasional print() call to display the program’s status in its Terminal window to let the user know what’s going on ❶.\\nSince the program knows that the form is loaded, it’s time to call click() to click the Name field ❷ and typewrite() to enter the string in person[\\'name\\'] ❸. The \\'\\\\t\\' character is added to the end of the string passed to typewrite() to simulate pressing TAB, which moves the keyboard focus to the next field, Greatest Fear(s). Another call to typewrite() will type the string in person[\\'fear\\'] into this field and then tab to the next field in the form ❹.\\n\\n\\n\\n\\n\\nStep 4: Handle Select Lists and Radio Buttons\\n\\n\\n\\nThe drop-down menu for the “wizard powers” question and the radio buttons for the Robocop field are trickier to handle than the text fields. To click these options with the mouse, you would have to figure out the x- and y-coordinates of each possible option. It’s easier to use the keyboard arrow keys to make a selection instead.\\nAdd the following to your program:\\n\\n   #! python3\\r\\n   # formFiller.py - Automatically fills in the form.\\r\\n\\r\\n   --snip--\\r\\n\\r\\n       # Fill out the Source of Wizard Powers field.\\r\\n❶     if person[\\'source\\'] == \\'wand\\':\\r\\n❷         pyautogui.typewrite([\\'down\\', \\'\\\\t\\'])\\r\\n       elif person[\\'source\\'] == \\'amulet\\':\\r\\n           pyautogui.typewrite([\\'down\\', \\'down\\', \\'\\\\t\\'])\\r\\n       elif person[\\'source\\'] == \\'crystal ball\\':\\r\\n           pyautogui.typewrite([\\'down\\', \\'down\\', \\'down\\', \\'\\\\t\\'])\\r\\n       elif person[\\'source\\'] == \\'money\\':\\r\\n           pyautogui.typewrite([\\'down\\', \\'down\\', \\'down\\', \\'down\\', \\'\\\\t\\'])\\r\\n\\r\\n       # Fill out the Robocop field.\\r\\n❸     if person[\\'robocop\\'] == 1:\\r\\n❹         pyautogui.typewrite([\\' \\', \\'\\\\t\\'])\\r\\n       elif person[\\'robocop\\'] == 2:\\r\\n           pyautogui.typewrite([\\'right\\', \\'\\\\t\\'])\\r\\n       elif person[\\'robocop\\'] == 3:\\r\\n           pyautogui.typewrite([\\'right\\', \\'right\\', \\'\\\\t\\'])\\r\\n       elif person[\\'robocop\\'] == 4:\\r\\n           pyautogui.typewrite([\\'right\\', \\'right\\', \\'right\\', \\'\\\\t\\'])\\r\\n       elif person[\\'robocop\\'] == 5:\\r\\n           pyautogui.typewrite([\\'right\\', \\'right\\', \\'right\\', \\'right\\', \\'\\\\t\\'])\\r\\n\\r\\n   --snip--\\nOnce the drop-down menu has focus (remember that you wrote code to simulate pressing TAB after filling out the Greatest Fear(s) field), pressing the down arrow key will move to the next item in the selection list. Depending on the value in person[\\'source\\'], your program should send a number of down arrow keypresses before tabbing to the next field. If the value at the \\'source\\' key in this user’s dictionary is \\'wand\\' ❶, we simulate pressing the down arrow key once (to select Wand) and pressing TAB ❷. If the value at the \\'source\\' key is \\'amulet\\', we simulate pressing the down arrow key twice and pressing TAB, and so on for the other possible answers.\\nThe radio buttons for the Robocop question can be selected with the right arrow keys—or, if you want to select the first choice ❸, by just pressing the spacebar ❹.\\n\\n\\n\\n\\n\\nStep 5: Submit the Form and Wait\\n\\n\\n\\nYou can fill out the Additional Comments field with the typewrite() function by passing person[\\'comments\\'] as an argument. You can type an additional \\'\\\\t\\' to move the keyboard focus to the next field or the Submit button. Once the Submit button is in focus, calling pyautogui.press(\\'enter\\') will simulate pressing the ENTER key and submit the form. After submitting the form, your program will wait five seconds for the next page to load.\\nOnce the new page has loaded, it will have a Submit another response link that will direct the browser to a new, empty form page. You stored the coordinates of this link as a tuple in submitAnotherLink in step 2, so pass these coordinates to pyautogui.click() to click this link.\\nWith the new form ready to go, the script’s outer for loop can continue to the next iteration and enter the next person’s information into the form.\\nComplete your program by adding the following code:\\n\\n#! python3\\r\\n# formFiller.py - Automatically fills in the form.\\r\\n\\r\\n--snip--\\r\\n\\r\\n    # Fill out the Additional Comments field.\\r\\n    pyautogui.typewrite(person[\\'comments\\'] + \\'\\\\t\\')\\r\\n\\r\\n    # Click Submit.\\r\\n    pyautogui.press(\\'enter\\')\\r\\n\\r\\n    # Wait until form page has loaded.\\r\\n    print(\\'Clicked Submit.\\')\\r\\n    time.sleep(5)\\r\\n\\r\\n    # Click the Submit another response link.\\r\\n    pyautogui.click(submitAnotherLink[0], submitAnotherLink[1])\\nOnce the main for loop has finished, the program will have plugged in the information for each person. In this example, there are only four people to enter. But if you had 4,000 people, then writing a program to do this would save you a lot of time and typing!\\n\\n\\n\\n\\n\\n\\nSummary\\n\\n\\n\\nGUI automation with the pyautogui module allows you to interact with applications on your computer by controlling the mouse and keyboard. While this approach is flexible enough to do anything that a human user can do, the downside is that these programs are fairly blind to what they are clicking or typing. When writing GUI automation programs, try to ensure that they will crash quickly if they’re given bad instructions. Crashing is annoying, but it’s much better than the program continuing in error.\\nYou can move the mouse cursor around the screen and simulate mouse clicks, keystrokes, and keyboard shortcuts with PyAutoGUI. The pyautogui module can also check the colors on the screen, which can provide your GUI automation program with enough of an idea of the screen contents to know whether it has gotten offtrack. You can even give PyAutoGUI a screen-shot and let it figure out the coordinates of the area you want to click.\\nYou can combine all of these PyAutoGUI features to automate any mindlessly repetitive task on your computer. In fact, it can be downright hypnotic to watch the mouse cursor move on its own and see text appear on the screen automatically. Why not spend the time you saved by sitting back and watching your program do all your work for you? There’s a certain satisfaction that comes from seeing how your cleverness has saved you from the boring stuff.\\n\\n\\n\\n\\n\\nPractice Questions\\n\\n\\n\\n\\n\\n\\n\\n\\n\\n\\nQ:\\n\\n\\n1. How can you trigger PyAutoGUI’s fail safe to stop a program?\\n\\n\\n\\n\\nQ:\\n\\n\\n2. What function returns the current resolution()?\\n\\n\\n\\n\\nQ:\\n\\n\\n3. What function returns the coordinates for the mouse cursor’s current position?\\n\\n\\n\\n\\nQ:\\n\\n\\n4. What is the difference between pyautogui.moveTo() and pyautogui.moveRel()?\\n\\n\\n\\n\\nQ:\\n\\n\\n5. What functions can be used to drag the mouse?\\n\\n\\n\\n\\nQ:\\n\\n\\n6. What function call will type out the characters of \"Hello world!\"?\\n\\n\\n\\n\\nQ:\\n\\n\\n7. How can you do keypresses for special keys such as the keyboard’s left arrow key?\\n\\n\\n\\n\\nQ:\\n\\n\\n8. How can you save the current contents of the screen to an image file named screenshot.png?\\n\\n\\n\\n\\nQ:\\n\\n\\n9. What code would set a two second pause after every PyAutoGUI function call?\\n\\n\\n\\n\\n\\n\\n\\n\\n\\n\\nPractice Projects\\n\\n\\n\\nFor practice, write programs that do the following.\\n\\n\\n\\n\\nLooking Busy\\n\\n\\n\\nMany instant messaging programs determine whether you are idle, or away from your computer, by detecting a lack of mouse movement over some period of time—say, ten minutes. Maybe you’d like to sneak away from your desk for a while but don’t want others to see your instant messenger status go into idle mode. Write a script to nudge your mouse cursor slightly every ten seconds. The nudge should be small enough so that it won’t get in the way if you do happen to need to use your computer while the script is running.\\n\\n\\n\\n\\n\\nInstant Messenger Bot\\n\\n\\n\\nGoogle Talk, Skype, Yahoo Messenger, AIM, and other instant messaging applications often use proprietary protocols that make it difficult for others to write Python modules that can interact with these programs. But even these proprietary protocols can’t stop you from writing a GUI automation tool.\\nThe Google Talk application has a search bar that lets you enter a username on your friend list and open a messaging window when you press ENTER. The keyboard focus automatically moves to the new window. Other instant messenger applications have similar ways to open new message windows. Write a program that will automatically send out a notification message to a select group of people on your friend list. Your program may have to deal with exceptional cases, such as friends being offline, the chat window appearing at different coordinates on the screen, or confirmation boxes that interrupt your messaging. Your program will have to take screen-shots to guide its GUI interaction and adopt ways of detecting when its virtual keystrokes aren’t being sent.\\n\\nNote\\nYou may want to set up some fake test accounts so that you don’t accidentally spam your real friends while writing this program.\\n\\n\\n\\n\\n\\n\\nGame-Playing Bot Tutorial\\n\\n\\n\\nThere is a great tutorial titled “How to Build a Python Bot That Can Play Web Games” that you can find at http://nostarch.com/automatestuff/. This tutorial explains how to create a GUI automation program in Python that plays a Flash game called Sushi Go Round. The game involves clicking the correct ingredient buttons to fill customers’ sushi orders. The faster you fill orders without mistakes, the more points you get. This is a perfectly suited task for a GUI automation program—and a way to cheat to a high score! The tutorial covers many of the same topics that this chapter covers but also includes descriptions of PyAutoGUI’s basic image recognition features.\\n\\n\\n\\n\\n\\n\\n\\nSupport the author by purchasing the print/ebook bundle from No Starch Press or separately on Amazon.\\n\\nRead the author\\'s other Creative Commons licensed Python books.\\n\\n\\n\\n\\n\\n\\n\\n\\n\\n\\n'"
      ]
     },
     "execution_count": 222,
     "metadata": {},
     "output_type": "execute_result"
    }
   ],
   "source": [
    "soup.getText()"
   ]
  },
  {
   "cell_type": "markdown",
   "metadata": {},
   "source": [
    "# 21.\n",
    "\n",
    "Write a function unknown() that takes a URL as its argument, and returns a list of unknown words that occur on that webpage. In order to do this, extract all substrings consisting of lowercase letters (using re.findall()) and remove any items from this set that occur in the Words Corpus (nltk.corpus.words). Try to categorize these words manually and discuss your findings."
   ]
  },
  {
   "cell_type": "code",
   "execution_count": 43,
   "metadata": {},
   "outputs": [],
   "source": [
    "def unknown(url):\n",
    "    from urllib import request\n",
    "    from bs4 import BeautifulSoup as bs\n",
    "    import nltk\n",
    "    import re\n",
    "    html = request.urlopen(url) # Get the url\n",
    "    soup = bs(html) #Put it in bs4 format\n",
    "    text = soup.getText()# get only the text\n",
    "    print(\"At the pattern\")\n",
    "    pattern = r'''(?x)(\n",
    "                \\w+\\s \n",
    "                )\n",
    "                '''\n",
    "    pattern = '[a-z]+\\s'\n",
    "    #re.findall(patten, text) \n",
    "    #While nltk.regex_..(text,pattern)\n",
    "    print(\"Finding all tokens\")\n",
    "    tokens = re.findall(pattern,text)\n",
    "    print(\"Finding the words\")\n",
    "    return [word for word in tokens if not word in set(nltk.corpus.words.words(\"en\"))] #Remove items that occur in nltk.corpus.words\n",
    "    "
   ]
  },
  {
   "cell_type": "markdown",
   "metadata": {},
   "source": [
    "\n",
    "# 22. \n",
    "\n",
    "Examine the results of processing the URL http://news.bbc.co.uk/ using the regular expressions suggested above. You will see that there is still a fair amount of non-textual data there, particularly Javascript commands. You may also find that sentence breaks have not been properly preserved. Define further regular expressions that improve the extraction of text from this web page."
   ]
  },
  {
   "cell_type": "code",
   "execution_count": 42,
   "metadata": {},
   "outputs": [
    {
     "name": "stdout",
     "output_type": "stream",
     "text": [
      "At the pattern\n",
      "Finding all tokens\n",
      "Finding the words\n"
     ]
    },
    {
     "ename": "KeyboardInterrupt",
     "evalue": "",
     "output_type": "error",
     "traceback": [
      "\u001b[1;31m---------------------------------------------------------------------------\u001b[0m",
      "\u001b[1;31mKeyboardInterrupt\u001b[0m                         Traceback (most recent call last)",
      "\u001b[1;32m<ipython-input-42-3209e61734a9>\u001b[0m in \u001b[0;36m<module>\u001b[1;34m\u001b[0m\n\u001b[0;32m      1\u001b[0m \u001b[1;31m#This question takes way too long to process.\u001b[0m\u001b[1;33m\u001b[0m\u001b[1;33m\u001b[0m\u001b[1;33m\u001b[0m\u001b[0m\n\u001b[0;32m      2\u001b[0m \u001b[1;31m#Using print statements, let's see where.\u001b[0m\u001b[1;33m\u001b[0m\u001b[1;33m\u001b[0m\u001b[1;33m\u001b[0m\u001b[0m\n\u001b[1;32m----> 3\u001b[1;33m \u001b[0munknown\u001b[0m\u001b[1;33m(\u001b[0m\u001b[1;34m'http://www.nltk.org/book/ch03.html'\u001b[0m\u001b[1;33m)\u001b[0m\u001b[1;33m\u001b[0m\u001b[1;33m\u001b[0m\u001b[0m\n\u001b[0m",
      "\u001b[1;32m<ipython-input-41-8b049d2cd00c>\u001b[0m in \u001b[0;36munknown\u001b[1;34m(url)\u001b[0m\n\u001b[0;32m     18\u001b[0m     \u001b[0mtokens\u001b[0m \u001b[1;33m=\u001b[0m \u001b[0mre\u001b[0m\u001b[1;33m.\u001b[0m\u001b[0mfindall\u001b[0m\u001b[1;33m(\u001b[0m\u001b[0mpattern\u001b[0m\u001b[1;33m,\u001b[0m\u001b[0mtext\u001b[0m\u001b[1;33m)\u001b[0m\u001b[1;33m\u001b[0m\u001b[1;33m\u001b[0m\u001b[0m\n\u001b[0;32m     19\u001b[0m     \u001b[0mprint\u001b[0m\u001b[1;33m(\u001b[0m\u001b[1;34m\"Finding the words\"\u001b[0m\u001b[1;33m)\u001b[0m\u001b[1;33m\u001b[0m\u001b[1;33m\u001b[0m\u001b[0m\n\u001b[1;32m---> 20\u001b[1;33m     \u001b[1;32mreturn\u001b[0m \u001b[1;33m[\u001b[0m\u001b[0mword\u001b[0m \u001b[1;32mfor\u001b[0m \u001b[0mword\u001b[0m \u001b[1;32min\u001b[0m \u001b[0mtokens\u001b[0m \u001b[1;32mif\u001b[0m \u001b[1;32mnot\u001b[0m \u001b[0mword\u001b[0m \u001b[1;32min\u001b[0m \u001b[0mset\u001b[0m\u001b[1;33m(\u001b[0m\u001b[0mnltk\u001b[0m\u001b[1;33m.\u001b[0m\u001b[0mcorpus\u001b[0m\u001b[1;33m.\u001b[0m\u001b[0mwords\u001b[0m\u001b[1;33m.\u001b[0m\u001b[0mwords\u001b[0m\u001b[1;33m(\u001b[0m\u001b[1;34m\"en\"\u001b[0m\u001b[1;33m)\u001b[0m\u001b[1;33m)\u001b[0m\u001b[1;33m]\u001b[0m \u001b[1;31m#Remove items that occur in nltk.corpus.words\u001b[0m\u001b[1;33m\u001b[0m\u001b[1;33m\u001b[0m\u001b[0m\n\u001b[0m\u001b[0;32m     21\u001b[0m \u001b[1;33m\u001b[0m\u001b[0m\n",
      "\u001b[1;32m<ipython-input-41-8b049d2cd00c>\u001b[0m in \u001b[0;36m<listcomp>\u001b[1;34m(.0)\u001b[0m\n\u001b[0;32m     18\u001b[0m     \u001b[0mtokens\u001b[0m \u001b[1;33m=\u001b[0m \u001b[0mre\u001b[0m\u001b[1;33m.\u001b[0m\u001b[0mfindall\u001b[0m\u001b[1;33m(\u001b[0m\u001b[0mpattern\u001b[0m\u001b[1;33m,\u001b[0m\u001b[0mtext\u001b[0m\u001b[1;33m)\u001b[0m\u001b[1;33m\u001b[0m\u001b[1;33m\u001b[0m\u001b[0m\n\u001b[0;32m     19\u001b[0m     \u001b[0mprint\u001b[0m\u001b[1;33m(\u001b[0m\u001b[1;34m\"Finding the words\"\u001b[0m\u001b[1;33m)\u001b[0m\u001b[1;33m\u001b[0m\u001b[1;33m\u001b[0m\u001b[0m\n\u001b[1;32m---> 20\u001b[1;33m     \u001b[1;32mreturn\u001b[0m \u001b[1;33m[\u001b[0m\u001b[0mword\u001b[0m \u001b[1;32mfor\u001b[0m \u001b[0mword\u001b[0m \u001b[1;32min\u001b[0m \u001b[0mtokens\u001b[0m \u001b[1;32mif\u001b[0m \u001b[1;32mnot\u001b[0m \u001b[0mword\u001b[0m \u001b[1;32min\u001b[0m \u001b[0mset\u001b[0m\u001b[1;33m(\u001b[0m\u001b[0mnltk\u001b[0m\u001b[1;33m.\u001b[0m\u001b[0mcorpus\u001b[0m\u001b[1;33m.\u001b[0m\u001b[0mwords\u001b[0m\u001b[1;33m.\u001b[0m\u001b[0mwords\u001b[0m\u001b[1;33m(\u001b[0m\u001b[1;34m\"en\"\u001b[0m\u001b[1;33m)\u001b[0m\u001b[1;33m)\u001b[0m\u001b[1;33m]\u001b[0m \u001b[1;31m#Remove items that occur in nltk.corpus.words\u001b[0m\u001b[1;33m\u001b[0m\u001b[1;33m\u001b[0m\u001b[0m\n\u001b[0m\u001b[0;32m     21\u001b[0m \u001b[1;33m\u001b[0m\u001b[0m\n",
      "\u001b[1;32m~\\Anaconda3\\lib\\site-packages\\nltk\\corpus\\reader\\wordlist.py\u001b[0m in \u001b[0;36mwords\u001b[1;34m(self, fileids, ignore_lines_startswith)\u001b[0m\n\u001b[0;32m     23\u001b[0m         return [\n\u001b[0;32m     24\u001b[0m             \u001b[0mline\u001b[0m\u001b[1;33m\u001b[0m\u001b[1;33m\u001b[0m\u001b[0m\n\u001b[1;32m---> 25\u001b[1;33m             \u001b[1;32mfor\u001b[0m \u001b[0mline\u001b[0m \u001b[1;32min\u001b[0m \u001b[0mline_tokenize\u001b[0m\u001b[1;33m(\u001b[0m\u001b[0mself\u001b[0m\u001b[1;33m.\u001b[0m\u001b[0mraw\u001b[0m\u001b[1;33m(\u001b[0m\u001b[0mfileids\u001b[0m\u001b[1;33m)\u001b[0m\u001b[1;33m)\u001b[0m\u001b[1;33m\u001b[0m\u001b[1;33m\u001b[0m\u001b[0m\n\u001b[0m\u001b[0;32m     26\u001b[0m             \u001b[1;32mif\u001b[0m \u001b[1;32mnot\u001b[0m \u001b[0mline\u001b[0m\u001b[1;33m.\u001b[0m\u001b[0mstartswith\u001b[0m\u001b[1;33m(\u001b[0m\u001b[0mignore_lines_startswith\u001b[0m\u001b[1;33m)\u001b[0m\u001b[1;33m\u001b[0m\u001b[1;33m\u001b[0m\u001b[0m\n\u001b[0;32m     27\u001b[0m         ]\n",
      "\u001b[1;32m~\\Anaconda3\\lib\\site-packages\\nltk\\tokenize\\simple.py\u001b[0m in \u001b[0;36mline_tokenize\u001b[1;34m(text, blanklines)\u001b[0m\n\u001b[0;32m    138\u001b[0m \u001b[1;33m\u001b[0m\u001b[0m\n\u001b[0;32m    139\u001b[0m \u001b[1;32mdef\u001b[0m \u001b[0mline_tokenize\u001b[0m\u001b[1;33m(\u001b[0m\u001b[0mtext\u001b[0m\u001b[1;33m,\u001b[0m \u001b[0mblanklines\u001b[0m\u001b[1;33m=\u001b[0m\u001b[1;34m'discard'\u001b[0m\u001b[1;33m)\u001b[0m\u001b[1;33m:\u001b[0m\u001b[1;33m\u001b[0m\u001b[1;33m\u001b[0m\u001b[0m\n\u001b[1;32m--> 140\u001b[1;33m     \u001b[1;32mreturn\u001b[0m \u001b[0mLineTokenizer\u001b[0m\u001b[1;33m(\u001b[0m\u001b[0mblanklines\u001b[0m\u001b[1;33m)\u001b[0m\u001b[1;33m.\u001b[0m\u001b[0mtokenize\u001b[0m\u001b[1;33m(\u001b[0m\u001b[0mtext\u001b[0m\u001b[1;33m)\u001b[0m\u001b[1;33m\u001b[0m\u001b[1;33m\u001b[0m\u001b[0m\n\u001b[0m",
      "\u001b[1;32m~\\Anaconda3\\lib\\site-packages\\nltk\\tokenize\\simple.py\u001b[0m in \u001b[0;36mtokenize\u001b[1;34m(self, s)\u001b[0m\n\u001b[0;32m    115\u001b[0m         \u001b[1;31m# If requested, strip off blank lines.\u001b[0m\u001b[1;33m\u001b[0m\u001b[1;33m\u001b[0m\u001b[1;33m\u001b[0m\u001b[0m\n\u001b[0;32m    116\u001b[0m         \u001b[1;32mif\u001b[0m \u001b[0mself\u001b[0m\u001b[1;33m.\u001b[0m\u001b[0m_blanklines\u001b[0m \u001b[1;33m==\u001b[0m \u001b[1;34m'discard'\u001b[0m\u001b[1;33m:\u001b[0m\u001b[1;33m\u001b[0m\u001b[1;33m\u001b[0m\u001b[0m\n\u001b[1;32m--> 117\u001b[1;33m             \u001b[0mlines\u001b[0m \u001b[1;33m=\u001b[0m \u001b[1;33m[\u001b[0m\u001b[0ml\u001b[0m \u001b[1;32mfor\u001b[0m \u001b[0ml\u001b[0m \u001b[1;32min\u001b[0m \u001b[0mlines\u001b[0m \u001b[1;32mif\u001b[0m \u001b[0ml\u001b[0m\u001b[1;33m.\u001b[0m\u001b[0mrstrip\u001b[0m\u001b[1;33m(\u001b[0m\u001b[1;33m)\u001b[0m\u001b[1;33m]\u001b[0m\u001b[1;33m\u001b[0m\u001b[1;33m\u001b[0m\u001b[0m\n\u001b[0m\u001b[0;32m    118\u001b[0m         \u001b[1;32melif\u001b[0m \u001b[0mself\u001b[0m\u001b[1;33m.\u001b[0m\u001b[0m_blanklines\u001b[0m \u001b[1;33m==\u001b[0m \u001b[1;34m'discard-eof'\u001b[0m\u001b[1;33m:\u001b[0m\u001b[1;33m\u001b[0m\u001b[1;33m\u001b[0m\u001b[0m\n\u001b[0;32m    119\u001b[0m             \u001b[1;32mif\u001b[0m \u001b[0mlines\u001b[0m \u001b[1;32mand\u001b[0m \u001b[1;32mnot\u001b[0m \u001b[0mlines\u001b[0m\u001b[1;33m[\u001b[0m\u001b[1;33m-\u001b[0m\u001b[1;36m1\u001b[0m\u001b[1;33m]\u001b[0m\u001b[1;33m.\u001b[0m\u001b[0mstrip\u001b[0m\u001b[1;33m(\u001b[0m\u001b[1;33m)\u001b[0m\u001b[1;33m:\u001b[0m\u001b[1;33m\u001b[0m\u001b[1;33m\u001b[0m\u001b[0m\n",
      "\u001b[1;32m~\\Anaconda3\\lib\\site-packages\\nltk\\tokenize\\simple.py\u001b[0m in \u001b[0;36m<listcomp>\u001b[1;34m(.0)\u001b[0m\n\u001b[0;32m    115\u001b[0m         \u001b[1;31m# If requested, strip off blank lines.\u001b[0m\u001b[1;33m\u001b[0m\u001b[1;33m\u001b[0m\u001b[1;33m\u001b[0m\u001b[0m\n\u001b[0;32m    116\u001b[0m         \u001b[1;32mif\u001b[0m \u001b[0mself\u001b[0m\u001b[1;33m.\u001b[0m\u001b[0m_blanklines\u001b[0m \u001b[1;33m==\u001b[0m \u001b[1;34m'discard'\u001b[0m\u001b[1;33m:\u001b[0m\u001b[1;33m\u001b[0m\u001b[1;33m\u001b[0m\u001b[0m\n\u001b[1;32m--> 117\u001b[1;33m             \u001b[0mlines\u001b[0m \u001b[1;33m=\u001b[0m \u001b[1;33m[\u001b[0m\u001b[0ml\u001b[0m \u001b[1;32mfor\u001b[0m \u001b[0ml\u001b[0m \u001b[1;32min\u001b[0m \u001b[0mlines\u001b[0m \u001b[1;32mif\u001b[0m \u001b[0ml\u001b[0m\u001b[1;33m.\u001b[0m\u001b[0mrstrip\u001b[0m\u001b[1;33m(\u001b[0m\u001b[1;33m)\u001b[0m\u001b[1;33m]\u001b[0m\u001b[1;33m\u001b[0m\u001b[1;33m\u001b[0m\u001b[0m\n\u001b[0m\u001b[0;32m    118\u001b[0m         \u001b[1;32melif\u001b[0m \u001b[0mself\u001b[0m\u001b[1;33m.\u001b[0m\u001b[0m_blanklines\u001b[0m \u001b[1;33m==\u001b[0m \u001b[1;34m'discard-eof'\u001b[0m\u001b[1;33m:\u001b[0m\u001b[1;33m\u001b[0m\u001b[1;33m\u001b[0m\u001b[0m\n\u001b[0;32m    119\u001b[0m             \u001b[1;32mif\u001b[0m \u001b[0mlines\u001b[0m \u001b[1;32mand\u001b[0m \u001b[1;32mnot\u001b[0m \u001b[0mlines\u001b[0m\u001b[1;33m[\u001b[0m\u001b[1;33m-\u001b[0m\u001b[1;36m1\u001b[0m\u001b[1;33m]\u001b[0m\u001b[1;33m.\u001b[0m\u001b[0mstrip\u001b[0m\u001b[1;33m(\u001b[0m\u001b[1;33m)\u001b[0m\u001b[1;33m:\u001b[0m\u001b[1;33m\u001b[0m\u001b[1;33m\u001b[0m\u001b[0m\n",
      "\u001b[1;31mKeyboardInterrupt\u001b[0m: "
     ]
    }
   ],
   "source": [
    "#This question takes way too long to process. \n",
    "#Using print statements, let's see where.\n",
    "unknown('http://www.nltk.org/book/ch03.html')\n",
    "#Finding all the words takes ages."
   ]
  },
  {
   "cell_type": "markdown",
   "metadata": {},
   "source": [
    "# 23.\n",
    "Are you able to write a regular expression to tokenize text in such a way that the word don't is tokenized into do and n't? Explain why this regular expression won't work: «n't|\\w+».\n",
    "\n",
    "My response: \n",
    "\n",
    "This regex won't work because of \\w. \\w gets any alpha-numeric character, one or more. Because of this \\w+ will match the entire word up to the \"'t\". Since we don't specify the non-greed operator with it, the expression will always get the larger of the two: \"don\" intead of \"do\". "
   ]
  },
  {
   "cell_type": "markdown",
   "metadata": {},
   "source": [
    "# 24. \n",
    "\n",
    "Try to write code to convert text into hAck3r, using regular expressions and substitution, where e → 3, i → 1, o → 0, l → |, s → 5, . → 5w33t!, ate → 8. Normalize the text to lowercase before converting it. Add more substitutions of your own. Now try to map s to two different values: $ for word-initial s, and 5 for word-internal s."
   ]
  },
  {
   "cell_type": "code",
   "execution_count": 47,
   "metadata": {},
   "outputs": [
    {
     "data": {
      "text/plain": [
       "'hacker'"
      ]
     },
     "execution_count": 47,
     "metadata": {},
     "output_type": "execute_result"
    }
   ],
   "source": [
    "word = \"Hacker\"\n",
    "word.lower()"
   ]
  },
  {
   "cell_type": "code",
   "execution_count": 61,
   "metadata": {},
   "outputs": [
    {
     "data": {
      "text/plain": [
       "'hAck3r And $nAk3'"
      ]
     },
     "execution_count": 61,
     "metadata": {},
     "output_type": "execute_result"
    }
   ],
   "source": [
    "word = \"Hacker and snake\"\n",
    "def wordConvert(word):\n",
    "    import re\n",
    "    #First we standardize\n",
    "    word = word.lower()\n",
    "    \n",
    "    #Then we look for the s that starts the word\n",
    "    pattern = re.compile(r'\\b[s]') \n",
    "    word = pattern.sub('$', word)\n",
    "    #We need to join everythin to use the string mapping below\n",
    "    word = \"\".join(word)\n",
    "    mapping = {\"a\":\"A\",\"e\":\"3\", \"i\":\"1\", \"o\":\"0\",\"i\":\"|\", \"s\":\"5\", \".\":\"5w33t!\", \"ate\":\"8\" }\n",
    "    for i in word:\n",
    "        if( i in mapping):\n",
    "            index = word.index(i)\n",
    "            word = word[:index] + mapping[i] + word[index+1:]\n",
    "    #Now all word-interal s's should have been converted to 5s. \n",
    "    \n",
    "    \n",
    "    return word\n",
    "wordConvert(word)"
   ]
  },
  {
   "cell_type": "markdown",
   "metadata": {},
   "source": [
    "# 25 \n",
    "\n",
    "Pig Latin is a simple transformation of English text. Each word of the text is converted as follows: move any consonant (or consonant cluster) that appears at the start of the word to the end, then append ay, e.g. string → ingstray, idle → idleay. http://en.wikipedia.org/wiki/Pig_Latin\n",
    "\n",
    "\n",
    "- Write a function to convert a word to Pig Latin.\n",
    "\n",
    "- Write code that converts text, instead of individual words.\n",
    "\n",
    "- Extend it further to preserve capitalization, to keep qu together (i.e. so that quiet becomes ietquay), and to detect when y is used as a consonant (e.g. yellow) vs a vowel (e.g. style)\n",
    "\n",
    "There is a walk thru [here](http://ling-blogs.bu.edu/lx394s19/midterms19/)"
   ]
  },
  {
   "cell_type": "code",
   "execution_count": 186,
   "metadata": {},
   "outputs": [],
   "source": [
    "def find_vowel(english_word):\n",
    "    vowels = [\"a\", \"e\", \"i\", \"o\", \"u\",\"y\"]\n",
    "    indices = [english_word.find(v) for v in vowels]\n",
    "    found = [i for i in indices if i >-1]\n",
    "    if len(found) >0 :\n",
    "            vindex =  sorted(found)[0]\n",
    "    else: \n",
    "        vindex = -1\n",
    "    # some logic here to return the position of the first vowel\n",
    "    # or -1 if there were no vowels \n",
    "    return vindex"
   ]
  },
  {
   "cell_type": "code",
   "execution_count": 187,
   "metadata": {},
   "outputs": [
    {
     "data": {
      "text/plain": [
       "'ietquay'"
      ]
     },
     "execution_count": 187,
     "metadata": {},
     "output_type": "execute_result"
    }
   ],
   "source": [
    "word =\"quiet\"\n",
    "vowels = [\"a\", \"e\", \"i\", \"o\", \"u\", \"y\"]\n",
    "vowelIndex = find_vowel(word)\n",
    "found = [v for v in vowels if v in word[ vowelIndex-1:vowelIndex + 1 ] ]\n",
    "word[vowelIndex+1:] + word[:vowelIndex+1]+'ay'"
   ]
  },
  {
   "cell_type": "code",
   "execution_count": 194,
   "metadata": {},
   "outputs": [],
   "source": [
    "#now we need to keep \"qu\" together\n",
    "def pigLatin(word):\n",
    "    #Standardize it\n",
    "    vowels = [\"a\", \"e\", \"i\", \"o\", \"u\",'y']\n",
    "    vowelIndex = find_vowel(word)\n",
    "    found = [v for v in vowels if v in word[ vowelIndex-1:vowelIndex + 1 ] ]\n",
    "    #Keep \"qu\" together\n",
    "    if word[vowelIndex] == 'u':\n",
    "        target = word[vowelIndex+1:]+word[:vowelIndex+1]+'ay'\n",
    "    elif word[vowelIndex: vowelIndex+2] == \"ye\":\n",
    "        target = word[vowelIndex+1:] + word[:vowelIndex+1]+'ay'\n",
    "    #if y is with vowel it is a constont    \n",
    "    elif len(found) >1 :\n",
    "        target= word[vowelIndex+1:] + word[:vowelIndex+1]+'ay'\n",
    "    #If the length is more than one but the vowel index is zero we should find the next syllabol\n",
    "    else:\n",
    "        target = word[vowelIndex:] + word[:vowelIndex]+'ay'\n",
    "    return target"
   ]
  },
  {
   "cell_type": "code",
   "execution_count": 195,
   "metadata": {},
   "outputs": [
    {
     "data": {
      "text/plain": [
       "'ietquay'"
      ]
     },
     "execution_count": 195,
     "metadata": {},
     "output_type": "execute_result"
    }
   ],
   "source": [
    "pigLatin(\"quiet\")"
   ]
  },
  {
   "cell_type": "code",
   "execution_count": 196,
   "metadata": {},
   "outputs": [
    {
     "data": {
      "text/plain": [
       "'ellowyay'"
      ]
     },
     "execution_count": 196,
     "metadata": {},
     "output_type": "execute_result"
    }
   ],
   "source": [
    "pigLatin(\"yellow\")"
   ]
  },
  {
   "cell_type": "code",
   "execution_count": 197,
   "metadata": {},
   "outputs": [
    {
     "data": {
      "text/plain": [
       "'ingstray'"
      ]
     },
     "execution_count": 197,
     "metadata": {},
     "output_type": "execute_result"
    }
   ],
   "source": [
    "pigLatin(\"string\")"
   ]
  },
  {
   "cell_type": "code",
   "execution_count": 198,
   "metadata": {},
   "outputs": [
    {
     "data": {
      "text/plain": [
       "'ylestay'"
      ]
     },
     "execution_count": 198,
     "metadata": {},
     "output_type": "execute_result"
    }
   ],
   "source": [
    "pigLatin(\"style\")"
   ]
  },
  {
   "cell_type": "code",
   "execution_count": 199,
   "metadata": {},
   "outputs": [
    {
     "data": {
      "text/plain": [
       "'idleay'"
      ]
     },
     "execution_count": 199,
     "metadata": {},
     "output_type": "execute_result"
    }
   ],
   "source": [
    "pigLatin(\"idle\")"
   ]
  },
  {
   "cell_type": "markdown",
   "metadata": {},
   "source": [
    "# 27.\n",
    "\n",
    "Python's random module includes a function choice() which randomly chooses an item from a sequence, e.g. choice(\"aehh \") will produce one of four possible characters, with the letter h being twice as frequent as the others. Write a generator expression that produces a sequence of 500 randomly chosen letters drawn from the string \"aehh \", and put this expression inside a call to the ''.join() function, to concatenate them into one long string. You should get a result that looks like uncontrolled sneezing or maniacal laughter: he  haha ee  heheeh eha. Use split() and join() again to normalize the whitespace in this string."
   ]
  },
  {
   "cell_type": "code",
   "execution_count": 209,
   "metadata": {},
   "outputs": [
    {
     "data": {
      "text/plain": [
       "'ehehhhhaehhahhaahahhahhhehehehhahhhhahheeheeeehhaeeaheehhahhhhhhaeeeaheehhheahaheeaeehehhaehhhaahhhaeaaehhhhhheeaaahhheaheehheeahahhahaaeeeahaehehhahehaeehhahhheeeahehehaeaheehehehheahhaahhhhhehhhhhaehhehehheaaeahhahhaaaaahehaaehaeaehhehhheaaahahhhhhhahaahheheaahahahhhhheehhhhaheaheeeeahhaaeaeahaahahehhhhahaeeeehhhhaahhaehahhhaeahhhehahahaahaaahhaeahhahahaeheaeahahhhaeehhehhhaehhaaaeeeeaaeheaaeeahhhaahhhehahehhaeeaaehhehhaeeeaahhhaahahhhehehahaahhhhahahahhhahaaehheheaeaahahheehhahhehhahhhhahahah'"
      ]
     },
     "execution_count": 209,
     "metadata": {},
     "output_type": "execute_result"
    }
   ],
   "source": [
    "\n",
    "import random \n",
    "import string\n",
    "\n",
    "\n",
    "alphabet_string = string.ascii_lowercase\n",
    "alphabet = list(alphabet_string)\n",
    "items= []\n",
    "i=0\n",
    "while( i < 500):\n",
    "    items.append(random.choice('aehh'))\n",
    "    i+=1\n",
    "\"\".join(items)\n"
   ]
  },
  {
   "cell_type": "markdown",
   "metadata": {},
   "source": [
    "# 28\n",
    "\n",
    "Consider the numeric expressions in the following sentence from the MedLine Corpus: The corresponding free cortisol fractions in these sera were 4.53 +/- 0.15% and 8.16 +/- 0.23%, respectively. Should we say that the numeric expression 4.53 +/- 0.15% is three words? Or should we say that it's a single compound word? Or should we say that it is actually nine words, since it's read \"four point five three, plus or minus zero point fifteen percent\"? Or should we say that it's not a \"real\" word at all, since it wouldn't appear in any dictionary? Discuss these different possibilities. Can you think of application domains that motivate at least two of these answers?\n",
    "\n",
    "\n",
    "My thoughts: \n",
    "\n",
    "- It is not 3 words when stated in english but it is 3 tokens. (4.53)(+/-)(0.15%)\n",
    "\n",
    "- I would argue that it is 3 compund words. (four point five three)(plus or minus)(zero point one five percent)\n",
    "- Technically it is 11 words. There is no doubt about it.\n",
    "- Despite things not showing up in the dictonary, we can still learn a lot about the items. Each word is real and shows up in a \"real life\". \n",
    "\n",
    "I would say that the 3 tokens can occur when tokenizing or doing nlp. English courses might argue that it is 3 compound words."
   ]
  },
  {
   "cell_type": "markdown",
   "metadata": {},
   "source": [
    "# 29\n",
    "\n",
    "Readability measures are used to score the reading difficulty of a text, for the purposes of selecting texts of appropriate difficulty for language learners. Let us define μw to be the average number of letters per word, and μs to be the average number of words per sentence, in a given text. The Automated Readability Index (ARI) of the text is defined to be: 4.71 μw + 0.5 μs - 21.43. Compute the ARI score for various sections of the Brown Corpus, including section f (lore) and j (learned). Make use of the fact that nltk.corpus.brown.words() produces a sequence of words, while nltk.corpus.brown.sents() produces a sequence of sentences."
   ]
  },
  {
   "cell_type": "code",
   "execution_count": 212,
   "metadata": {},
   "outputs": [],
   "source": [
    "from nltk.corpus import brown"
   ]
  },
  {
   "cell_type": "code",
   "execution_count": 216,
   "metadata": {},
   "outputs": [
    {
     "data": {
      "text/plain": [
       "['adventure',\n",
       " 'belles_lettres',\n",
       " 'editorial',\n",
       " 'fiction',\n",
       " 'government',\n",
       " 'hobbies',\n",
       " 'humor',\n",
       " 'learned',\n",
       " 'lore',\n",
       " 'mystery',\n",
       " 'news',\n",
       " 'religion',\n",
       " 'reviews',\n",
       " 'romance',\n",
       " 'science_fiction']"
      ]
     },
     "execution_count": 216,
     "metadata": {},
     "output_type": "execute_result"
    }
   ],
   "source": [
    "brown.categories()"
   ]
  },
  {
   "cell_type": "code",
   "execution_count": 223,
   "metadata": {},
   "outputs": [
    {
     "data": {
      "text/plain": [
       "4.982316044193969"
      ]
     },
     "execution_count": 223,
     "metadata": {},
     "output_type": "execute_result"
    }
   ],
   "source": [
    "#First we get the number of letters per word \n",
    "\n",
    "#We need to get rid of numbers and puncuation \n",
    "def letters_per_word(category):\n",
    "    text = [ w.lower() for w in brown.words( categories = category) if w.isalpha() ] \n",
    "    word_lengths = [len(word) for word in text]\n",
    "    return sum(word_lengths)/len(text)\n",
    "\n",
    "letters_per_word('learned')"
   ]
  },
  {
   "cell_type": "code",
   "execution_count": 230,
   "metadata": {},
   "outputs": [],
   "source": [
    "def words_per_sentence(category):\n",
    "    #Rather than clean this of punctuation I will simply process it. \n",
    "    sents = brown.sents(categories = category)\n",
    "    sent_lengths = [len(s) for s in sents]\n",
    "    return sum(sent_lengths)/len(sents)"
   ]
  },
  {
   "cell_type": "code",
   "execution_count": 231,
   "metadata": {},
   "outputs": [
    {
     "data": {
      "text/plain": [
       "23.51797258856995"
      ]
     },
     "execution_count": 231,
     "metadata": {},
     "output_type": "execute_result"
    }
   ],
   "source": [
    "words_per_sentence('learned')"
   ]
  },
  {
   "cell_type": "code",
   "execution_count": 232,
   "metadata": {},
   "outputs": [],
   "source": [
    "def ARI(category):\n",
    "    #4.71 μw + 0.5 μs - 21.43\n",
    "    return 4.71*letters_per_word(category) + .5* words_per_sentence(category) -21.43\n",
    "    "
   ]
  },
  {
   "cell_type": "code",
   "execution_count": 233,
   "metadata": {},
   "outputs": [
    {
     "data": {
      "text/plain": [
       "13.795694862438573"
      ]
     },
     "execution_count": 233,
     "metadata": {},
     "output_type": "execute_result"
    }
   ],
   "source": [
    "ARI('learned')"
   ]
  },
  {
   "cell_type": "code",
   "execution_count": 235,
   "metadata": {},
   "outputs": [
    {
     "data": {
      "text/plain": [
       "11.972269356047093"
      ]
     },
     "execution_count": 235,
     "metadata": {},
     "output_type": "execute_result"
    }
   ],
   "source": [
    "ARI('lore')"
   ]
  },
  {
   "cell_type": "markdown",
   "metadata": {},
   "source": [
    "# 30 \n",
    "\n",
    "Use the Porter Stemmer to normalize some tokenized text, calling the stemmer on each word. Do the same thing with the Lancaster Stemmer and see if you observe any differences."
   ]
  },
  {
   "cell_type": "code",
   "execution_count": 242,
   "metadata": {},
   "outputs": [],
   "source": [
    "from nltk.stem import PorterStemmer"
   ]
  },
  {
   "cell_type": "code",
   "execution_count": 243,
   "metadata": {},
   "outputs": [],
   "source": [
    "stemmer = PorterStemmer()"
   ]
  },
  {
   "cell_type": "code",
   "execution_count": 244,
   "metadata": {},
   "outputs": [],
   "source": [
    "text = [ w.lower() for w in brown.words( categories = 'learned') if w.isalpha() ] "
   ]
  },
  {
   "cell_type": "code",
   "execution_count": 245,
   "metadata": {},
   "outputs": [],
   "source": [
    "singles = [stemmer.stem(word) for word in text]"
   ]
  },
  {
   "cell_type": "code",
   "execution_count": 246,
   "metadata": {},
   "outputs": [
    {
     "data": {
      "text/plain": [
       "['introduct',\n",
       " 'it',\n",
       " 'ha',\n",
       " 'recent',\n",
       " 'becom',\n",
       " 'practic',\n",
       " 'to',\n",
       " 'use',\n",
       " 'the',\n",
       " 'radio',\n",
       " 'emiss',\n",
       " 'of',\n",
       " 'the',\n",
       " 'moon',\n",
       " 'and',\n",
       " 'planet',\n",
       " 'as',\n",
       " 'a',\n",
       " 'new',\n",
       " 'sourc',\n",
       " 'of',\n",
       " 'inform',\n",
       " 'about',\n",
       " 'these',\n",
       " 'bodi',\n",
       " 'and',\n",
       " 'their',\n",
       " 'atmospher',\n",
       " 'the',\n",
       " 'result',\n",
       " 'of',\n",
       " 'present',\n",
       " 'observ',\n",
       " 'of',\n",
       " 'the',\n",
       " 'thermal',\n",
       " 'radio',\n",
       " 'emiss',\n",
       " 'of',\n",
       " 'the',\n",
       " 'moon',\n",
       " 'are',\n",
       " 'consist',\n",
       " 'with',\n",
       " 'the',\n",
       " 'veri',\n",
       " 'low',\n",
       " 'thermal',\n",
       " 'conduct',\n",
       " 'of',\n",
       " 'the',\n",
       " 'surfac',\n",
       " 'layer',\n",
       " 'which',\n",
       " 'wa',\n",
       " 'deriv',\n",
       " 'from',\n",
       " 'the',\n",
       " 'variat',\n",
       " 'in',\n",
       " 'the',\n",
       " 'infrar',\n",
       " 'emiss',\n",
       " 'dure',\n",
       " 'eclips',\n",
       " 'garstung',\n",
       " 'when',\n",
       " 'suffici',\n",
       " 'accur',\n",
       " 'and',\n",
       " 'complet',\n",
       " 'measur',\n",
       " 'are',\n",
       " 'avail',\n",
       " 'it',\n",
       " 'will',\n",
       " 'be',\n",
       " 'possibl',\n",
       " 'to',\n",
       " 'set',\n",
       " 'limit',\n",
       " 'on',\n",
       " 'the',\n",
       " 'thermal',\n",
       " 'and',\n",
       " 'electr',\n",
       " 'characterist',\n",
       " 'of',\n",
       " 'the',\n",
       " 'surfac',\n",
       " 'and',\n",
       " 'subsurfac',\n",
       " 'materi',\n",
       " 'of',\n",
       " 'the',\n",
       " 'moon',\n",
       " 'observ',\n",
       " 'of',\n",
       " 'the',\n",
       " 'radio',\n",
       " 'emiss',\n",
       " 'of',\n",
       " 'a',\n",
       " 'planet',\n",
       " 'which',\n",
       " 'ha',\n",
       " 'an',\n",
       " 'extens',\n",
       " 'atmospher',\n",
       " 'will',\n",
       " 'probe',\n",
       " 'the',\n",
       " 'atmospher',\n",
       " 'to',\n",
       " 'a',\n",
       " 'greater',\n",
       " 'extent',\n",
       " 'than',\n",
       " 'those',\n",
       " 'use',\n",
       " 'shorter',\n",
       " 'wave',\n",
       " 'length',\n",
       " 'and',\n",
       " 'should',\n",
       " 'in',\n",
       " 'some',\n",
       " 'case',\n",
       " 'give',\n",
       " 'otherwis',\n",
       " 'unobtain',\n",
       " 'inform',\n",
       " 'about',\n",
       " 'the',\n",
       " 'characterist',\n",
       " 'of',\n",
       " 'the',\n",
       " 'solid',\n",
       " 'surfac',\n",
       " 'radio',\n",
       " 'observ',\n",
       " 'of',\n",
       " 'venu',\n",
       " 'and',\n",
       " 'jupit',\n",
       " 'have',\n",
       " 'alreadi',\n",
       " 'suppli',\n",
       " 'unexpect',\n",
       " 'experiment',\n",
       " 'data',\n",
       " 'on',\n",
       " 'the',\n",
       " 'physic',\n",
       " 'condit',\n",
       " 'of',\n",
       " 'these',\n",
       " 'planet',\n",
       " 'the',\n",
       " 'observ',\n",
       " 'intens',\n",
       " 'of',\n",
       " 'the',\n",
       " 'radio',\n",
       " 'emiss',\n",
       " 'of',\n",
       " 'venu',\n",
       " 'is',\n",
       " 'much',\n",
       " 'higher',\n",
       " 'than',\n",
       " 'the',\n",
       " 'expect',\n",
       " 'thermal',\n",
       " 'intens',\n",
       " 'although',\n",
       " 'the',\n",
       " 'spectrum',\n",
       " 'indic',\n",
       " 'by',\n",
       " 'measur',\n",
       " 'at',\n",
       " 'wave',\n",
       " 'length',\n",
       " 'near',\n",
       " 'cm',\n",
       " 'and',\n",
       " 'cm',\n",
       " 'is',\n",
       " 'like',\n",
       " 'that',\n",
       " 'of',\n",
       " 'a',\n",
       " 'black',\n",
       " 'bodi',\n",
       " 'at',\n",
       " 'about',\n",
       " 'thi',\n",
       " 'result',\n",
       " 'suggest',\n",
       " 'a',\n",
       " 'veri',\n",
       " 'high',\n",
       " 'temperatur',\n",
       " 'at',\n",
       " 'the',\n",
       " 'solid',\n",
       " 'surfac',\n",
       " 'of',\n",
       " 'the',\n",
       " 'planet',\n",
       " 'although',\n",
       " 'there',\n",
       " 'is',\n",
       " 'the',\n",
       " 'possibl',\n",
       " 'that',\n",
       " 'the',\n",
       " 'observ',\n",
       " 'radiat',\n",
       " 'may',\n",
       " 'be',\n",
       " 'a',\n",
       " 'combin',\n",
       " 'of',\n",
       " 'both',\n",
       " 'thermal',\n",
       " 'and',\n",
       " 'compon',\n",
       " 'and',\n",
       " 'that',\n",
       " 'the',\n",
       " 'observ',\n",
       " 'spectrum',\n",
       " 'is',\n",
       " 'that',\n",
       " 'of',\n",
       " 'a',\n",
       " 'black',\n",
       " 'bodi',\n",
       " 'mere',\n",
       " 'by',\n",
       " 'coincid',\n",
       " 'for',\n",
       " 'the',\n",
       " 'case',\n",
       " 'of',\n",
       " 'jupit',\n",
       " 'the',\n",
       " 'radio',\n",
       " 'emiss',\n",
       " 'spectrum',\n",
       " 'is',\n",
       " 'definit',\n",
       " 'not',\n",
       " 'like',\n",
       " 'the',\n",
       " 'spectrum',\n",
       " 'of',\n",
       " 'a',\n",
       " 'radiat',\n",
       " 'and',\n",
       " 'it',\n",
       " 'seem',\n",
       " 'veri',\n",
       " 'like',\n",
       " 'that',\n",
       " 'the',\n",
       " 'radiat',\n",
       " 'reach',\n",
       " 'the',\n",
       " 'earth',\n",
       " 'is',\n",
       " 'a',\n",
       " 'combin',\n",
       " 'of',\n",
       " 'thermal',\n",
       " 'radiat',\n",
       " 'from',\n",
       " 'the',\n",
       " 'atmospher',\n",
       " 'and',\n",
       " 'compon',\n",
       " 'of',\n",
       " 'the',\n",
       " 'remain',\n",
       " 'planet',\n",
       " 'onli',\n",
       " 'mar',\n",
       " 'and',\n",
       " 'saturn',\n",
       " 'have',\n",
       " 'been',\n",
       " 'observ',\n",
       " 'as',\n",
       " 'radio',\n",
       " 'sourc',\n",
       " 'and',\n",
       " 'not',\n",
       " 'veri',\n",
       " 'much',\n",
       " 'inform',\n",
       " 'is',\n",
       " 'avail',\n",
       " 'mar',\n",
       " 'ha',\n",
       " 'been',\n",
       " 'observ',\n",
       " 'twice',\n",
       " 'at',\n",
       " 'about',\n",
       " 'wave',\n",
       " 'length',\n",
       " 'and',\n",
       " 'the',\n",
       " 'intens',\n",
       " 'of',\n",
       " 'the',\n",
       " 'observ',\n",
       " 'radiat',\n",
       " 'is',\n",
       " 'in',\n",
       " 'reason',\n",
       " 'agreement',\n",
       " 'with',\n",
       " 'the',\n",
       " 'thermal',\n",
       " 'radiat',\n",
       " 'which',\n",
       " 'might',\n",
       " 'be',\n",
       " 'predict',\n",
       " 'on',\n",
       " 'the',\n",
       " 'basi',\n",
       " 'of',\n",
       " 'the',\n",
       " 'known',\n",
       " 'temperatur',\n",
       " 'of',\n",
       " 'mar',\n",
       " 'the',\n",
       " 'low',\n",
       " 'intens',\n",
       " 'of',\n",
       " 'the',\n",
       " 'radiat',\n",
       " 'from',\n",
       " 'saturn',\n",
       " 'ha',\n",
       " 'limit',\n",
       " 'observ',\n",
       " 'but',\n",
       " 'again',\n",
       " 'the',\n",
       " 'measur',\n",
       " 'radiat',\n",
       " 'seem',\n",
       " 'to',\n",
       " 'be',\n",
       " 'consist',\n",
       " 'with',\n",
       " 'a',\n",
       " 'thermal',\n",
       " 'origin',\n",
       " 'no',\n",
       " 'attempt',\n",
       " 'to',\n",
       " 'measur',\n",
       " 'the',\n",
       " 'radio',\n",
       " 'emiss',\n",
       " 'of',\n",
       " 'the',\n",
       " 'remain',\n",
       " 'planet',\n",
       " 'have',\n",
       " 'been',\n",
       " 'report',\n",
       " 'and',\n",
       " 'becaus',\n",
       " 'of',\n",
       " 'their',\n",
       " 'distanc',\n",
       " 'small',\n",
       " 'diamet',\n",
       " 'or',\n",
       " 'low',\n",
       " 'temperatur',\n",
       " 'the',\n",
       " 'thermal',\n",
       " 'radiat',\n",
       " 'at',\n",
       " 'radio',\n",
       " 'wave',\n",
       " 'length',\n",
       " 'reach',\n",
       " 'the',\n",
       " 'earth',\n",
       " 'from',\n",
       " 'these',\n",
       " 'sourc',\n",
       " 'is',\n",
       " 'expect',\n",
       " 'to',\n",
       " 'be',\n",
       " 'of',\n",
       " 'veri',\n",
       " 'low',\n",
       " 'intens',\n",
       " 'in',\n",
       " 'spite',\n",
       " 'of',\n",
       " 'thi',\n",
       " 'the',\n",
       " 'veri',\n",
       " 'larg',\n",
       " 'radio',\n",
       " 'reflector',\n",
       " 'and',\n",
       " 'improv',\n",
       " 'amplifi',\n",
       " 'techniqu',\n",
       " 'which',\n",
       " 'are',\n",
       " 'now',\n",
       " 'becom',\n",
       " 'avail',\n",
       " 'should',\n",
       " 'make',\n",
       " 'it',\n",
       " 'possibl',\n",
       " 'to',\n",
       " 'observ',\n",
       " 'the',\n",
       " 'radio',\n",
       " 'emiss',\n",
       " 'of',\n",
       " 'most',\n",
       " 'of',\n",
       " 'the',\n",
       " 'planet',\n",
       " 'in',\n",
       " 'a',\n",
       " 'few',\n",
       " 'year',\n",
       " 'the',\n",
       " 'studi',\n",
       " 'of',\n",
       " 'the',\n",
       " 'radio',\n",
       " 'emiss',\n",
       " 'of',\n",
       " 'the',\n",
       " 'moon',\n",
       " 'and',\n",
       " 'planet',\n",
       " 'began',\n",
       " 'with',\n",
       " 'the',\n",
       " 'detect',\n",
       " 'of',\n",
       " 'the',\n",
       " 'thermal',\n",
       " 'radiat',\n",
       " 'of',\n",
       " 'the',\n",
       " 'moon',\n",
       " 'at',\n",
       " 'wave',\n",
       " 'length',\n",
       " 'by',\n",
       " 'dick',\n",
       " 'and',\n",
       " 'bering',\n",
       " 'thi',\n",
       " 'wa',\n",
       " 'follow',\n",
       " 'by',\n",
       " 'a',\n",
       " 'comprehens',\n",
       " 'seri',\n",
       " 'of',\n",
       " 'observ',\n",
       " 'of',\n",
       " 'the',\n",
       " 'emiss',\n",
       " 'of',\n",
       " 'the',\n",
       " 'moon',\n",
       " 'over',\n",
       " 'three',\n",
       " 'lunar',\n",
       " 'cycl',\n",
       " 'by',\n",
       " 'piddington',\n",
       " 'and',\n",
       " 'minnett',\n",
       " 'they',\n",
       " 'deduc',\n",
       " 'from',\n",
       " 'their',\n",
       " 'measur',\n",
       " 'that',\n",
       " 'the',\n",
       " 'radio',\n",
       " 'emiss',\n",
       " 'from',\n",
       " 'the',\n",
       " 'whole',\n",
       " 'disk',\n",
       " 'of',\n",
       " 'the',\n",
       " 'moon',\n",
       " 'vari',\n",
       " 'dure',\n",
       " 'a',\n",
       " 'lunat',\n",
       " 'in',\n",
       " 'a',\n",
       " 'roughli',\n",
       " 'sinusoid',\n",
       " 'fashion',\n",
       " 'that',\n",
       " 'the',\n",
       " 'amplitud',\n",
       " 'of',\n",
       " 'the',\n",
       " 'variat',\n",
       " 'wa',\n",
       " 'consider',\n",
       " 'less',\n",
       " 'than',\n",
       " 'the',\n",
       " 'amplitud',\n",
       " 'of',\n",
       " 'the',\n",
       " 'variat',\n",
       " 'in',\n",
       " 'the',\n",
       " 'infrar',\n",
       " 'emiss',\n",
       " 'as',\n",
       " 'measur',\n",
       " 'by',\n",
       " 'pettit',\n",
       " 'and',\n",
       " 'nicholson',\n",
       " 'and',\n",
       " 'pettit',\n",
       " 'and',\n",
       " 'that',\n",
       " 'the',\n",
       " 'maximum',\n",
       " 'of',\n",
       " 'the',\n",
       " 'radio',\n",
       " 'emiss',\n",
       " 'came',\n",
       " 'about',\n",
       " 'day',\n",
       " 'after',\n",
       " 'full',\n",
       " 'moon',\n",
       " 'which',\n",
       " 'is',\n",
       " 'again',\n",
       " 'in',\n",
       " 'contrast',\n",
       " 'to',\n",
       " 'the',\n",
       " 'infrar',\n",
       " 'emiss',\n",
       " 'which',\n",
       " 'reach',\n",
       " 'it',\n",
       " 'maximum',\n",
       " 'at',\n",
       " 'full',\n",
       " 'moon',\n",
       " 'piddington',\n",
       " 'and',\n",
       " 'minnett',\n",
       " 'explain',\n",
       " 'their',\n",
       " 'observ',\n",
       " 'by',\n",
       " 'point',\n",
       " 'out',\n",
       " 'that',\n",
       " 'rocklik',\n",
       " 'materi',\n",
       " 'which',\n",
       " 'are',\n",
       " 'like',\n",
       " 'to',\n",
       " 'make',\n",
       " 'up',\n",
       " 'the',\n",
       " 'surfac',\n",
       " 'of',\n",
       " 'the',\n",
       " 'moon',\n",
       " 'would',\n",
       " 'be',\n",
       " 'partial',\n",
       " 'transpar',\n",
       " 'to',\n",
       " 'radio',\n",
       " 'wave',\n",
       " 'although',\n",
       " 'opaqu',\n",
       " 'to',\n",
       " 'infrar',\n",
       " 'radiat',\n",
       " 'the',\n",
       " 'infrar',\n",
       " 'emiss',\n",
       " 'could',\n",
       " 'then',\n",
       " 'be',\n",
       " 'assum',\n",
       " 'to',\n",
       " 'origin',\n",
       " 'at',\n",
       " 'the',\n",
       " 'surfac',\n",
       " 'of',\n",
       " 'the',\n",
       " 'moon',\n",
       " 'while',\n",
       " 'the',\n",
       " 'radio',\n",
       " 'emiss',\n",
       " 'origin',\n",
       " 'at',\n",
       " 'some',\n",
       " 'depth',\n",
       " 'beneath',\n",
       " 'the',\n",
       " 'surfac',\n",
       " 'where',\n",
       " 'the',\n",
       " 'temperatur',\n",
       " 'variat',\n",
       " 'due',\n",
       " 'to',\n",
       " 'solar',\n",
       " 'radiat',\n",
       " 'is',\n",
       " 'reduc',\n",
       " 'in',\n",
       " 'amplitud',\n",
       " 'and',\n",
       " 'shift',\n",
       " 'in',\n",
       " 'phase',\n",
       " 'sinc',\n",
       " 'the',\n",
       " 'absorpt',\n",
       " 'of',\n",
       " 'radio',\n",
       " 'wave',\n",
       " 'in',\n",
       " 'rocklik',\n",
       " 'materi',\n",
       " 'vari',\n",
       " 'with',\n",
       " 'wave',\n",
       " 'length',\n",
       " 'it',\n",
       " 'should',\n",
       " 'be',\n",
       " 'possibl',\n",
       " 'to',\n",
       " 'sampl',\n",
       " 'the',\n",
       " 'temperatur',\n",
       " 'variat',\n",
       " 'at',\n",
       " 'differ',\n",
       " 'depth',\n",
       " 'beneath',\n",
       " 'the',\n",
       " 'surfac',\n",
       " 'and',\n",
       " 'possibl',\n",
       " 'detect',\n",
       " 'chang',\n",
       " 'in',\n",
       " 'the',\n",
       " 'structur',\n",
       " 'or',\n",
       " 'composit',\n",
       " 'of',\n",
       " 'the',\n",
       " 'lunar',\n",
       " 'surfac',\n",
       " 'materi',\n",
       " 'the',\n",
       " 'radio',\n",
       " 'emiss',\n",
       " 'of',\n",
       " 'a',\n",
       " 'planet',\n",
       " 'wa',\n",
       " 'first',\n",
       " 'detect',\n",
       " 'in',\n",
       " 'when',\n",
       " 'burk',\n",
       " 'and',\n",
       " 'franklin',\n",
       " 'identifi',\n",
       " 'the',\n",
       " 'origin',\n",
       " 'of',\n",
       " 'radio',\n",
       " 'nois',\n",
       " 'on',\n",
       " 'their',\n",
       " 'record',\n",
       " 'at',\n",
       " 'about',\n",
       " 'meter',\n",
       " 'wave',\n",
       " 'length',\n",
       " 'as',\n",
       " 'emiss',\n",
       " 'from',\n",
       " 'jupit',\n",
       " 'thi',\n",
       " 'sporad',\n",
       " 'type',\n",
       " 'of',\n",
       " 'planetari',\n",
       " 'radiat',\n",
       " 'is',\n",
       " 'discuss',\n",
       " 'by',\n",
       " 'burk',\n",
       " 'and',\n",
       " 'gallet',\n",
       " 'steadi',\n",
       " 'radiat',\n",
       " 'which',\n",
       " 'wa',\n",
       " 'presum',\n",
       " 'of',\n",
       " 'thermal',\n",
       " 'origin',\n",
       " 'wa',\n",
       " 'observ',\n",
       " 'from',\n",
       " 'venu',\n",
       " 'at',\n",
       " 'and',\n",
       " 'cm',\n",
       " 'and',\n",
       " 'from',\n",
       " 'mar',\n",
       " 'and',\n",
       " 'jupit',\n",
       " 'at',\n",
       " 'cm',\n",
       " 'in',\n",
       " 'mayer',\n",
       " 'mccullough',\n",
       " 'and',\n",
       " 'sloanak',\n",
       " 'a',\n",
       " 'b',\n",
       " 'c',\n",
       " 'and',\n",
       " 'from',\n",
       " 'saturn',\n",
       " 'at',\n",
       " 'cm',\n",
       " 'in',\n",
       " 'drake',\n",
       " 'and',\n",
       " 'ewen',\n",
       " 'in',\n",
       " 'the',\n",
       " 'rel',\n",
       " 'short',\n",
       " 'time',\n",
       " 'sinc',\n",
       " 'these',\n",
       " 'earli',\n",
       " 'observ',\n",
       " 'venu',\n",
       " 'ha',\n",
       " 'been',\n",
       " 'observ',\n",
       " 'at',\n",
       " 'addit',\n",
       " 'wave',\n",
       " 'length',\n",
       " 'in',\n",
       " 'the',\n",
       " 'rang',\n",
       " 'from',\n",
       " 'to',\n",
       " 'cm',\n",
       " 'and',\n",
       " 'jupit',\n",
       " 'ha',\n",
       " 'been',\n",
       " 'observ',\n",
       " 'over',\n",
       " 'the',\n",
       " 'rang',\n",
       " 'from',\n",
       " 'to',\n",
       " 'aj',\n",
       " 'the',\n",
       " 'observ',\n",
       " 'characterist',\n",
       " 'of',\n",
       " 'planetari',\n",
       " 'radio',\n",
       " 'radiat',\n",
       " 'are',\n",
       " 'the',\n",
       " 'intens',\n",
       " 'the',\n",
       " 'polar',\n",
       " 'and',\n",
       " 'the',\n",
       " 'direct',\n",
       " 'of',\n",
       " 'arriv',\n",
       " 'of',\n",
       " 'the',\n",
       " 'wave',\n",
       " 'the',\n",
       " 'maximum',\n",
       " 'angular',\n",
       " 'diamet',\n",
       " 'of',\n",
       " 'ani',\n",
       " 'planetari',\n",
       " 'disk',\n",
       " 'as',\n",
       " 'observ',\n",
       " 'from',\n",
       " 'the',\n",
       " 'earth',\n",
       " 'is',\n",
       " 'about',\n",
       " 'minut',\n",
       " 'of',\n",
       " 'arc',\n",
       " 'thi',\n",
       " 'is',\n",
       " 'much',\n",
       " 'smaller',\n",
       " 'than',\n",
       " 'the',\n",
       " 'highest',\n",
       " 'resolut',\n",
       " 'of',\n",
       " 'even',\n",
       " 'the',\n",
       " 'veri',\n",
       " 'larg',\n",
       " 'reflector',\n",
       " 'now',\n",
       " 'under',\n",
       " 'construct',\n",
       " 'and',\n",
       " 'consequ',\n",
       " 'the',\n",
       " 'radio',\n",
       " 'emiss',\n",
       " 'of',\n",
       " 'differ',\n",
       " 'region',\n",
       " 'of',\n",
       " 'the',\n",
       " 'disk',\n",
       " 'cannot',\n",
       " 'be',\n",
       " 'resolv',\n",
       " 'it',\n",
       " 'should',\n",
       " 'be',\n",
       " 'possibl',\n",
       " 'howev',\n",
       " 'to',\n",
       " 'put',\n",
       " 'use',\n",
       " 'limit',\n",
       " 'on',\n",
       " 'the',\n",
       " 'diamet',\n",
       " 'of',\n",
       " 'the',\n",
       " 'radio',\n",
       " 'sourc',\n",
       " 'by',\n",
       " 'observ',\n",
       " 'with',\n",
       " 'larg',\n",
       " 'reflector',\n",
       " 'or',\n",
       " 'with',\n",
       " 'interferomet',\n",
       " 'measur',\n",
       " 'of',\n",
       " 'polar',\n",
       " 'are',\n",
       " 'present',\n",
       " 'limit',\n",
       " 'by',\n",
       " 'apparatu',\n",
       " 'sensit',\n",
       " 'and',\n",
       " 'will',\n",
       " 'remain',\n",
       " 'difficult',\n",
       " 'becaus',\n",
       " 'of',\n",
       " 'the',\n",
       " 'low',\n",
       " 'intens',\n",
       " 'of',\n",
       " 'the',\n",
       " 'planetari',\n",
       " 'radiat',\n",
       " 'at',\n",
       " 'the',\n",
       " 'earth',\n",
       " 'there',\n",
       " 'have',\n",
       " 'been',\n",
       " 'few',\n",
       " 'measur',\n",
       " 'specif',\n",
       " 'for',\n",
       " 'the',\n",
       " 'determin',\n",
       " 'of',\n",
       " 'the',\n",
       " 'polar',\n",
       " 'of',\n",
       " 'planetari',\n",
       " 'radiat',\n",
       " 'the',\n",
       " 'measur',\n",
       " 'made',\n",
       " 'with',\n",
       " 'the',\n",
       " 'nrl',\n",
       " 'reflector',\n",
       " 'which',\n",
       " 'is',\n",
       " 'would',\n",
       " 'have',\n",
       " 'shown',\n",
       " 'a',\n",
       " 'systemat',\n",
       " 'chang',\n",
       " 'with',\n",
       " 'local',\n",
       " 'hour',\n",
       " 'angl',\n",
       " 'in',\n",
       " 'the',\n",
       " 'measur',\n",
       " 'intens',\n",
       " 'of',\n",
       " 'venu',\n",
       " 'and',\n",
       " 'jupit',\n",
       " 'if',\n",
       " 'a',\n",
       " 'substanti',\n",
       " 'part',\n",
       " 'of',\n",
       " 'the',\n",
       " 'radiat',\n",
       " 'had',\n",
       " 'been',\n",
       " 'linearli',\n",
       " 'polar',\n",
       " 'recent',\n",
       " 'interferomet',\n",
       " 'measur',\n",
       " 'radhakrishnan',\n",
       " 'and',\n",
       " 'robert',\n",
       " 'have',\n",
       " 'shown',\n",
       " 'the',\n",
       " 'emiss',\n",
       " 'of',\n",
       " 'jupit',\n",
       " 'to',\n",
       " ...]"
      ]
     },
     "execution_count": 246,
     "metadata": {},
     "output_type": "execute_result"
    }
   ],
   "source": [
    "singles"
   ]
  },
  {
   "cell_type": "code",
   "execution_count": 248,
   "metadata": {},
   "outputs": [],
   "source": [
    "from nltk.stem import LancasterStemmer\n",
    "stemmer = LancasterStemmer()\n",
    "singles = [stemmer.stem(word) for word in text]"
   ]
  },
  {
   "cell_type": "code",
   "execution_count": 249,
   "metadata": {},
   "outputs": [
    {
     "data": {
      "text/plain": [
       "['introduc',\n",
       " 'it',\n",
       " 'has',\n",
       " 'rec',\n",
       " 'becom',\n",
       " 'pract',\n",
       " 'to',\n",
       " 'us',\n",
       " 'the',\n",
       " 'radio',\n",
       " 'emit',\n",
       " 'of',\n",
       " 'the',\n",
       " 'moon',\n",
       " 'and',\n",
       " 'planet',\n",
       " 'as',\n",
       " 'a',\n",
       " 'new',\n",
       " 'sourc',\n",
       " 'of',\n",
       " 'inform',\n",
       " 'about',\n",
       " 'thes',\n",
       " 'body',\n",
       " 'and',\n",
       " 'their',\n",
       " 'atmosph',\n",
       " 'the',\n",
       " 'result',\n",
       " 'of',\n",
       " 'pres',\n",
       " 'observ',\n",
       " 'of',\n",
       " 'the',\n",
       " 'therm',\n",
       " 'radio',\n",
       " 'emit',\n",
       " 'of',\n",
       " 'the',\n",
       " 'moon',\n",
       " 'ar',\n",
       " 'consist',\n",
       " 'with',\n",
       " 'the',\n",
       " 'very',\n",
       " 'low',\n",
       " 'therm',\n",
       " 'conduc',\n",
       " 'of',\n",
       " 'the',\n",
       " 'surfac',\n",
       " 'lay',\n",
       " 'which',\n",
       " 'was',\n",
       " 'der',\n",
       " 'from',\n",
       " 'the',\n",
       " 'vary',\n",
       " 'in',\n",
       " 'the',\n",
       " 'infr',\n",
       " 'emit',\n",
       " 'dur',\n",
       " 'eclips',\n",
       " 'garstung',\n",
       " 'when',\n",
       " 'sufficy',\n",
       " 'acc',\n",
       " 'and',\n",
       " 'complet',\n",
       " 'meas',\n",
       " 'ar',\n",
       " 'avail',\n",
       " 'it',\n",
       " 'wil',\n",
       " 'be',\n",
       " 'poss',\n",
       " 'to',\n",
       " 'set',\n",
       " 'limit',\n",
       " 'on',\n",
       " 'the',\n",
       " 'therm',\n",
       " 'and',\n",
       " 'elect',\n",
       " 'charact',\n",
       " 'of',\n",
       " 'the',\n",
       " 'surfac',\n",
       " 'and',\n",
       " 'subsurfac',\n",
       " 'mat',\n",
       " 'of',\n",
       " 'the',\n",
       " 'moon',\n",
       " 'observ',\n",
       " 'of',\n",
       " 'the',\n",
       " 'radio',\n",
       " 'emit',\n",
       " 'of',\n",
       " 'a',\n",
       " 'planet',\n",
       " 'which',\n",
       " 'has',\n",
       " 'an',\n",
       " 'extend',\n",
       " 'atmosph',\n",
       " 'wil',\n",
       " 'prob',\n",
       " 'the',\n",
       " 'atmosph',\n",
       " 'to',\n",
       " 'a',\n",
       " 'gre',\n",
       " 'ext',\n",
       " 'than',\n",
       " 'thos',\n",
       " 'us',\n",
       " 'short',\n",
       " 'wav',\n",
       " 'length',\n",
       " 'and',\n",
       " 'should',\n",
       " 'in',\n",
       " 'som',\n",
       " 'cas',\n",
       " 'giv',\n",
       " 'otherw',\n",
       " 'unobtain',\n",
       " 'inform',\n",
       " 'about',\n",
       " 'the',\n",
       " 'charact',\n",
       " 'of',\n",
       " 'the',\n",
       " 'solid',\n",
       " 'surfac',\n",
       " 'radio',\n",
       " 'observ',\n",
       " 'of',\n",
       " 'ven',\n",
       " 'and',\n",
       " 'jupit',\n",
       " 'hav',\n",
       " 'already',\n",
       " 'supply',\n",
       " 'unexpect',\n",
       " 'expery',\n",
       " 'dat',\n",
       " 'on',\n",
       " 'the',\n",
       " 'phys',\n",
       " 'condit',\n",
       " 'of',\n",
       " 'thes',\n",
       " 'planet',\n",
       " 'the',\n",
       " 'observ',\n",
       " 'intens',\n",
       " 'of',\n",
       " 'the',\n",
       " 'radio',\n",
       " 'emit',\n",
       " 'of',\n",
       " 'ven',\n",
       " 'is',\n",
       " 'much',\n",
       " 'high',\n",
       " 'than',\n",
       " 'the',\n",
       " 'expect',\n",
       " 'therm',\n",
       " 'intens',\n",
       " 'although',\n",
       " 'the',\n",
       " 'spectr',\n",
       " 'ind',\n",
       " 'by',\n",
       " 'meas',\n",
       " 'at',\n",
       " 'wav',\n",
       " 'length',\n",
       " 'near',\n",
       " 'cm',\n",
       " 'and',\n",
       " 'cm',\n",
       " 'is',\n",
       " 'lik',\n",
       " 'that',\n",
       " 'of',\n",
       " 'a',\n",
       " 'black',\n",
       " 'body',\n",
       " 'at',\n",
       " 'about',\n",
       " 'thi',\n",
       " 'result',\n",
       " 'suggest',\n",
       " 'a',\n",
       " 'very',\n",
       " 'high',\n",
       " 'temp',\n",
       " 'at',\n",
       " 'the',\n",
       " 'solid',\n",
       " 'surfac',\n",
       " 'of',\n",
       " 'the',\n",
       " 'planet',\n",
       " 'although',\n",
       " 'ther',\n",
       " 'is',\n",
       " 'the',\n",
       " 'poss',\n",
       " 'that',\n",
       " 'the',\n",
       " 'observ',\n",
       " 'rady',\n",
       " 'may',\n",
       " 'be',\n",
       " 'a',\n",
       " 'combin',\n",
       " 'of',\n",
       " 'both',\n",
       " 'therm',\n",
       " 'and',\n",
       " 'compon',\n",
       " 'and',\n",
       " 'that',\n",
       " 'the',\n",
       " 'observ',\n",
       " 'spectr',\n",
       " 'is',\n",
       " 'that',\n",
       " 'of',\n",
       " 'a',\n",
       " 'black',\n",
       " 'body',\n",
       " 'mer',\n",
       " 'by',\n",
       " 'coincid',\n",
       " 'for',\n",
       " 'the',\n",
       " 'cas',\n",
       " 'of',\n",
       " 'jupit',\n",
       " 'the',\n",
       " 'radio',\n",
       " 'emit',\n",
       " 'spectr',\n",
       " 'is',\n",
       " 'definit',\n",
       " 'not',\n",
       " 'lik',\n",
       " 'the',\n",
       " 'spectr',\n",
       " 'of',\n",
       " 'a',\n",
       " 'rady',\n",
       " 'and',\n",
       " 'it',\n",
       " 'seem',\n",
       " 'very',\n",
       " 'lik',\n",
       " 'that',\n",
       " 'the',\n",
       " 'rady',\n",
       " 'reach',\n",
       " 'the',\n",
       " 'ear',\n",
       " 'is',\n",
       " 'a',\n",
       " 'combin',\n",
       " 'of',\n",
       " 'therm',\n",
       " 'rady',\n",
       " 'from',\n",
       " 'the',\n",
       " 'atmosph',\n",
       " 'and',\n",
       " 'compon',\n",
       " 'of',\n",
       " 'the',\n",
       " 'remain',\n",
       " 'planet',\n",
       " 'on',\n",
       " 'mar',\n",
       " 'and',\n",
       " 'saturn',\n",
       " 'hav',\n",
       " 'been',\n",
       " 'observ',\n",
       " 'as',\n",
       " 'radio',\n",
       " 'sourc',\n",
       " 'and',\n",
       " 'not',\n",
       " 'very',\n",
       " 'much',\n",
       " 'inform',\n",
       " 'is',\n",
       " 'avail',\n",
       " 'mar',\n",
       " 'has',\n",
       " 'been',\n",
       " 'observ',\n",
       " 'twic',\n",
       " 'at',\n",
       " 'about',\n",
       " 'wav',\n",
       " 'leng',\n",
       " 'and',\n",
       " 'the',\n",
       " 'intens',\n",
       " 'of',\n",
       " 'the',\n",
       " 'observ',\n",
       " 'rady',\n",
       " 'is',\n",
       " 'in',\n",
       " 'reason',\n",
       " 'agr',\n",
       " 'with',\n",
       " 'the',\n",
       " 'therm',\n",
       " 'rady',\n",
       " 'which',\n",
       " 'might',\n",
       " 'be',\n",
       " 'predict',\n",
       " 'on',\n",
       " 'the',\n",
       " 'bas',\n",
       " 'of',\n",
       " 'the',\n",
       " 'known',\n",
       " 'temp',\n",
       " 'of',\n",
       " 'mar',\n",
       " 'the',\n",
       " 'low',\n",
       " 'intens',\n",
       " 'of',\n",
       " 'the',\n",
       " 'rady',\n",
       " 'from',\n",
       " 'saturn',\n",
       " 'has',\n",
       " 'limit',\n",
       " 'observ',\n",
       " 'but',\n",
       " 'again',\n",
       " 'the',\n",
       " 'meas',\n",
       " 'rady',\n",
       " 'seem',\n",
       " 'to',\n",
       " 'be',\n",
       " 'consist',\n",
       " 'with',\n",
       " 'a',\n",
       " 'therm',\n",
       " 'origin',\n",
       " 'no',\n",
       " 'attempt',\n",
       " 'to',\n",
       " 'meas',\n",
       " 'the',\n",
       " 'radio',\n",
       " 'emit',\n",
       " 'of',\n",
       " 'the',\n",
       " 'remain',\n",
       " 'planet',\n",
       " 'hav',\n",
       " 'been',\n",
       " 'report',\n",
       " 'and',\n",
       " 'becaus',\n",
       " 'of',\n",
       " 'their',\n",
       " 'dist',\n",
       " 'smal',\n",
       " 'diamet',\n",
       " 'or',\n",
       " 'low',\n",
       " 'temp',\n",
       " 'the',\n",
       " 'therm',\n",
       " 'rady',\n",
       " 'at',\n",
       " 'radio',\n",
       " 'wav',\n",
       " 'length',\n",
       " 'reach',\n",
       " 'the',\n",
       " 'ear',\n",
       " 'from',\n",
       " 'thes',\n",
       " 'sourc',\n",
       " 'is',\n",
       " 'expect',\n",
       " 'to',\n",
       " 'be',\n",
       " 'of',\n",
       " 'very',\n",
       " 'low',\n",
       " 'intens',\n",
       " 'in',\n",
       " 'spit',\n",
       " 'of',\n",
       " 'thi',\n",
       " 'the',\n",
       " 'very',\n",
       " 'larg',\n",
       " 'radio',\n",
       " 'reflect',\n",
       " 'and',\n",
       " 'improv',\n",
       " 'ampl',\n",
       " 'techn',\n",
       " 'which',\n",
       " 'ar',\n",
       " 'now',\n",
       " 'becom',\n",
       " 'avail',\n",
       " 'should',\n",
       " 'mak',\n",
       " 'it',\n",
       " 'poss',\n",
       " 'to',\n",
       " 'observ',\n",
       " 'the',\n",
       " 'radio',\n",
       " 'emit',\n",
       " 'of',\n",
       " 'most',\n",
       " 'of',\n",
       " 'the',\n",
       " 'planet',\n",
       " 'in',\n",
       " 'a',\n",
       " 'few',\n",
       " 'year',\n",
       " 'the',\n",
       " 'study',\n",
       " 'of',\n",
       " 'the',\n",
       " 'radio',\n",
       " 'emit',\n",
       " 'of',\n",
       " 'the',\n",
       " 'moon',\n",
       " 'and',\n",
       " 'planet',\n",
       " 'beg',\n",
       " 'with',\n",
       " 'the',\n",
       " 'detect',\n",
       " 'of',\n",
       " 'the',\n",
       " 'therm',\n",
       " 'rady',\n",
       " 'of',\n",
       " 'the',\n",
       " 'moon',\n",
       " 'at',\n",
       " 'wav',\n",
       " 'leng',\n",
       " 'by',\n",
       " 'dick',\n",
       " 'and',\n",
       " 'ber',\n",
       " 'thi',\n",
       " 'was',\n",
       " 'follow',\n",
       " 'by',\n",
       " 'a',\n",
       " 'comprehend',\n",
       " 'sery',\n",
       " 'of',\n",
       " 'observ',\n",
       " 'of',\n",
       " 'the',\n",
       " 'emit',\n",
       " 'of',\n",
       " 'the',\n",
       " 'moon',\n",
       " 'ov',\n",
       " 'three',\n",
       " 'lun',\n",
       " 'cyc',\n",
       " 'by',\n",
       " 'piddington',\n",
       " 'and',\n",
       " 'minnet',\n",
       " 'they',\n",
       " 'deduc',\n",
       " 'from',\n",
       " 'their',\n",
       " 'meas',\n",
       " 'that',\n",
       " 'the',\n",
       " 'radio',\n",
       " 'emit',\n",
       " 'from',\n",
       " 'the',\n",
       " 'whol',\n",
       " 'disk',\n",
       " 'of',\n",
       " 'the',\n",
       " 'moon',\n",
       " 'vary',\n",
       " 'dur',\n",
       " 'a',\n",
       " 'lun',\n",
       " 'in',\n",
       " 'a',\n",
       " 'rough',\n",
       " 'sinusoid',\n",
       " 'fash',\n",
       " 'that',\n",
       " 'the',\n",
       " 'amplitud',\n",
       " 'of',\n",
       " 'the',\n",
       " 'vary',\n",
       " 'was',\n",
       " 'consid',\n",
       " 'less',\n",
       " 'than',\n",
       " 'the',\n",
       " 'amplitud',\n",
       " 'of',\n",
       " 'the',\n",
       " 'vary',\n",
       " 'in',\n",
       " 'the',\n",
       " 'infr',\n",
       " 'emit',\n",
       " 'as',\n",
       " 'meas',\n",
       " 'by',\n",
       " 'pettit',\n",
       " 'and',\n",
       " 'nicholson',\n",
       " 'and',\n",
       " 'pettit',\n",
       " 'and',\n",
       " 'that',\n",
       " 'the',\n",
       " 'maxim',\n",
       " 'of',\n",
       " 'the',\n",
       " 'radio',\n",
       " 'emit',\n",
       " 'cam',\n",
       " 'about',\n",
       " 'day',\n",
       " 'aft',\n",
       " 'ful',\n",
       " 'moon',\n",
       " 'which',\n",
       " 'is',\n",
       " 'again',\n",
       " 'in',\n",
       " 'contrast',\n",
       " 'to',\n",
       " 'the',\n",
       " 'infr',\n",
       " 'emit',\n",
       " 'which',\n",
       " 'reach',\n",
       " 'it',\n",
       " 'maxim',\n",
       " 'at',\n",
       " 'ful',\n",
       " 'moon',\n",
       " 'piddington',\n",
       " 'and',\n",
       " 'minnet',\n",
       " 'explain',\n",
       " 'their',\n",
       " 'observ',\n",
       " 'by',\n",
       " 'point',\n",
       " 'out',\n",
       " 'that',\n",
       " 'rocklik',\n",
       " 'mat',\n",
       " 'which',\n",
       " 'ar',\n",
       " 'lik',\n",
       " 'to',\n",
       " 'mak',\n",
       " 'up',\n",
       " 'the',\n",
       " 'surfac',\n",
       " 'of',\n",
       " 'the',\n",
       " 'moon',\n",
       " 'would',\n",
       " 'be',\n",
       " 'part',\n",
       " 'transp',\n",
       " 'to',\n",
       " 'radio',\n",
       " 'wav',\n",
       " 'although',\n",
       " 'opaqu',\n",
       " 'to',\n",
       " 'infr',\n",
       " 'rady',\n",
       " 'the',\n",
       " 'infr',\n",
       " 'emit',\n",
       " 'could',\n",
       " 'then',\n",
       " 'be',\n",
       " 'assum',\n",
       " 'to',\n",
       " 'origin',\n",
       " 'at',\n",
       " 'the',\n",
       " 'surfac',\n",
       " 'of',\n",
       " 'the',\n",
       " 'moon',\n",
       " 'whil',\n",
       " 'the',\n",
       " 'radio',\n",
       " 'emit',\n",
       " 'origin',\n",
       " 'at',\n",
       " 'som',\n",
       " 'dep',\n",
       " 'benea',\n",
       " 'the',\n",
       " 'surfac',\n",
       " 'wher',\n",
       " 'the',\n",
       " 'temp',\n",
       " 'vary',\n",
       " 'due',\n",
       " 'to',\n",
       " 'sol',\n",
       " 'rady',\n",
       " 'is',\n",
       " 'reduc',\n",
       " 'in',\n",
       " 'amplitud',\n",
       " 'and',\n",
       " 'shift',\n",
       " 'in',\n",
       " 'phas',\n",
       " 'sint',\n",
       " 'the',\n",
       " 'absorb',\n",
       " 'of',\n",
       " 'radio',\n",
       " 'wav',\n",
       " 'in',\n",
       " 'rocklik',\n",
       " 'mat',\n",
       " 'vary',\n",
       " 'with',\n",
       " 'wav',\n",
       " 'leng',\n",
       " 'it',\n",
       " 'should',\n",
       " 'be',\n",
       " 'poss',\n",
       " 'to',\n",
       " 'sampl',\n",
       " 'the',\n",
       " 'temp',\n",
       " 'vary',\n",
       " 'at',\n",
       " 'diff',\n",
       " 'depth',\n",
       " 'benea',\n",
       " 'the',\n",
       " 'surfac',\n",
       " 'and',\n",
       " 'poss',\n",
       " 'detect',\n",
       " 'chang',\n",
       " 'in',\n",
       " 'the',\n",
       " 'structure',\n",
       " 'or',\n",
       " 'composit',\n",
       " 'of',\n",
       " 'the',\n",
       " 'lun',\n",
       " 'surfac',\n",
       " 'mat',\n",
       " 'the',\n",
       " 'radio',\n",
       " 'emit',\n",
       " 'of',\n",
       " 'a',\n",
       " 'planet',\n",
       " 'was',\n",
       " 'first',\n",
       " 'detect',\n",
       " 'in',\n",
       " 'when',\n",
       " 'burk',\n",
       " 'and',\n",
       " 'franklin',\n",
       " 'ident',\n",
       " 'the',\n",
       " 'origin',\n",
       " 'of',\n",
       " 'radio',\n",
       " 'nois',\n",
       " 'on',\n",
       " 'their',\n",
       " 'record',\n",
       " 'at',\n",
       " 'about',\n",
       " 'met',\n",
       " 'wav',\n",
       " 'leng',\n",
       " 'as',\n",
       " 'emit',\n",
       " 'from',\n",
       " 'jupit',\n",
       " 'thi',\n",
       " 'sporad',\n",
       " 'typ',\n",
       " 'of',\n",
       " 'planet',\n",
       " 'rady',\n",
       " 'is',\n",
       " 'discuss',\n",
       " 'by',\n",
       " 'burk',\n",
       " 'and',\n",
       " 'gallet',\n",
       " 'steady',\n",
       " 'rady',\n",
       " 'which',\n",
       " 'was',\n",
       " 'presum',\n",
       " 'of',\n",
       " 'therm',\n",
       " 'origin',\n",
       " 'was',\n",
       " 'observ',\n",
       " 'from',\n",
       " 'ven',\n",
       " 'at',\n",
       " 'and',\n",
       " 'cm',\n",
       " 'and',\n",
       " 'from',\n",
       " 'mar',\n",
       " 'and',\n",
       " 'jupit',\n",
       " 'at',\n",
       " 'cm',\n",
       " 'in',\n",
       " 'may',\n",
       " 'mccullough',\n",
       " 'and',\n",
       " 'sloanak',\n",
       " 'a',\n",
       " 'b',\n",
       " 'c',\n",
       " 'and',\n",
       " 'from',\n",
       " 'saturn',\n",
       " 'at',\n",
       " 'cm',\n",
       " 'in',\n",
       " 'drak',\n",
       " 'and',\n",
       " 'ew',\n",
       " 'in',\n",
       " 'the',\n",
       " 'rel',\n",
       " 'short',\n",
       " 'tim',\n",
       " 'sint',\n",
       " 'thes',\n",
       " 'ear',\n",
       " 'observ',\n",
       " 'ven',\n",
       " 'has',\n",
       " 'been',\n",
       " 'observ',\n",
       " 'at',\n",
       " 'addit',\n",
       " 'wav',\n",
       " 'length',\n",
       " 'in',\n",
       " 'the',\n",
       " 'rang',\n",
       " 'from',\n",
       " 'to',\n",
       " 'cm',\n",
       " 'and',\n",
       " 'jupit',\n",
       " 'has',\n",
       " 'been',\n",
       " 'observ',\n",
       " 'ov',\n",
       " 'the',\n",
       " 'rang',\n",
       " 'from',\n",
       " 'to',\n",
       " 'aj',\n",
       " 'the',\n",
       " 'observ',\n",
       " 'charact',\n",
       " 'of',\n",
       " 'planet',\n",
       " 'radio',\n",
       " 'rady',\n",
       " 'ar',\n",
       " 'the',\n",
       " 'intens',\n",
       " 'the',\n",
       " 'pol',\n",
       " 'and',\n",
       " 'the',\n",
       " 'direct',\n",
       " 'of',\n",
       " 'ar',\n",
       " 'of',\n",
       " 'the',\n",
       " 'wav',\n",
       " 'the',\n",
       " 'maxim',\n",
       " 'angul',\n",
       " 'diamet',\n",
       " 'of',\n",
       " 'any',\n",
       " 'planet',\n",
       " 'disk',\n",
       " 'as',\n",
       " 'observ',\n",
       " 'from',\n",
       " 'the',\n",
       " 'ear',\n",
       " 'is',\n",
       " 'about',\n",
       " 'minut',\n",
       " 'of',\n",
       " 'arc',\n",
       " 'thi',\n",
       " 'is',\n",
       " 'much',\n",
       " 'smal',\n",
       " 'than',\n",
       " 'the',\n",
       " 'highest',\n",
       " 'resolv',\n",
       " 'of',\n",
       " 'ev',\n",
       " 'the',\n",
       " 'very',\n",
       " 'larg',\n",
       " 'reflect',\n",
       " 'now',\n",
       " 'und',\n",
       " 'construct',\n",
       " 'and',\n",
       " 'consequ',\n",
       " 'the',\n",
       " 'radio',\n",
       " 'emit',\n",
       " 'of',\n",
       " 'diff',\n",
       " 'reg',\n",
       " 'of',\n",
       " 'the',\n",
       " 'disk',\n",
       " 'cannot',\n",
       " 'be',\n",
       " 'resolv',\n",
       " 'it',\n",
       " 'should',\n",
       " 'be',\n",
       " 'poss',\n",
       " 'howev',\n",
       " 'to',\n",
       " 'put',\n",
       " 'us',\n",
       " 'limit',\n",
       " 'on',\n",
       " 'the',\n",
       " 'diamet',\n",
       " 'of',\n",
       " 'the',\n",
       " 'radio',\n",
       " 'sourc',\n",
       " 'by',\n",
       " 'observ',\n",
       " 'with',\n",
       " 'larg',\n",
       " 'reflect',\n",
       " 'or',\n",
       " 'with',\n",
       " 'interferomet',\n",
       " 'meas',\n",
       " 'of',\n",
       " 'pol',\n",
       " 'ar',\n",
       " 'pres',\n",
       " 'limit',\n",
       " 'by',\n",
       " 'apparat',\n",
       " 'sensit',\n",
       " 'and',\n",
       " 'wil',\n",
       " 'remain',\n",
       " 'difficult',\n",
       " 'becaus',\n",
       " 'of',\n",
       " 'the',\n",
       " 'low',\n",
       " 'intens',\n",
       " 'of',\n",
       " 'the',\n",
       " 'planet',\n",
       " 'rady',\n",
       " 'at',\n",
       " 'the',\n",
       " 'ear',\n",
       " 'ther',\n",
       " 'hav',\n",
       " 'been',\n",
       " 'few',\n",
       " 'meas',\n",
       " 'spec',\n",
       " 'for',\n",
       " 'the',\n",
       " 'determin',\n",
       " 'of',\n",
       " 'the',\n",
       " 'pol',\n",
       " 'of',\n",
       " 'planet',\n",
       " 'rady',\n",
       " 'the',\n",
       " 'meas',\n",
       " 'mad',\n",
       " 'with',\n",
       " 'the',\n",
       " 'nrl',\n",
       " 'reflect',\n",
       " 'which',\n",
       " 'is',\n",
       " 'would',\n",
       " 'hav',\n",
       " 'shown',\n",
       " 'a',\n",
       " 'system',\n",
       " 'chang',\n",
       " 'with',\n",
       " 'loc',\n",
       " 'hour',\n",
       " 'angl',\n",
       " 'in',\n",
       " 'the',\n",
       " 'meas',\n",
       " 'intens',\n",
       " 'of',\n",
       " 'ven',\n",
       " 'and',\n",
       " 'jupit',\n",
       " 'if',\n",
       " 'a',\n",
       " 'subst',\n",
       " 'part',\n",
       " 'of',\n",
       " 'the',\n",
       " 'rady',\n",
       " 'had',\n",
       " 'been',\n",
       " 'linear',\n",
       " 'pol',\n",
       " 'rec',\n",
       " 'interferomet',\n",
       " 'meas',\n",
       " 'radhakrishn',\n",
       " 'and',\n",
       " 'robert',\n",
       " 'hav',\n",
       " 'shown',\n",
       " 'the',\n",
       " 'emit',\n",
       " 'of',\n",
       " 'jupit',\n",
       " 'to',\n",
       " ...]"
      ]
     },
     "execution_count": 249,
     "metadata": {},
     "output_type": "execute_result"
    }
   ],
   "source": [
    "singles"
   ]
  },
  {
   "cell_type": "markdown",
   "metadata": {},
   "source": [
    "# 31. \n",
    "Define the variable saying to contain the list ['After', 'all', 'is', 'said', 'and', 'done', ',', 'more',\n",
    "'is', 'said', 'than', 'done', '.']. Process this list using a for loop, and store the length of each word in a new list lengths. Hint: begin by assigning the empty list to lengths, using lengths = []. Then each time through the loop, use append() to add another length value to the list. Now do the same thing using a list comprehension."
   ]
  },
  {
   "cell_type": "code",
   "execution_count": 251,
   "metadata": {},
   "outputs": [],
   "source": [
    "container = ['After', 'all', 'is', 'said', 'and', 'done', ',', 'more',\n",
    "'is', 'said', 'than', 'done', '.']"
   ]
  },
  {
   "cell_type": "code",
   "execution_count": 252,
   "metadata": {},
   "outputs": [
    {
     "data": {
      "text/plain": [
       "3.1538461538461537"
      ]
     },
     "execution_count": 252,
     "metadata": {},
     "output_type": "execute_result"
    }
   ],
   "source": [
    "def letters_per_word(text):\n",
    "    word_lengths = [len(word) for word in text]\n",
    "    return sum(word_lengths)/len(text)\n",
    "\n",
    "letters_per_word(container )"
   ]
  },
  {
   "cell_type": "markdown",
   "metadata": {},
   "source": [
    "# 32 \n",
    "\n",
    "Define a variable silly to contain the string: 'newly formed bland ideas are inexpressible in an infuriating\n",
    "way'. (This happens to be the legitimate interpretation that bilingual English-Spanish speakers can assign to Chomsky's famous nonsense phrase, colorless green ideas sleep furiously according to Wikipedia). Now write code to perform the following tasks:\n",
    "\n",
    "- Split silly into a list of strings, one per word, using Python's split() operation, and save this to a variable called bland.\n",
    "- Extract the second letter of each word in silly and join them into a string, to get 'eoldrnnnna'.\n",
    "- Combine the words in bland back into a single string, using join(). Make sure the words in the resulting string are -separated with whitespace.\n",
    "- Print the words of silly in alphabetical order, one per line.\n"
   ]
  },
  {
   "cell_type": "code",
   "execution_count": 253,
   "metadata": {},
   "outputs": [],
   "source": [
    "silly  =  'newly formed bland ideas are inexpressible in an infuriating way'"
   ]
  },
  {
   "cell_type": "code",
   "execution_count": 254,
   "metadata": {},
   "outputs": [
    {
     "data": {
      "text/plain": [
       "['newly',\n",
       " 'formed',\n",
       " 'bland',\n",
       " 'ideas',\n",
       " 'are',\n",
       " 'inexpressible',\n",
       " 'in',\n",
       " 'an',\n",
       " 'infuriating',\n",
       " 'way']"
      ]
     },
     "execution_count": 254,
     "metadata": {},
     "output_type": "execute_result"
    }
   ],
   "source": [
    "silly.split(\" \")"
   ]
  },
  {
   "cell_type": "code",
   "execution_count": 255,
   "metadata": {},
   "outputs": [
    {
     "data": {
      "text/plain": [
       "'eoldrnnnna'"
      ]
     },
     "execution_count": 255,
     "metadata": {},
     "output_type": "execute_result"
    }
   ],
   "source": [
    "\n",
    "\"\".join([w[1] for w in silly.split(\" \")])\n"
   ]
  },
  {
   "cell_type": "markdown",
   "metadata": {},
   "source": [
    "# 33\n",
    "\n",
    "The index() function can be used to look up items in sequences. For example, 'inexpressible'.index('e') tells us the index of the first position of the letter e.\n",
    "\n",
    "- What happens when you look up a substring, e.g. 'inexpressible'.index('re')?\n",
    "- Define a variable words containing a list of words. Now use words.index() to look up the position of an individual word.\n",
    "- Define a variable silly as in the exercise above. Use the index() function in combination with list slicing to build a list phrase consisting of all the words up to (but not including) in in silly."
   ]
  },
  {
   "cell_type": "code",
   "execution_count": 259,
   "metadata": {},
   "outputs": [
    {
     "data": {
      "text/plain": [
       "26"
      ]
     },
     "execution_count": 259,
     "metadata": {},
     "output_type": "execute_result"
    }
   ],
   "source": [
    "silly.index('re')\n",
    "#It looks for the first sequence of \"re\""
   ]
  },
  {
   "cell_type": "code",
   "execution_count": 260,
   "metadata": {},
   "outputs": [
    {
     "data": {
      "text/plain": [
       "0"
      ]
     },
     "execution_count": 260,
     "metadata": {},
     "output_type": "execute_result"
    }
   ],
   "source": [
    "words = ['this', 'is', 'a','test']\n",
    "words.index('this')\n",
    "#Gets our word"
   ]
  },
  {
   "cell_type": "code",
   "execution_count": 263,
   "metadata": {},
   "outputs": [
    {
     "data": {
      "text/plain": [
       "'newly formed bland ideas are '"
      ]
     },
     "execution_count": 263,
     "metadata": {},
     "output_type": "execute_result"
    }
   ],
   "source": [
    "silly[:silly.index('in')]"
   ]
  },
  {
   "cell_type": "markdown",
   "metadata": {},
   "source": [
    "# 34 \n",
    "Write code to convert nationality adjectives like Canadian and Australian to their corresponding nouns Canada and Australia (see http://en.wikipedia.org/wiki/List_of_adjectival_forms_of_place_names"
   ]
  },
  {
   "cell_type": "code",
   "execution_count": 151,
   "metadata": {},
   "outputs": [],
   "source": [
    "#First we get the data \n",
    "def getHtml(url):\n",
    "    from urllib import request\n",
    "    from bs4 import BeautifulSoup as bs\n",
    "    html = request.urlopen(url).read().decode('utf8') # Get the url\n",
    "    return bs(html, 'html.parser') #Put it in bs4 format"
   ]
  },
  {
   "cell_type": "code",
   "execution_count": 35,
   "metadata": {},
   "outputs": [],
   "source": [
    "url ='http://en.wikipedia.org/wiki/List_of_adjectival_forms_of_place_names'\n",
    "soup = getHtml(url)"
   ]
  },
  {
   "cell_type": "code",
   "execution_count": 36,
   "metadata": {},
   "outputs": [],
   "source": [
    "container = soup.find( 'table', class_ = 'wikitable')"
   ]
  },
  {
   "cell_type": "code",
   "execution_count": 63,
   "metadata": {},
   "outputs": [
    {
     "data": {
      "text/plain": [
       "['Name\\nAdjective\\nDemonym\\n',\n",
       " 'Afro-Eurasia\\nAfro-Eurasian\\nAfro-Eurasians\\n',\n",
       " 'Africa\\nAfrican\\nAfricans\\n',\n",
       " 'Eurasia\\nEurasian\\nEurasians\\n',\n",
       " 'Asia\\nAsian\\nAsians\\n',\n",
       " 'Middle East\\nMiddle Eastern\\nMiddle Easterners\\n',\n",
       " 'Europe\\nEuropean\\nEuropeans\\n',\n",
       " 'Americas\\nAmerican\\nAmericans\\n',\n",
       " 'North America\\nNorth American\\nNorth Americans\\n',\n",
       " 'Caribbean\\nCaribbean\\n\\n',\n",
       " 'West Indies\\nWest Indian\\nWest Indians\\n',\n",
       " 'Central America\\nCentral American\\nCentral Americans\\n',\n",
       " 'Northern America\\nNorthern American\\nNorthern Americans\\n',\n",
       " 'South America\\nSouth American\\nSouth Americans\\n',\n",
       " 'Antarctica\\nAntarctic\\nAntarcticans\\n',\n",
       " 'Oceania\\nOceanian\\nOceanians\\n',\n",
       " 'Australasia\\nAustralasian\\nAustralasians\\n',\n",
       " 'Australiaa\\nAustraliana\\nAustraliansa\\n',\n",
       " 'Zealandia\\nZealandian\\nZealandians\\n',\n",
       " 'Pacific Islands\\nPacific Islands\\nPacific Islanders\\n',\n",
       " '\\naUsually used to identify specifically the Commonwealth of Australia or its people.\\n\\n']"
      ]
     },
     "execution_count": 63,
     "metadata": {},
     "output_type": "execute_result"
    }
   ],
   "source": [
    "noHtml = [i.get_text() for i in container.find_all('tr')]\n",
    "noHtml = [ i[1:] for i in noHtml]\n",
    "noHtml"
   ]
  },
  {
   "cell_type": "code",
   "execution_count": 64,
   "metadata": {},
   "outputs": [
    {
     "data": {
      "text/plain": [
       "['Name\\nAdjective\\nDemonym',\n",
       " 'Afro-Eurasia\\nAfro-Eurasian\\nAfro-Eurasians',\n",
       " 'Africa\\nAfrican\\nAfricans',\n",
       " 'Eurasia\\nEurasian\\nEurasians',\n",
       " 'Asia\\nAsian\\nAsians',\n",
       " 'Middle East\\nMiddle Eastern\\nMiddle Easterners',\n",
       " 'Europe\\nEuropean\\nEuropeans',\n",
       " 'Americas\\nAmerican\\nAmericans',\n",
       " 'North America\\nNorth American\\nNorth Americans',\n",
       " 'Caribbean\\nCaribbean\\n',\n",
       " 'West Indies\\nWest Indian\\nWest Indians',\n",
       " 'Central America\\nCentral American\\nCentral Americans',\n",
       " 'Northern America\\nNorthern American\\nNorthern Americans',\n",
       " 'South America\\nSouth American\\nSouth Americans',\n",
       " 'Antarctica\\nAntarctic\\nAntarcticans',\n",
       " 'Oceania\\nOceanian\\nOceanians',\n",
       " 'Australasia\\nAustralasian\\nAustralasians',\n",
       " 'Australiaa\\nAustraliana\\nAustraliansa',\n",
       " 'Zealandia\\nZealandian\\nZealandians',\n",
       " 'Pacific Islands\\nPacific Islands\\nPacific Islanders',\n",
       " '\\naUsually used to identify specifically the Commonwealth of Australia or its people.\\n']"
      ]
     },
     "execution_count": 64,
     "metadata": {},
     "output_type": "execute_result"
    }
   ],
   "source": [
    "noHtml = [i.get_text() for i in container.find_all('tr')]\n",
    "noHtml = [ i[1:] for i in noHtml]\n",
    "noHtml = [ i[:-1] for i in noHtml]\n",
    "noHtml"
   ]
  },
  {
   "cell_type": "code",
   "execution_count": 66,
   "metadata": {},
   "outputs": [
    {
     "data": {
      "text/plain": [
       "[['Name', 'Adjective', 'Demonym'],\n",
       " ['Afro-Eurasia', 'Afro-Eurasian', 'Afro-Eurasians'],\n",
       " ['Africa', 'African', 'Africans'],\n",
       " ['Eurasia', 'Eurasian', 'Eurasians'],\n",
       " ['Asia', 'Asian', 'Asians'],\n",
       " ['Middle East', 'Middle Eastern', 'Middle Easterners'],\n",
       " ['Europe', 'European', 'Europeans'],\n",
       " ['Americas', 'American', 'Americans'],\n",
       " ['North America', 'North American', 'North Americans'],\n",
       " ['Caribbean', 'Caribbean', ''],\n",
       " ['West Indies', 'West Indian', 'West Indians'],\n",
       " ['Central America', 'Central American', 'Central Americans'],\n",
       " ['Northern America', 'Northern American', 'Northern Americans'],\n",
       " ['South America', 'South American', 'South Americans'],\n",
       " ['Antarctica', 'Antarctic', 'Antarcticans'],\n",
       " ['Oceania', 'Oceanian', 'Oceanians'],\n",
       " ['Australasia', 'Australasian', 'Australasians'],\n",
       " ['Australiaa', 'Australiana', 'Australiansa'],\n",
       " ['Zealandia', 'Zealandian', 'Zealandians'],\n",
       " ['Pacific Islands', 'Pacific Islands', 'Pacific Islanders'],\n",
       " ['',\n",
       "  'aUsually used to identify specifically the Commonwealth of Australia or its people.',\n",
       "  '']]"
      ]
     },
     "execution_count": 66,
     "metadata": {},
     "output_type": "execute_result"
    }
   ],
   "source": [
    "splitoncomma = [i.split('\\n')for i in noHtml]\n",
    "splitoncomma"
   ]
  },
  {
   "cell_type": "code",
   "execution_count": 68,
   "metadata": {},
   "outputs": [
    {
     "data": {
      "text/plain": [
       "['',\n",
       " 'aUsually used to identify specifically the Commonwealth of Australia or its people.',\n",
       " '']"
      ]
     },
     "execution_count": 68,
     "metadata": {},
     "output_type": "execute_result"
    }
   ],
   "source": [
    "splitoncomma.pop(-1)"
   ]
  },
  {
   "cell_type": "code",
   "execution_count": 69,
   "metadata": {},
   "outputs": [
    {
     "data": {
      "text/plain": [
       "[['Name', 'Adjective', 'Demonym'],\n",
       " ['Afro-Eurasia', 'Afro-Eurasian', 'Afro-Eurasians'],\n",
       " ['Africa', 'African', 'Africans'],\n",
       " ['Eurasia', 'Eurasian', 'Eurasians'],\n",
       " ['Asia', 'Asian', 'Asians'],\n",
       " ['Middle East', 'Middle Eastern', 'Middle Easterners'],\n",
       " ['Europe', 'European', 'Europeans'],\n",
       " ['Americas', 'American', 'Americans'],\n",
       " ['North America', 'North American', 'North Americans'],\n",
       " ['Caribbean', 'Caribbean', ''],\n",
       " ['West Indies', 'West Indian', 'West Indians'],\n",
       " ['Central America', 'Central American', 'Central Americans'],\n",
       " ['Northern America', 'Northern American', 'Northern Americans'],\n",
       " ['South America', 'South American', 'South Americans'],\n",
       " ['Antarctica', 'Antarctic', 'Antarcticans'],\n",
       " ['Oceania', 'Oceanian', 'Oceanians'],\n",
       " ['Australasia', 'Australasian', 'Australasians'],\n",
       " ['Australiaa', 'Australiana', 'Australiansa'],\n",
       " ['Zealandia', 'Zealandian', 'Zealandians'],\n",
       " ['Pacific Islands', 'Pacific Islands', 'Pacific Islanders']]"
      ]
     },
     "execution_count": 69,
     "metadata": {},
     "output_type": "execute_result"
    }
   ],
   "source": [
    "splitoncomma"
   ]
  },
  {
   "cell_type": "code",
   "execution_count": 98,
   "metadata": {},
   "outputs": [],
   "source": [
    "#Now that we have loaded the data we can manipulate it \n",
    "import pandas as pd\n",
    "df = pd.DataFrame(splitoncomma)\n",
    "df.columns = df.iloc[0]\n",
    "df.drop(0, axis =0,inplace =True)"
   ]
  },
  {
   "cell_type": "code",
   "execution_count": 100,
   "metadata": {},
   "outputs": [
    {
     "data": {
      "text/html": [
       "<div>\n",
       "<style scoped>\n",
       "    .dataframe tbody tr th:only-of-type {\n",
       "        vertical-align: middle;\n",
       "    }\n",
       "\n",
       "    .dataframe tbody tr th {\n",
       "        vertical-align: top;\n",
       "    }\n",
       "\n",
       "    .dataframe thead th {\n",
       "        text-align: right;\n",
       "    }\n",
       "</style>\n",
       "<table border=\"1\" class=\"dataframe\">\n",
       "  <thead>\n",
       "    <tr style=\"text-align: right;\">\n",
       "      <th></th>\n",
       "      <th>Name</th>\n",
       "      <th>Adjective</th>\n",
       "      <th>Demonym</th>\n",
       "    </tr>\n",
       "  </thead>\n",
       "  <tbody>\n",
       "    <tr>\n",
       "      <th>1</th>\n",
       "      <td>Afro-Eurasia</td>\n",
       "      <td>Afro-Eurasian</td>\n",
       "      <td>Afro-Eurasians</td>\n",
       "    </tr>\n",
       "    <tr>\n",
       "      <th>2</th>\n",
       "      <td>Africa</td>\n",
       "      <td>African</td>\n",
       "      <td>Africans</td>\n",
       "    </tr>\n",
       "    <tr>\n",
       "      <th>3</th>\n",
       "      <td>Eurasia</td>\n",
       "      <td>Eurasian</td>\n",
       "      <td>Eurasians</td>\n",
       "    </tr>\n",
       "    <tr>\n",
       "      <th>4</th>\n",
       "      <td>Asia</td>\n",
       "      <td>Asian</td>\n",
       "      <td>Asians</td>\n",
       "    </tr>\n",
       "    <tr>\n",
       "      <th>5</th>\n",
       "      <td>Middle East</td>\n",
       "      <td>Middle Eastern</td>\n",
       "      <td>Middle Easterners</td>\n",
       "    </tr>\n",
       "  </tbody>\n",
       "</table>\n",
       "</div>"
      ],
      "text/plain": [
       "0          Name       Adjective            Demonym\n",
       "1  Afro-Eurasia   Afro-Eurasian     Afro-Eurasians\n",
       "2        Africa         African           Africans\n",
       "3       Eurasia        Eurasian          Eurasians\n",
       "4          Asia           Asian             Asians\n",
       "5   Middle East  Middle Eastern  Middle Easterners"
      ]
     },
     "execution_count": 100,
     "metadata": {},
     "output_type": "execute_result"
    }
   ],
   "source": [
    "df.head()"
   ]
  },
  {
   "cell_type": "code",
   "execution_count": null,
   "metadata": {},
   "outputs": [],
   "source": [
    "#Now the goal is to make a function which will change the Adjective to a noun(person,place or thing)\n",
    "df['Adjective']\n"
   ]
  },
  {
   "cell_type": "code",
   "execution_count": 111,
   "metadata": {},
   "outputs": [],
   "source": [
    "def adjective_noun(word):\n",
    "\n",
    "    if word == 'Caribbean':\n",
    "        word = word\n",
    "    elif word[-1] == 'n':\n",
    "        word = word[:-1]\n",
    "    return word"
   ]
  },
  {
   "cell_type": "code",
   "execution_count": 112,
   "metadata": {},
   "outputs": [
    {
     "data": {
      "text/plain": [
       "['Afro-Eurasia',\n",
       " 'Africa',\n",
       " 'Eurasia',\n",
       " 'Asia',\n",
       " 'Middle Easter',\n",
       " 'Europea',\n",
       " 'America',\n",
       " 'North America',\n",
       " 'Caribbean',\n",
       " 'West India',\n",
       " 'Central America',\n",
       " 'Northern America',\n",
       " 'South America',\n",
       " 'Antarctic',\n",
       " 'Oceania',\n",
       " 'Australasia',\n",
       " 'Australiana',\n",
       " 'Zealandia',\n",
       " 'Pacific Islands']"
      ]
     },
     "execution_count": 112,
     "metadata": {},
     "output_type": "execute_result"
    }
   ],
   "source": [
    "[adjective_noun(i)for i in df['Adjective']]"
   ]
  },
  {
   "cell_type": "markdown",
   "metadata": {},
   "source": [
    "# 35. \n",
    "\n",
    " Read the LanguageLog post on phrases of the form as best as p can and as best p can, where p is a pronoun. Investigate this phenomenon with the help of a corpus and the findall() method for searching tokenized text described in 3.5. http://itre.cis.upenn.edu/~myl/languagelog/archives/002733.html"
   ]
  },
  {
   "cell_type": "code",
   "execution_count": 127,
   "metadata": {},
   "outputs": [],
   "source": [
    "from nltk.corpus import brown\n",
    "import re"
   ]
  },
  {
   "cell_type": "code",
   "execution_count": 146,
   "metadata": {},
   "outputs": [],
   "source": [
    "pattern = re.compile('best \\b\\w* can')"
   ]
  },
  {
   "cell_type": "code",
   "execution_count": 147,
   "metadata": {},
   "outputs": [],
   "source": [
    "text = brown.raw()\n"
   ]
  },
  {
   "cell_type": "code",
   "execution_count": 149,
   "metadata": {},
   "outputs": [
    {
     "data": {
      "text/plain": [
       "[]"
      ]
     },
     "execution_count": 149,
     "metadata": {},
     "output_type": "execute_result"
    }
   ],
   "source": [
    "#idk\n",
    "re.findall(pattern, text)"
   ]
  },
  {
   "cell_type": "markdown",
   "metadata": {},
   "source": [
    "# 36 \n",
    "\n",
    "Study the lolcat version of the book of Genesis, accessible as nltk.corpus.genesis.words('lolcat.txt'), and the rules for converting text into lolspeak at http://www.lolcatbible.com/index.php?title=How_to_speak_lolcat. Define regular expressions to convert English words into corresponding lolspeak words."
   ]
  },
  {
   "cell_type": "code",
   "execution_count": 150,
   "metadata": {},
   "outputs": [
    {
     "data": {
      "text/plain": [
       "['Oh', 'hai', '.', 'In', 'teh', 'beginnin', 'Ceiling', ...]"
      ]
     },
     "execution_count": 150,
     "metadata": {},
     "output_type": "execute_result"
    }
   ],
   "source": [
    "nltk.corpus.genesis.words('lolcat.txt')"
   ]
  },
  {
   "cell_type": "code",
   "execution_count": null,
   "metadata": {},
   "outputs": [],
   "source": []
  },
  {
   "cell_type": "markdown",
   "metadata": {},
   "source": [
    "# 37\n",
    "\n",
    "Read about the re.sub() function for string substitution using regular expressions, using help(re.sub) and by consulting the further readings for this chapter. Use re.sub in writing code to remove HTML tags from an HTML file, and to normalize whitespace.\n",
    "\n"
   ]
  },
  {
   "cell_type": "code",
   "execution_count": 152,
   "metadata": {},
   "outputs": [],
   "source": [
    "#using 34 url\n",
    "url ='http://en.wikipedia.org/wiki/List_of_adjectival_forms_of_place_names'\n",
    "soup = getHtml(url)"
   ]
  },
  {
   "cell_type": "code",
   "execution_count": 155,
   "metadata": {},
   "outputs": [],
   "source": [
    "# str(soup.fin)\n",
    "#Rather than do it on the entire html page, we will start of  small"
   ]
  },
  {
   "cell_type": "code",
   "execution_count": 157,
   "metadata": {},
   "outputs": [],
   "source": [
    "container = soup.find( 'table', class_ = 'wikitable')\n",
    "text= str(container)"
   ]
  },
  {
   "cell_type": "code",
   "execution_count": 211,
   "metadata": {},
   "outputs": [
    {
     "data": {
      "text/plain": [
       "'\\n\\nName\\nAdjective\\nDemonym\\n\\n\\nAfro-Eurasia\\nAfro-Eurasian\\nAfro-Eurasians\\n\\n\\nAfrica\\nAfrican\\nAfricans\\n\\n\\nEurasia\\nEurasian\\nEurasians\\n\\n\\nAsia\\nAsian\\nAsians\\n\\n\\nMiddle East\\nMiddle Eastern\\nMiddle Easterners\\n\\n\\nEurope\\nEuropean\\nEuropeans\\n\\n\\nAmericas\\nAmerican\\nAmericans\\n\\n\\nNorth America\\nNorth American\\nNorth Americans\\n\\n\\nCaribbean\\nCaribbean\\n\\n\\n\\nWest Indies\\nWest Indian\\nWest Indians\\n\\n\\nCentral America\\nCentral American\\nCentral Americans\\n\\n\\nNorthern America\\nNorthern American\\nNorthern Americans\\n\\n\\nSouth America\\nSouth American\\nSouth Americans\\n\\n\\nAntarctica\\nAntarctic\\nAntarcticans\\n\\n\\nOceania\\nOceanian\\nOceanians\\n\\n\\nAustralasia\\nAustralasian\\nAustralasians\\n\\n\\nAustraliaa\\nAustraliana\\nAustraliansa\\n\\n\\nZealandia\\nZealandian\\nZealandians\\n\\n\\nPacific Islands\\nPacific Islands\\nPacific Islanders\\n\\n\\n\\naUsually used to identify specifically the Commonwealth of Australia or its people.\\n\\n'"
      ]
     },
     "execution_count": 211,
     "metadata": {},
     "output_type": "execute_result"
    }
   ],
   "source": [
    "pattern =re.compile( r'<[^>]+>+')\n",
    "#sub(pattern, replace, string)\n",
    "pattern.sub(repl='',string = text)"
   ]
  },
  {
   "cell_type": "code",
   "execution_count": 212,
   "metadata": {},
   "outputs": [],
   "source": [
    "pattern =re.compile( r'<[^>]+>')\n",
    "#sub(pattern, replace, string)\n",
    "processed_text = pattern.sub(repl='',string = text)"
   ]
  },
  {
   "cell_type": "code",
   "execution_count": 213,
   "metadata": {},
   "outputs": [
    {
     "name": "stdout",
     "output_type": "stream",
     "text": [
      "  Name Adjective Demonym   Afro-Eurasia Afro-Eurasian Afro-Eurasians   Africa African Africans   Eurasia Eurasian Eurasians   Asia Asian Asians   Middle East Middle Eastern Middle Easterners   Europe European Europeans   Americas American Americans   North America North American North Americans   Caribbean Caribbean    West Indies West Indian West Indians   Central America Central American Central Americans   Northern America Northern American Northern Americans   South America South American South Americans   Antarctica Antarctic Antarcticans   Oceania Oceanian Oceanians   Australasia Australasian Australasians   Australiaa Australiana Australiansa   Zealandia Zealandian Zealandians   Pacific Islands Pacific Islands Pacific Islanders    aUsually used to identify specifically the Commonwealth of Australia or its people.  \n"
     ]
    }
   ],
   "source": [
    "#sets a new pattern for normalizing whitespace.\n",
    "pattern = re.compile(r'\\s')\n",
    "\n",
    "processed_text = pattern.sub(' ', processed_text)\n",
    "\n",
    "print(processed_text)"
   ]
  },
  {
   "cell_type": "markdown",
   "metadata": {},
   "source": [
    "# 38\n",
    "\n",
    "An interesting challenge for tokenization is words that have been split across a line-break. E.g. if long-term is split, then we have the string long-\\nterm.\n",
    "\n",
    "- Write a regular expression that identifies words that are hyphenated at a line-break. The expression will need to include the \\n character.\n",
    "- Use re.sub() to remove the \\n character from these words.\n",
    "- How might you identify words that should not remain hyphenated once the newline is removed, e.g. 'encyclo-\\npedia'?x"
   ]
  },
  {
   "cell_type": "code",
   "execution_count": 222,
   "metadata": {},
   "outputs": [],
   "source": [
    "testText = '''This is a test of the long-\n",
    "term lets get it'''"
   ]
  },
  {
   "cell_type": "code",
   "execution_count": 223,
   "metadata": {},
   "outputs": [
    {
     "data": {
      "text/plain": [
       "'This is a test of the long-\\nterm lets get it'"
      ]
     },
     "execution_count": 223,
     "metadata": {},
     "output_type": "execute_result"
    }
   ],
   "source": [
    "testText"
   ]
  },
  {
   "cell_type": "code",
   "execution_count": 239,
   "metadata": {},
   "outputs": [
    {
     "data": {
      "text/plain": [
       "'This is a test of the  lets get it'"
      ]
     },
     "execution_count": 239,
     "metadata": {},
     "output_type": "execute_result"
    }
   ],
   "source": [
    "pattern = re.compile(r'\\w+-\\n\\w+')\n",
    "pattern.sub('',testText) #My pattern ids the case we are looking for"
   ]
  },
  {
   "cell_type": "code",
   "execution_count": 244,
   "metadata": {},
   "outputs": [
    {
     "data": {
      "text/plain": [
       "'This is a test of the long-term lets get it'"
      ]
     },
     "execution_count": 244,
     "metadata": {},
     "output_type": "execute_result"
    }
   ],
   "source": [
    "#We now need to remove the \\n\n",
    "pattern = re.compile(r'-\\n')\n",
    "pattern.sub('-',testText) #My pattern ids the case we are looking for"
   ]
  },
  {
   "cell_type": "markdown",
   "metadata": {},
   "source": [
    "#### How to ID when words no longer need to be hyphenated? \n",
    "\n",
    "**[Answer](https://github.com/walshbr/nltk/blob/master/ch_three/38.py)**: \n",
    "\n",
    "I would put that it in a function with a branch. It looks up the hyphenated word in the dictionary. If it successfully finds the word in the dictionary, it keeps the line-break. It would maybe just have to look up each individual section, since you're basically looking for hyphenated phrases. So it would look to make sure both words were in the dictionary.\n",
    "\n"
   ]
  },
  {
   "cell_type": "markdown",
   "metadata": {},
   "source": [
    "# 39.\n",
    "\n",
    "Read the Wikipedia entry on [Soundex](https://en.wikipedia.org/wiki/Soundex). Implement this algorithm in Python."
   ]
  },
  {
   "cell_type": "code",
   "execution_count": 322,
   "metadata": {},
   "outputs": [],
   "source": [
    "def soundex(word):\n",
    "    vowels = ['a', 'e', 'i', 'o', 'u', 'y', 'h', 'w']\n",
    "    for vowel in vowels:\n",
    "        if vowel in word:\n",
    "            vindex = word.index(vowel)\n",
    "            word = word[:vindex]  + word[vindex+1:] \n",
    "    \n",
    "    mapping = {'b':'1', 'f':'1', 'p':'1', 'v':'1', 'c':'2', 'g':'2', 'j':'2', 'k':'2', 'q':'2', 's':'2', 'x':'2', 'z':'2', 'd':'3', 't' :'3', \n",
    "              'l': '4', 'm':'5', 'n':'5', 'r':'6'}\n",
    "    for key in mapping:\n",
    "        for letter in key:\n",
    "            if letter in word:\n",
    "                kindex = word.index(letter)\n",
    "                word =word[:kindex] + mapping[key]+ word[kindex+1:]\n",
    "    \n",
    "    return word"
   ]
  },
  {
   "cell_type": "code",
   "execution_count": 323,
   "metadata": {},
   "outputs": [
    {
     "data": {
      "text/plain": [
       "'R163'"
      ]
     },
     "execution_count": 323,
     "metadata": {},
     "output_type": "execute_result"
    }
   ],
   "source": [
    "word=  'Robert'\n",
    "soundex(word)"
   ]
  },
  {
   "cell_type": "markdown",
   "metadata": {},
   "source": [
    "# 40 \n",
    "\n",
    "Obtain raw texts from two or more genres and compute their respective reading difficulty scores as in the earlier exercise on reading difficulty. E.g. compare ABC Rural News and ABC Science News (nltk.corpus.abc). Use Punkt to perform sentence segmentation."
   ]
  },
  {
   "cell_type": "code",
   "execution_count": 8,
   "metadata": {},
   "outputs": [],
   "source": [
    "import nltk.corpus\n",
    "def ARI(category):\n",
    "    #4.71 μw + 0.5 μs - 21.43\n",
    "    return 4.71*letters_per_word(category) + .5* words_per_sentence(category) -21.43\n",
    "\n",
    "def words_per_sentence(category):\n",
    "    #Rather than clean this of punctuation I will simply process it. \n",
    "    sents = nltk.corpus.abc.sents(category)\n",
    "    sent_lengths = [len(s) for s in sents]\n",
    "    return sum(sent_lengths)/len(sents)\n",
    "\n",
    "def letters_per_word(category):\n",
    "    text = [ w.lower() for w in nltk.corpus.abc.words( category) if w.isalpha() ] \n",
    "    word_lengths = [len(word) for word in text]\n",
    "    return sum(word_lengths)/len(text)"
   ]
  },
  {
   "cell_type": "code",
   "execution_count": 9,
   "metadata": {},
   "outputs": [
    {
     "data": {
      "text/plain": [
       "['rural.txt', 'science.txt']"
      ]
     },
     "execution_count": 9,
     "metadata": {},
     "output_type": "execute_result"
    }
   ],
   "source": [
    "nltk.corpus.abc.fileids()"
   ]
  },
  {
   "cell_type": "code",
   "execution_count": 10,
   "metadata": {},
   "outputs": [
    {
     "data": {
      "text/plain": [
       "14.370615008250788"
      ]
     },
     "execution_count": 10,
     "metadata": {},
     "output_type": "execute_result"
    }
   ],
   "source": [
    "ARI('rural.txt')"
   ]
  },
  {
   "cell_type": "code",
   "execution_count": 11,
   "metadata": {},
   "outputs": [
    {
     "data": {
      "text/plain": [
       "['PM', 'denies', 'knowledge', 'of', 'AWB', 'kickbacks', ...]"
      ]
     },
     "execution_count": 11,
     "metadata": {},
     "output_type": "execute_result"
    }
   ],
   "source": [
    "nltk.corpus.abc.words('rural.txt')"
   ]
  },
  {
   "cell_type": "code",
   "execution_count": 12,
   "metadata": {},
   "outputs": [
    {
     "data": {
      "text/plain": [
       "14.815587803656989"
      ]
     },
     "execution_count": 12,
     "metadata": {},
     "output_type": "execute_result"
    }
   ],
   "source": [
    "ARI('science.txt')"
   ]
  },
  {
   "cell_type": "markdown",
   "metadata": {},
   "source": [
    "# 41 Rewrite the following nested loop as a nested list comprehension:\n",
    "\n"
   ]
  },
  {
   "cell_type": "code",
   "execution_count": null,
   "metadata": {},
   "outputs": [],
   "source": [
    "# this is the example \n",
    ">>> words = ['attribution', 'confabulation', 'elocution',\n",
    "...          'sequoia', 'tenacious', 'unidirectional']\n",
    ">>> vsequences = set()\n",
    ">>> for word in words:\n",
    "...     vowels = []\n",
    "...     for char in word:\n",
    "...         if char in 'aeiou':\n",
    "...             vowels.append(char)\n",
    "...     vsequences.add(''.join(vowels))\n",
    ">>> sorted(vsequences)\n",
    "['aiuio', 'eaiou', 'eouio', 'euoia', 'oauaio', 'uiieioa']"
   ]
  },
  {
   "cell_type": "code",
   "execution_count": 16,
   "metadata": {},
   "outputs": [
    {
     "data": {
      "text/plain": [
       "['a', 'e', 'i', 'o', 'u']"
      ]
     },
     "execution_count": 16,
     "metadata": {},
     "output_type": "execute_result"
    }
   ],
   "source": [
    "words = ['attribution', 'confabulation', 'elocution','sequoia', 'tenacious', 'unidirectional']\n",
    "sorted(set(''.join([char for word in words for char in word if char in 'aeiou'])))"
   ]
  },
  {
   "cell_type": "code",
   "execution_count": null,
   "metadata": {},
   "outputs": [],
   "source": []
  },
  {
   "cell_type": "code",
   "execution_count": null,
   "metadata": {},
   "outputs": [],
   "source": []
  }
 ],
 "metadata": {
  "kernelspec": {
   "display_name": "Python 3",
   "language": "python",
   "name": "python3"
  },
  "language_info": {
   "codemirror_mode": {
    "name": "ipython",
    "version": 3
   },
   "file_extension": ".py",
   "mimetype": "text/x-python",
   "name": "python",
   "nbconvert_exporter": "python",
   "pygments_lexer": "ipython3",
   "version": "3.7.3"
  }
 },
 "nbformat": 4,
 "nbformat_minor": 4
}
