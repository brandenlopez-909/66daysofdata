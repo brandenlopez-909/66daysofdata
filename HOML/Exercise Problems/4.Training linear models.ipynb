{
 "cells": [
  {
   "cell_type": "markdown",
   "metadata": {},
   "source": [
    "# 1.  Which Linear Regression training algorithm can you use if you have a training set with millions of features?\n",
    "\n",
    "## My solution \n",
    "\n",
    "\n",
    "It is almost always preferable to have at least a little bit of regularization, so generally you should avoid plain Linear Regression.\n",
    "\n",
    "For numeric regression Ridge is a good default, but if you suspect that only a few features are useful, you should prefer Lasso or Elastic Net because they tend to reduce the useless features’ weights down to zero, as we have discussed. In general, Elastic Net is preferred over Lasso because Lasso may behave erratically when the number of features is greater than the number of training instances or when several features are strongly correlated.\n",
    "\n",
    "For categorical regression, it is best to use logistic regression for binary cases, or softmax regression for multiple classes.\n",
    "\n",
    "## Book Solution \n",
    "\n",
    "If you have a training set with millions of features you can use Stochastic Gradient Descent or Mini-batch Gradient Descent, and perhaps Batch Gradient Descent if the training set fits in memory. But you cannot use the Normal Equation or the SVD approach because the computational complexity grows quickly (more than quadratically) with the number of features."
   ]
  },
  {
   "cell_type": "markdown",
   "metadata": {},
   "source": [
    "# 2 . Suppose the features in your training set have very different scales. Which algorithms might suffer from this, and how? What can you do about it?\n",
    "\n",
    "## My solution \n",
    "\n",
    "For most regularized models, they are sensitive to the scale of the input features. To fix this we can use StandardScaler to scale them. \n",
    "\n",
    "## Book Solution \n",
    "\n",
    "If the features in your training set have very different scales, the cost function will have the shape of an elongated bowl, so the Gradient Descent algorithms will take a long time to converge. To solve this you should scale the data before training the model. Note that the Normal Equation or SVD approach will work just fine without scaling. Moreover, regularized models may converge to a suboptimal solution if the features are not scaled: since regularization penalizes large weights, features with smaller values will tend to be ignored compared to features with larger values."
   ]
  },
  {
   "cell_type": "markdown",
   "metadata": {},
   "source": [
    "# 3. Can Gradient Descent get stuck in a local minimum when training a Logistic Regression model?\n",
    "\n",
    "## My Solution \n",
    "\n",
    "The good news is that this cost function is convex, so Gradient Descent (or any other optimization algorithm) is guaranteed to find the global minimum (if the learning rate is not too large and you wait long enough)\n",
    "\n",
    "## Book Solution \n",
    "\n",
    "Gradient Descent cannot get stuck in a local minimum when training a Logistic Regression model because the cost function is convex"
   ]
  },
  {
   "cell_type": "markdown",
   "metadata": {},
   "source": [
    "# 4. Do all Gradient Descent algorithms lead to the same model, provided you let them run long enough?\n",
    "\n",
    "## My solution \n",
    " \n",
    "GD on convex cost functions will eventually lead to the same model, but when the cost function is not convex it might not occur. This is because the learning rate(step size) might not be able to escape a local minimum, more so the learning rate might overshot the target. Because of this the learning rate, and threshhold must be correctly specified in additition to \"running them long enough\". \n",
    "\n",
    "## Book solution \n",
    "\n",
    "If the optimization problem is convex (such as Linear Regression or Logistic Regression), and assuming the learning rate is not too high, then all Gradient Descent algorithms will approach the global optimum and end up producing fairly similar models. However, unless you gradually reduce the learning rate, Stochastic GD and Mini-batch GD will never truly converge; instead, they will keep jumping back and forth around the global optimum. This means that even if you let them run for a very long time, these Gradient Descent algorithms will produce slightly different models."
   ]
  },
  {
   "cell_type": "markdown",
   "metadata": {},
   "source": [
    "# 5. Suppose you use Batch Gradient Descent and you plot the validation error at every epoch. If you notice that the validation error consistently goes up, what is likely going on? How can you fix this?\n",
    "\n",
    "## My solution\n",
    "\n",
    "To begin, validation error is the error between the model's predicted labels and the real labels. \n",
    "\n",
    "\n",
    "If the validation error consistently goes up, there could be too little data which causes the model to predict terribly. \n",
    "\n",
    "## Book Solution \n",
    "\n",
    "If the validation error consistently goes up after every epoch, then one possibility is that the learning rate is too high and the algorithm is diverging. If the training error also goes up, then this is clearly the problem and you should reduce the learning rate. However, if the training error is not going up, then your model is overfitting the training set and you should stop training."
   ]
  },
  {
   "cell_type": "markdown",
   "metadata": {},
   "source": [
    "# 6. Is it a good idea to stop Mini-batch Gradient Descent immediately when the validation error goes up?\n",
    "\n",
    "\n",
    "## My solution \n",
    "\n",
    "No, Mini-Batch GD tends to walk around, thus is the validation error will fluctuate. A good learning schedule will help it converge to the proper solution. \n",
    "\n",
    "## Book Solution \n",
    "\n",
    "Due to their random nature, neither Stochastic Gradient Descent nor Mini-batch Gradient Descent is guaranteed to make progress at every single training iteration. So if you immediately stop training when the validation error goes up, you may stop much too early, before the optimum is reached. A better option is to save the model at regular intervals; then, when it has not improved for a long time (meaning it will probably never beat the record), you can revert to the best saved model."
   ]
  },
  {
   "cell_type": "markdown",
   "metadata": {},
   "source": [
    "# 7. Which Gradient Descent algorithm (among those we discussed) will reach the vicinity of the optimal solution the fastest? Which will actually converge? How can you make the others converge as well?\n",
    "\n",
    "## My solution \n",
    "\n",
    "The two GD that can quickly near the minimum are SGD and mini-batch. By number of instances(epochs) it is mini-batch gradient descent, but something tells me that SGD is less computationally heavy.  \n",
    "\n",
    "The one that will converge is batch-gradient discent and is the most computationally taxing of the algorithms listed so far.\n",
    "\n",
    "The others can converge by setting a good learning rate. That is, step size and threshold. \n",
    "\n",
    "## Book Solution \n",
    "\n",
    "Stochastic Gradient Descent has the fastest training iteration since it considers only one training instance at a time, so it is generally the first to reach the vicinity of the global optimum (or Mini-batch GD with a very small mini-batch size). However, only Batch Gradient Descent will actually converge, given enough training time. As mentioned, Stochastic GD and Mini-batch GD will bounce around the optimum, unless you gradually reduce the learning rate."
   ]
  },
  {
   "cell_type": "markdown",
   "metadata": {},
   "source": [
    "# 8. Suppose you are using Polynomial Regression. You plot the learning curves and you notice that there is a large gap between the training error and the validation error. What is happening? What are three ways to solve this?\n",
    "\n",
    "The gap inbetween the learning and training could indicate a few things. A large gap with a plateu indicates underfitting, to fix this a model with higher complexity is needed. \n",
    "\n",
    "If the gap is much smaller but the model performs significantly better on the training data than on the validation data, it indicates an overfitting model. One way to improve an overfitting model is to feed it more training data until the validation error reaches the training error.\n",
    "\n",
    "Lastly, the bias/variance trade off tells us we can clean up the data(eg. fix the data sources, such as broken sensors, or detect and remove outliers).\n",
    "\n",
    "\n",
    "## Book Solution \n",
    "\n",
    "If the validation error is much higher than the training error, this is likely because your model is overfitting the training set. One way to try to fix this is to reduce the polynomial degree: a model with fewer degrees of freedom is less likely to overfit. Another thing you can try is to regularize the model—for example, by adding an ℓ2 penalty (Ridge) or an ℓ1 penalty (Lasso) to the cost function. This will also reduce the degrees of freedom of the model. Lastly, you can try to increase the size of the training set."
   ]
  },
  {
   "cell_type": "markdown",
   "metadata": {},
   "source": [
    "# 9 Suppose you are using Ridge Regression and you notice that the training error and the validation error are almost equal and fairly high. Would you say that the model suffers from high bias or high variance? Should you increase the regularization hyperparameter α or reduce it?\n",
    "\n",
    "## My solution \n",
    "\n",
    "A smaller gap could indicated overfitting, since Ridge Regression uses complexities higher than a linear model, it is likely due to high variance. Reducing the regularizaiton parameter can decrease the high variance and thus where the errors meet one another. Due the trade off, it might lead to underfitting. \n",
    "\n",
    "## Book Solution \n",
    "\n",
    "If both the training error and the validation error are almost equal and fairly high, the model is likely underfitting the training set, which means it has a high bias. You should try reducing the regularization hyperparameter α."
   ]
  },
  {
   "cell_type": "markdown",
   "metadata": {},
   "source": [
    "# 10. Why would you want to use:\n",
    "\n",
    "- Ridge Regression instead of plain Linear Regression (i.e., without any regularization)?\n",
    "\n",
    "- Lasso instead of Ridge Regression?\n",
    "\n",
    "- Elastic Net instead of Lasso?\n",
    "\n",
    "## My solution \n",
    "\n",
    "- Linear regression has a high bias and and exihibts underfitting. Ridge regression increases the complexity and reduces the bias error. \n",
    "\n",
    "- Lasso regression automatically performs feature selction by setting pertain parameters $\\theta$ to zero. Thus if there are many features you do not want to explore, this words well\n",
    "\n",
    "- Lasso regression fails when the number of features m, is greater than the data instances n, or there is a high correlation between features.   \n",
    "\n",
    "## Book Solution \n",
    "\n",
    "- A model with some regularization typically performs better than a model without any regularization, so you should generally prefer Ridge Regression over plain Linear Regression.\n",
    "\n",
    "- Lasso Regression uses an ℓ1 penalty, which tends to push the weights down to exactly zero. This leads to sparse models, where all weights are zero except for the most important weights. This is a way to perform feature selection automatically, which is good if you suspect that only a few features actually matter. When you are not sure, you should prefer Ridge Regression.\n",
    "\n",
    "Elastic Net is generally preferred over Lasso since Lasso may behave erratically in some cases (when several features are strongly correlated or when there are more features than training instances). However, it does add an extra hyperparameter to tune. If you want Lasso without the erratic behavior, you can just use Elastic Net with an l1_ratio close to 1."
   ]
  },
  {
   "cell_type": "markdown",
   "metadata": {},
   "source": [
    "# 11. Suppose you want to classify pictures as outdoor/indoor and daytime/nighttime. Should you implement two Logistic Regression classifiers or one Softmax Regression classifier?\n",
    "\n",
    "## My solution\n",
    "\n",
    "For regression classifications, when there is more than 2 features, use Softmax Regression. "
   ]
  }
 ],
 "metadata": {
  "kernelspec": {
   "display_name": "Python 3",
   "language": "python",
   "name": "python3"
  },
  "language_info": {
   "codemirror_mode": {
    "name": "ipython",
    "version": 3
   },
   "file_extension": ".py",
   "mimetype": "text/x-python",
   "name": "python",
   "nbconvert_exporter": "python",
   "pygments_lexer": "ipython3",
   "version": "3.7.3"
  }
 },
 "nbformat": 4,
 "nbformat_minor": 4
}
